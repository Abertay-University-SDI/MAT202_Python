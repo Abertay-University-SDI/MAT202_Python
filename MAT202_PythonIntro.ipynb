{
 "cells": [
  {
   "cell_type": "markdown",
   "id": "6ec91ce8",
   "metadata": {
    "id": "6ec91ce8"
   },
   "source": [
    "\n",
    "# Introduction to Python\n",
    "\n",
    "Short introduction to fundamental commands and structure of Python notebooks, as needed for this workbook.\n"
   ]
  },
  {
   "cell_type": "markdown",
   "id": "-I-mGQzvALt3",
   "metadata": {
    "id": "-I-mGQzvALt3"
   },
   "source": [
    "## General introduction\n",
    "\n",
    "This workbook contains examples of simple Python commands and programs. These examples aim to enhance understanding of the dynamics component of MAT201. \n",
    "Students can use Python to check their answers and visually see the mathematics in action. More broadly, a wide knowledge and ability to use other programming languages may help with problem solving and employability. \n",
    "\n",
    "Python is an open-source programming language used extensively around the world. It is also vital for carrying out Scientific Computation.\n",
    "\n",
    "This workbook comprises of a series of Jupyter notebooks.\n",
    "Jupyter and python can be launched through the Anaconda data science platform on an individual machine. Anaconda can be downloaded here:\n",
    "\n",
    "[https://www.anaconda.com](https://www.anaconda.com)\n",
    "\n",
    "Jupyter notebooks combines sections of markdown text (which can include mathematical expressions) with executable elements of (Python) code. The executable elements appear in this workbook as grey boxes; when the workbook was created, *all* code elements were ran, and any output from them is seen directly below them.\n",
    "\n",
    "The big advantage of this workbook is this:\n",
    "\n",
    "**You can download each notebook to your computer or to the cloud and run all the code elements for yourself!**\n",
    "\n",
    "I encourage you to read through each page of the workbook, then choose one of two options:\n",
    " \n",
    "![rocket](https://github.com/Abertay-University-SDI/MAT201_Python/blob/main/rocket.png?raw=1)\n",
    "![download](https://github.com/Abertay-University-SDI/MAT201_Python/blob/main/down.png?raw=1)\n",
    "\n",
    "1.   click the rocket symbol  at the top of the page and launch the page in Google Colab.\n",
    "2.   click the arrow symbol  at the top of the page, and download the notebook as a '.ipynb' file, in order to run the examples using jupyter-notebook.\n",
    "\n",
    "I recommend using [Google Colab](https://colab.research.google.com/), unless you are confident that you have installed anaconda and jupyter notebook correctly on your machine. You will need a Google account to perform cloud computing, but executing the code elements is nearly identical in both Jupyter and Colab."
   ]
  },
  {
   "cell_type": "markdown",
   "id": "cR4EewJ7VEvT",
   "metadata": {
    "id": "cR4EewJ7VEvT"
   },
   "source": [
    "## Executing Jupyter notebook code\n",
    "\n",
    "Notebooks in Jupyter look like this: ![Jupyter screenshot](https://github.com/Abertay-University-SDI/MAT201_Python/blob/main/JupyterNotebook_my_first_plot.png?raw=1)\n",
    "\n",
    "Note that they comprise of markdown cells and code cells. This text is a markdown cell. Below, you can see my first code cell, containing the classic first command:"
   ]
  },
  {
   "cell_type": "code",
   "execution_count": 1,
   "id": "vqyaiKHHVEJi",
   "metadata": {
    "colab": {
     "base_uri": "https://localhost:8080/"
    },
    "id": "vqyaiKHHVEJi",
    "outputId": "9db12b80-4d84-4f61-f05f-02612a4ce1f9"
   },
   "outputs": [
    {
     "name": "stdout",
     "output_type": "stream",
     "text": [
      "Hello, World\n"
     ]
    }
   ],
   "source": [
    "print(\"Hello, World\")"
   ]
  },
  {
   "cell_type": "markdown",
   "id": "Vt7Aw8S_WeVN",
   "metadata": {
    "id": "Vt7Aw8S_WeVN"
   },
   "source": [
    "The output should always appear below each code cell (if there is any).\n",
    "\n",
    "Running the cell requires using SHIFT + ENTER. (In Colab, you may also click the play button next to each code cell to run it).\n",
    "\n",
    "If you hit ENTER without the shift, the notebook will open the cell for editing, or perform a carriage return within that cell instead. You can edit code or text, then run it with SHIFT + ENTER.\n",
    "\n",
    "Try modifying this statement yourself: **Python is ....**\n",
    "\n",
    "I encourage you to edit copies of notebooks (to augment your lecture notes) and use SAVE AS (in Colab or Jupyter) to store your own personal copy of them to your own computer or OneDrive. "
   ]
  },
  {
   "cell_type": "markdown",
   "id": "lL5a9mJDWqV0",
   "metadata": {
    "id": "lL5a9mJDWqV0"
   },
   "source": [
    "Python has extended functionality through libraries containing lots of extra commands, functions, and useful stuff. We import these libraries and commands using the *import* command:"
   ]
  },
  {
   "cell_type": "code",
   "execution_count": 2,
   "id": "-b5QwEmVVDdR",
   "metadata": {
    "id": "-b5QwEmVVDdR"
   },
   "outputs": [],
   "source": [
    "import time\n",
    "time.sleep(3)"
   ]
  },
  {
   "cell_type": "markdown",
   "id": "0ZB6Tnf3XAYB",
   "metadata": {
    "id": "0ZB6Tnf3XAYB"
   },
   "source": [
    "In this case, we have imported a library called \"time\" in order to run a command called \"sleep\". This command runs for an amount of time given by its argument (in our case, 3 seconds) and produces no output. Note that when the code is running the symbol within the square brackets changes (indicating it is running).\n",
    "\n",
    "One thing to note is that some libraries have long names. When running a command from that library, we have so also write the name of the library out again:  \n",
    "\n",
    "```\n",
    "# time.sleep()\n",
    "```\n",
    "In some cases you will see that common libraries are imported 'as' a different name (primarily so that our commands are shorter in future!)\n"
   ]
  },
  {
   "cell_type": "markdown",
   "id": "1FeIKZaxX2zu",
   "metadata": {
    "id": "1FeIKZaxX2zu"
   },
   "source": [
    "There are **many** detailed introductions to Jupyter notebooks, and Google Colab, including textbooks, online workshops, videos, notebooks, theatrical productions (well maybe)... most are available on the web, like\n",
    "[this one](https://www.dataquest.io/blog/jupyter-notebook-tutorial/). Youtube videos [like this one](https://youtu.be/RLYoEyIHL6A) also allow you to see this process as you would on your machine.\n",
    "\n",
    "\n",
    "\n",
    "---\n",
    "\n"
   ]
  },
  {
   "cell_type": "markdown",
   "id": "pTx6EHP_0hl6",
   "metadata": {
    "id": "pTx6EHP_0hl6"
   },
   "source": [
    "## Applications to MAT201 content\n",
    "\n",
    "In MAT201, our focus is (as you might expect) on mathematics. The rest of this introduction will illustrate a Python library called [Sympy](https://www.sympy.org/en/index.html). Like other Python packages, it is well documented, and widely used.\n",
    "\n",
    "Let's go ahead and load in the libraries we need: in this case, we'll focus solely on *sympy*:\n"
   ]
  },
  {
   "cell_type": "code",
   "execution_count": 3,
   "id": "c10d447e",
   "metadata": {
    "id": "c10d447e"
   },
   "outputs": [],
   "source": [
    "import sympy as sym"
   ]
  },
  {
   "cell_type": "markdown",
   "id": "XsD0TeYDCvUh",
   "metadata": {
    "id": "XsD0TeYDCvUh"
   },
   "source": [
    "Let's very briefly look at some capabilities of *sympy*. *Sympy* has three data types, Real Integer and Rational. Rational numbers are probably better known as fractions. If we wanted to work with the fraction of one half, for example, we could write this as a real number $0.5$, or as a fraction:"
   ]
  },
  {
   "cell_type": "code",
   "execution_count": 4,
   "id": "4ROByh4ZBQnW",
   "metadata": {
    "colab": {
     "base_uri": "https://localhost:8080/"
    },
    "id": "4ROByh4ZBQnW",
    "outputId": "3472ef25-a132-4ab8-ac87-bfa3a8580c8e"
   },
   "outputs": [
    {
     "name": "stdout",
     "output_type": "stream",
     "text": [
      "1/2\n"
     ]
    }
   ],
   "source": [
    "onehalf = sym.Rational(1,2)\n",
    "print(onehalf)"
   ]
  },
  {
   "cell_type": "markdown",
   "id": "W3BRQHt2BagK",
   "metadata": {
    "id": "W3BRQHt2BagK"
   },
   "source": [
    "We can perform basic maths with symbols in the usual way (e.g. addition, subtraction, multiplication, division):"
   ]
  },
  {
   "cell_type": "code",
   "execution_count": 5,
   "id": "tKw1eJPfBx3x",
   "metadata": {
    "colab": {
     "base_uri": "https://localhost:8080/"
    },
    "id": "tKw1eJPfBx3x",
    "outputId": "6907936c-227f-4b94-fe2f-40d9201ea24c"
   },
   "outputs": [
    {
     "name": "stdout",
     "output_type": "stream",
     "text": [
      "4*onehalf= 2\n"
     ]
    }
   ],
   "source": [
    "print(\"4*onehalf=\", 4 * onehalf)"
   ]
  },
  {
   "cell_type": "markdown",
   "id": "Adj0U5GeBxgE",
   "metadata": {
    "id": "Adj0U5GeBxgE"
   },
   "source": [
    "We can use symbolic constants like $pi$, $e$ (as in the exponential) or indeed infinity:"
   ]
  },
  {
   "cell_type": "code",
   "execution_count": 6,
   "id": "SJ_q_xh5B9NA",
   "metadata": {
    "colab": {
     "base_uri": "https://localhost:8080/"
    },
    "id": "SJ_q_xh5B9NA",
    "outputId": "6d26c7f8-263d-417f-9d36-1a7315576912"
   },
   "outputs": [
    {
     "name": "stdout",
     "output_type": "stream",
     "text": [
      "3.14159265358979\n"
     ]
    }
   ],
   "source": [
    "mypi = sym.pi\n",
    "print(mypi.evalf())"
   ]
  },
  {
   "cell_type": "markdown",
   "id": "mJn6bWd-CQwn",
   "metadata": {
    "id": "mJn6bWd-CQwn"
   },
   "source": [
    "This is just for starters: we can build systems of equations if we tell Python that some symbols represent unknown numbers:"
   ]
  },
  {
   "cell_type": "code",
   "execution_count": 7,
   "id": "Z9UmmHj3CMz-",
   "metadata": {
    "colab": {
     "base_uri": "https://localhost:8080/"
    },
    "id": "Z9UmmHj3CMz-",
    "outputId": "f285a7d7-6204-4f2d-ee9c-5858700f6ad0"
   },
   "outputs": [
    {
     "name": "stdout",
     "output_type": "stream",
     "text": [
      "3*x + 1/2\n"
     ]
    }
   ],
   "source": [
    "x, y = sym.Symbol('x'), sym.Symbol('y')\n",
    "print(x + 2 * x + onehalf)"
   ]
  },
  {
   "cell_type": "markdown",
   "id": "C5I_1fn3CP-O",
   "metadata": {
    "id": "C5I_1fn3CP-O"
   },
   "source": [
    "See how Python has simplified the above expression, and added together the x terms? We can get it to do more complicated algebra:"
   ]
  },
  {
   "cell_type": "code",
   "execution_count": 8,
   "id": "-QxVl4f_C6yy",
   "metadata": {
    "colab": {
     "base_uri": "https://localhost:8080/",
     "height": 54
    },
    "id": "-QxVl4f_C6yy",
    "outputId": "0938ec85-c036-4322-88ef-39129ccda1e3"
   },
   "outputs": [
    {
     "data": {
      "text/latex": [
       "$\\displaystyle x^{2} + x y + \\frac{y^{2}}{4}$"
      ],
      "text/plain": [
       "x**2 + x*y + y**2/4"
      ]
     },
     "execution_count": 8,
     "metadata": {},
     "output_type": "execute_result"
    }
   ],
   "source": [
    "sym.expand( (x + onehalf * y)**2 )"
   ]
  },
  {
   "cell_type": "markdown",
   "id": "TID0QqnmDura",
   "metadata": {
    "id": "TID0QqnmDura"
   },
   "source": [
    "Sympy has expanded this binomial, just like we would using pen and paper. It knows all the rules we do! It also knows lots about trigonometric functions. The *simplify* command can simplify expressions, using all of the maths knowledge in the library. We know that $\\cos^2{(x)}+\\sin^2{(x)}=1$; so does sympy:"
   ]
  },
  {
   "cell_type": "code",
   "execution_count": 9,
   "id": "O62zna5xDXWZ",
   "metadata": {
    "colab": {
     "base_uri": "https://localhost:8080/"
    },
    "id": "O62zna5xDXWZ",
    "outputId": "f8f1d116-2170-49c2-efd3-227aedc3baa8"
   },
   "outputs": [
    {
     "name": "stdout",
     "output_type": "stream",
     "text": [
      "sin(x)**2 + cos(x)**2\n",
      "1\n"
     ]
    }
   ],
   "source": [
    "print( sym.cos(x) * sym.cos(x) + sym.sin(x) * sym.sin(x))\n",
    "print( sym.simplify( sym.cos(x) * sym.cos(x) + sym.sin(x) * sym.sin(x)) )"
   ]
  },
  {
   "cell_type": "markdown",
   "id": "FA_QrgsQDt90",
   "metadata": {
    "id": "FA_QrgsQDt90"
   },
   "source": [
    "It can even perform calculus operations like differentiation and integration:"
   ]
  },
  {
   "cell_type": "code",
   "execution_count": 10,
   "id": "NQQxjrSKENQA",
   "metadata": {
    "colab": {
     "base_uri": "https://localhost:8080/",
     "height": 38
    },
    "id": "NQQxjrSKENQA",
    "outputId": "bc16fc31-c905-4611-88e1-4ab55d48319c"
   },
   "outputs": [
    {
     "data": {
      "text/latex": [
       "$\\displaystyle x$"
      ],
      "text/plain": [
       "x"
      ]
     },
     "execution_count": 10,
     "metadata": {},
     "output_type": "execute_result"
    }
   ],
   "source": [
    "sym.diff(onehalf * x ** 2, x)"
   ]
  },
  {
   "cell_type": "markdown",
   "id": "7Fc4_nBbDMkk",
   "metadata": {
    "id": "7Fc4_nBbDMkk"
   },
   "source": [
    "where the command has differentiated the first expression with respect to x. We can perform partial derivatives just as easily: lets say we need \\begin{equation} \n",
    "\\frac{\\partial}{\\partial x} \\left(x^3+y+axy\\right), \n",
    "\\end{equation}\n",
    "where $x$ and $y$ are independent variables:"
   ]
  },
  {
   "cell_type": "code",
   "execution_count": 11,
   "id": "GrtJ1vJ_EsiE",
   "metadata": {
    "colab": {
     "base_uri": "https://localhost:8080/",
     "height": 47
    },
    "id": "GrtJ1vJ_EsiE",
    "outputId": "a854b169-2aa1-4d7e-f2be-9d629aa2d189"
   },
   "outputs": [
    {
     "data": {
      "text/latex": [
       "$\\displaystyle 3 x^{2} + \\frac{y}{2}$"
      ],
      "text/plain": [
       "3*x**2 + y/2"
      ]
     },
     "execution_count": 11,
     "metadata": {},
     "output_type": "execute_result"
    }
   ],
   "source": [
    "sym.diff(x ** 3 + y + onehalf * x * y , x)"
   ]
  },
  {
   "cell_type": "markdown",
   "id": "3gt3nw5MEsIl",
   "metadata": {
    "id": "3gt3nw5MEsIl"
   },
   "source": [
    "easy peasy! What about integration? We know that (ignoring the constants of integration for now) \n",
    "\\begin{equation}\\int \\frac{1}{{x}} ~{\\rm{d}}x=\\ln{|x|}+c,\\end{equation} but so does sympy:"
   ]
  },
  {
   "cell_type": "code",
   "execution_count": 12,
   "id": "TTeGwaoOF37N",
   "metadata": {
    "colab": {
     "base_uri": "https://localhost:8080/",
     "height": 38
    },
    "id": "TTeGwaoOF37N",
    "outputId": "6dd64374-c2e8-408c-989d-78ec9cf141f7"
   },
   "outputs": [
    {
     "data": {
      "text/latex": [
       "$\\displaystyle \\log{\\left(x \\right)}$"
      ],
      "text/plain": [
       "log(x)"
      ]
     },
     "execution_count": 12,
     "metadata": {},
     "output_type": "execute_result"
    }
   ],
   "source": [
    "sym.integrate(1 / x, x)"
   ]
  },
  {
   "cell_type": "markdown",
   "id": "jB5nlRxJGUbK",
   "metadata": {
    "id": "jB5nlRxJGUbK"
   },
   "source": [
    "(also noting that sympy refers to natural log ($ln$) as \"log\"). Sympy can also solve equations or sets of equations in one line:"
   ]
  },
  {
   "cell_type": "code",
   "execution_count": 13,
   "id": "fcueow_VGiT_",
   "metadata": {
    "colab": {
     "base_uri": "https://localhost:8080/"
    },
    "id": "fcueow_VGiT_",
    "outputId": "bcbdddba-5041-4200-ad18-603396bf490a"
   },
   "outputs": [
    {
     "data": {
      "text/plain": [
       "(-3, 1)"
      ]
     },
     "execution_count": 13,
     "metadata": {},
     "output_type": "execute_result"
    }
   ],
   "source": [
    "solution = sym.solve((x + 5 * y - 2, -3 * x + 6 * y - 15), (x, y))\n",
    "solution[x], solution[y]"
   ]
  },
  {
   "cell_type": "markdown",
   "id": "pPJ0NBpp5mfe",
   "metadata": {
    "id": "pPJ0NBpp5mfe"
   },
   "source": [
    "It can also solve matrix equations and tons of other clever things. However, this is plenty of information to begin to explore simple differential calculus that we'll encounter in our MAT201 dynamics lectures."
   ]
  },
  {
   "cell_type": "code",
   "execution_count": null,
   "id": "Aeyazb_7dJNj",
   "metadata": {
    "id": "Aeyazb_7dJNj"
   },
   "outputs": [],
   "source": []
  }
 ],
 "metadata": {
  "colab": {
   "collapsed_sections": [],
   "name": "00_JT_Python_Intro",
   "provenance": []
  },
  "kernelspec": {
   "display_name": "Python 3 (ipykernel)",
   "language": "python",
   "name": "python3"
  },
  "language_info": {
   "codemirror_mode": {
    "name": "ipython",
    "version": 3
   },
   "file_extension": ".py",
   "mimetype": "text/x-python",
   "name": "python",
   "nbconvert_exporter": "python",
   "pygments_lexer": "ipython3",
   "version": "3.9.9"
  }
 },
 "nbformat": 4,
 "nbformat_minor": 5
}
