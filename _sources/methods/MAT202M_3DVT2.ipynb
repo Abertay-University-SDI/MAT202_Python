{
 "cells": [
  {
   "cell_type": "markdown",
   "metadata": {
    "id": "qjZ_A1UQJKX0"
   },
   "source": [
    "# More 3D Coordinate Transformations\n",
    "\n",
    "We have already shown how Python is capable of performing and visualising the standard set of operations for 3D graphics transformations.\n",
    "\n",
    "There are several additional useful operations than can be performed by matrices. This notebook will examine two of these: *reflection in a given plane* and *rotation about an axis*."
   ]
  },
  {
   "cell_type": "code",
   "execution_count": 16,
   "metadata": {
    "id": "FpSLQGmNJJek"
   },
   "outputs": [],
   "source": [
    "## Libraries\n",
    "import numpy as np\n",
    "import math \n",
    "import matplotlib.pyplot as plt\n",
    "import sympy as sym\n",
    "from mpl_toolkits.mplot3d import Axes3D\n",
    "from matplotlib.patches import FancyArrowPatch\n",
    "from mpl_toolkits.mplot3d import proj3d"
   ]
  },
  {
   "cell_type": "markdown",
   "metadata": {
    "id": "o5W3epFpuGap"
   },
   "source": [
    "## Mirror reflection in a given plane\n",
    "\n",
    "We have been shown in the lectures that reflecting an object in the plane $ ax+by+cz=0$ can be performed by multiplying a set of homogenous coordinates by the reflection matrix\n",
    "\n",
    "$$\n",
    "M_{\\rm{reflection}} = \n",
    "\t{\\begin{pmatrix}\n",
    "\t-a^2+b^2+c^2 & -2ab & -2ac & 0  \\\\\n",
    "\t-2ab & a^2-b^2+c^2 & -2bc & 0  \\\\\n",
    "\t-2ac & -2bc & a^2+b^2-c^2 & 0  \\\\\n",
    "\t0 & 0 & 0 & a^2+b^2+c^2 \n",
    "\t\\end{pmatrix}}.\n",
    "$$\n",
    "\n",
    "The additional factor of $a^2+b^2+c^2$ in the bottom right element of this matrix means that we must remember to check that we have returned to homogenous coordinates after the calculation has been carried out.\n",
    "\n",
    "To test this, we will repeat one of the examples shown in the lectures:\n",
    "\n",
    "### Lecture Example:\n",
    "**Calculate the images of the points $(3,2,1)$ and $(-1,0,1)$ when reflected in the plane $2x+y-3z=4$**.\n"
   ]
  },
  {
   "cell_type": "markdown",
   "metadata": {
    "id": "RtzS7U8IOfPT"
   },
   "source": [
    "Let's set up a matrix of positions that we can transform. "
   ]
  },
  {
   "cell_type": "code",
   "execution_count": 17,
   "metadata": {
    "id": "Kl4lV_UxB9Fe"
   },
   "outputs": [],
   "source": [
    "x_vals = np.array([3, -1])\n",
    "y_vals = np.array([2, 0])\n",
    "z_vals = np.array([1, 1])\n",
    "p = np.array([x_vals, y_vals, z_vals])"
   ]
  },
  {
   "cell_type": "markdown",
   "metadata": {
    "id": "Ki1f0qVFB9UW"
   },
   "source": [
    "Before we perform the transformation, let's plot the two positions and (because we can) draw a line between the two points:"
   ]
  },
  {
   "cell_type": "code",
   "execution_count": 18,
   "metadata": {
    "colab": {
     "base_uri": "https://localhost:8080/",
     "height": 418
    },
    "id": "_A2KzPJyJjDw",
    "outputId": "fd2d9d8b-6f26-4008-df0f-0129348d516e"
   },
   "outputs": [
    {
     "data": {
      "image/png": "[encoded data removed]",
      "text/plain": [
       "<Figure size 432x288 with 1 Axes>"
      ]
     },
     "metadata": {
      "needs_background": "light"
     },
     "output_type": "display_data"
    }
   ],
   "source": [
    "lx=np.append(x_vals,x_vals[0]) #drawing the line between the last and first coord\n",
    "ly=np.append(y_vals,y_vals[0])\n",
    "lz=np.append(z_vals,z_vals[0])\n",
    "ax = plt.figure().add_subplot(projection='3d')\n",
    "ax.view_init(elev=20, azim=315, roll=0)\n",
    "ax.plot(lx, ly, lz, 'ko', linestyle=\"--\")\n",
    "ax.plot(x_vals, y_vals, z_vals, 'ko')\n",
    "ax.text(lx[0]-1, ly[0]+1, lz[0]+1, \"A\", c='k')\n",
    "ax.text(lx[1]-1, ly[1]+1, lz[1]+1, \"B\", c='k')\n",
    "ax.set_xlabel('x')\n",
    "ax.set_ylabel('y')\n",
    "ax.set_zlabel('z')\n",
    "ax.axes.set_xlim3d(left=-5, right=5) \n",
    "ax.axes.set_ylim3d(bottom=0, top=10) \n",
    "ax.axes.set_zlim3d(bottom=-5, top=5)\n",
    "plt.gca().set_aspect('equal')\n",
    "plt.show()"
   ]
  },
  {
   "cell_type": "markdown",
   "metadata": {
    "id": "LN3-GjJ6DM8b"
   },
   "source": [
    "When using Python this way, we need to remember i) to convert our arrays into the correct shape vector and ii) to include homogenous coordinates. In this case, rather than specifying the number of 1's needed, I will use Python to count the number of coordinate locations and produce an array of the same length. This new array is initialised by \"1\" in each element: this saves me having to do this manually, and can be extended easily if we introduce more coordinates into the problem.\n",
    "\n",
    "Thus we can create our matrix of coordinates, formatted in the same way shown in class:"
   ]
  },
  {
   "cell_type": "code",
   "execution_count": 19,
   "metadata": {
    "colab": {
     "base_uri": "https://localhost:8080/"
    },
    "id": "Tz07qY7oAKqL",
    "outputId": "ce34ba64-6cc7-4d6a-e61e-39fdcdd09213"
   },
   "outputs": [
    {
     "name": "stdout",
     "output_type": "stream",
     "text": [
      "[[ 3  2  1  1]\n",
      " [-1  0  1  1]]\n"
     ]
    }
   ],
   "source": [
    "nr = [1 for x in range(len(x_vals))]\n",
    "hp = np.vstack([p, nr])\n",
    "print(hp.transpose())"
   ]
  },
  {
   "cell_type": "markdown",
   "metadata": {
    "id": "rn357Qq-wLkl"
   },
   "source": [
    "Now we can turn our attention to the reflection matrix. \n",
    "\n",
    "We can only perform the calculation if the plane passes through the origin. A quick way to check is to see if the origin coordinates satisfy the plane equation:\n",
    "\n"
   ]
  },
  {
   "cell_type": "code",
   "execution_count": 20,
   "metadata": {
    "colab": {
     "base_uri": "https://localhost:8080/"
    },
    "id": "Uj4A2cZixbP4",
    "outputId": "f41cb509-e7b7-4450-e11b-f4a63a8a12d3"
   },
   "outputs": [
    {
     "name": "stdout",
     "output_type": "stream",
     "text": [
      "LHS: 0\n",
      "RHS: 4\n"
     ]
    }
   ],
   "source": [
    "a = 2\n",
    "b = 1\n",
    "c = -3\n",
    "d = 4\n",
    "print(\"LHS:\", a*0+b*0+c*0)\n",
    "print(\"RHS:\", d)"
   ]
  },
  {
   "cell_type": "markdown",
   "metadata": {
    "id": "E4netQQbxZVf"
   },
   "source": [
    "Since the left and right hand sides of the plane equations do not match, the origin is not a solution of this equation. This means we need to translate our points, using the translation matrix we discussed previously:\n",
    "\n",
    "$$\n",
    "T_{\\underline{w}} = \n",
    "\t{\\begin{pmatrix}\n",
    "\t1 & 0 & 0 & 0  \\\\\n",
    "\t0 & 1 & 0 & 0  \\\\\n",
    "\t0 & 0 & 1 & 0  \\\\\n",
    "\ta_x & a_y & a_z & 1 \n",
    "\t\\end{pmatrix}},\n",
    "$$\n",
    "\n",
    "To identify the amount we need to move, we can rearrange the plane equation, so that if we choose some points for $x$ and $y$, the equation will determine values of z:\n"
   ]
  },
  {
   "cell_type": "code",
   "execution_count": 21,
   "metadata": {
    "colab": {
     "base_uri": "https://localhost:8080/"
    },
    "id": "DYIa8bmpyVA1",
    "outputId": "79953963-e1af-47d0-d63b-19aefab14ebb"
   },
   "outputs": [
    {
     "name": "stdout",
     "output_type": "stream",
     "text": [
      "1.0 2.0 -0.0  lies on plane\n"
     ]
    }
   ],
   "source": [
    "x1 = 1.\n",
    "y1 = 2.\n",
    "z1 = (a * x1 + b * y1 - d) / c\n",
    "print(x1,y1,z1,\" lies on plane\")"
   ]
  },
  {
   "cell_type": "markdown",
   "metadata": {
    "id": "rRiICFi5zL5N"
   },
   "source": [
    "This is the amount we will translate by (and while we are at it, we might as well create the opposite transformation that we'll have to use at the end too)."
   ]
  },
  {
   "cell_type": "code",
   "execution_count": 22,
   "metadata": {
    "id": "ON72vCZgzPRQ"
   },
   "outputs": [],
   "source": [
    "Tw = np.matrix([[1, 0, 0, 0], \n",
    "                [0, 1, 0, 0], \n",
    "                [0, 0, 1, 0],\n",
    "                [-x1,-y1, -z1, 1]])\n",
    "Tv = np.matrix([[1, 0, 0, 0], \n",
    "                [0, 1, 0, 0], \n",
    "                [0, 0, 1, 0],\n",
    "                [x1, y1, z1, 1]])"
   ]
  },
  {
   "cell_type": "markdown",
   "metadata": {
    "id": "6yXZWaEXzk_J"
   },
   "source": [
    "Now we can create our reflection matrix from the formula:"
   ]
  },
  {
   "cell_type": "code",
   "execution_count": 23,
   "metadata": {
    "id": "LtJJf1NUwX-X"
   },
   "outputs": [],
   "source": [
    "Mr = np.matrix([[-a*a+b*b+c*c, -2*a*b, -2*a*c, 0], \n",
    "                [-2*a*b, a*a-b*b+c*c, -2*b*c, 0], \n",
    "                [-2*a*c, -2*b*c, a*a+b*b-c*c, 0],\n",
    "                [0,0, 0, a*a+b*b+c*c]])"
   ]
  },
  {
   "cell_type": "markdown",
   "metadata": {
    "id": "yrCvQLgDzuVr"
   },
   "source": [
    "We've formed all the pieces that will allow us to perform the reflection in full, so let's go ahead and apply them to our coordinates:"
   ]
  },
  {
   "cell_type": "code",
   "execution_count": 24,
   "metadata": {
    "colab": {
     "base_uri": "https://localhost:8080/"
    },
    "id": "ouZUFDP7z2In",
    "outputId": "db8d5419-3d7e-4113-c960-27fc1cc4de48"
   },
   "outputs": [
    {
     "name": "stdout",
     "output_type": "stream",
     "text": [
      "[[ 38.  26.  20.  14.]\n",
      " [ 22.  18. -40.  14.]]\n"
     ]
    }
   ],
   "source": [
    "rp = hp.transpose()*Tw*Mr*Tv\n",
    "print(rp)"
   ]
  },
  {
   "cell_type": "markdown",
   "metadata": {
    "id": "dG9BILJKz_Q8"
   },
   "source": [
    "Following the transformation, we note that the final column (our homogenous coordinates) contain something other than one. This means we need to divide *all* coordinates in that row by the element in the final column, such that they become equal to one."
   ]
  },
  {
   "cell_type": "code",
   "execution_count": 25,
   "metadata": {
    "colab": {
     "base_uri": "https://localhost:8080/"
    },
    "id": "KP7ZzsfC0eye",
    "outputId": "052e4844-dc32-42b1-827d-a2470be92982"
   },
   "outputs": [
    {
     "name": "stdout",
     "output_type": "stream",
     "text": [
      "[[ 2.71428571  1.85714286  1.42857143  1.        ]\n",
      " [ 1.57142857  1.28571429 -2.85714286  1.        ]]\n"
     ]
    }
   ],
   "source": [
    "rph = rp/rp[:,3:]\n",
    "print(rph)"
   ]
  },
  {
   "cell_type": "markdown",
   "metadata": {
    "id": "U5m4bUg80eNd"
   },
   "source": [
    "These are the locations of the reflected image in homogenous coordinates.\n",
    "\n",
    "Finally, to demonstrate the power of Python, we can plot the solution we have found. For completeness, I will include the plane about which the reflection is performed and the original (unreflected) positions:"
   ]
  },
  {
   "cell_type": "code",
   "execution_count": 26,
   "metadata": {
    "colab": {
     "base_uri": "https://localhost:8080/",
     "height": 409
    },
    "id": "2I0JG62_16Nv",
    "outputId": "f520103a-7e14-4480-9913-496f096aca54"
   },
   "outputs": [
    {
     "data": {
      "image/png": "[encoded data removed]",
      "text/plain": [
       "<Figure size 432x288 with 1 Axes>"
      ]
     },
     "metadata": {
      "needs_background": "light"
     },
     "output_type": "display_data"
    }
   ],
   "source": [
    "newp = rph[:,0:3].transpose()\n",
    "x_vals1 = np.squeeze(np.asarray(newp[0,:]))\n",
    "y_vals1 = np.squeeze(np.asarray(newp[1,:]))\n",
    "z_vals1 = np.squeeze(np.asarray(newp[2,:]))\n",
    "slx=np.append(x_vals1,x_vals1[0])\n",
    "sly=np.append(y_vals1,y_vals1[0])\n",
    "slz=np.append(z_vals1,z_vals1[0])\n",
    "xr = [-5,5]\n",
    "yr = [0,10]\n",
    "zr = [-5,5]\n",
    "ax.axes.set_xlim3d(left=xr[0], right=xr[1]) \n",
    "ax.axes.set_ylim3d(bottom=yr[0], top=yr[1]) \n",
    "ax.axes.set_zlim3d(bottom=zr[0], top=zr[1])\n",
    "#need to set up mesh for plotting plane over range of x, y\n",
    "x = np.linspace(xr[0],xr[1],50)\n",
    "y = np.linspace(yr[0],yr[1],50)\n",
    "X,Y = np.meshgrid(x,y)\n",
    "Z = (d - a*X - b*Y) / c\n",
    "ax = plt.figure().add_subplot(projection='3d')\n",
    "ax.view_init(elev=20, azim=315, roll=0)\n",
    "ax.plot(lx, ly, lz, 'ko', linestyle=\"--\")\n",
    "ax.plot(x_vals, y_vals, z_vals, 'ko')\n",
    "ax.plot(slx, sly, slz, 'ro', linestyle=\"--\")\n",
    "ax.plot(x_vals1, y_vals1, z_vals1, 'ro')\n",
    "ax.set_xlabel('x')\n",
    "ax.set_ylabel('y')\n",
    "ax.set_zlabel('z')\n",
    "surf = ax.plot_surface(X, Y, Z)\n",
    "plt.gca().set_aspect('equal')\n",
    "plt.show()"
   ]
  },
  {
   "cell_type": "markdown",
   "metadata": {
    "id": "3u4-2G5-3lSy"
   },
   "source": [
    "In this example the points we need to reflect actually straddle the plane: the reflected images therefore also straddle the plane, but in the opposite sense."
   ]
  },
  {
   "cell_type": "markdown",
   "metadata": {
    "id": "-L7JzHYMOxKx"
   },
   "source": [
    "## Rotation about an arbitrary axis\n",
    "\n",
    "Another useful tool in our 3D transformation arsenal is the ability to rotate a point (or set of points) by a specified angle about a specified axis.\n",
    "\n",
    "The formula required to carry out this operation is that shown in lectures (and also present in the formula book):\n",
    "\n",
    "$$\n",
    "\t{R_{\\theta,\\underline{\\hat{v}}}=\n",
    "\t\\begin{pmatrix}\n",
    "\t\\alpha^2(1-\\cos\\theta)+\\cos\\theta & \\alpha\\beta(1-\\cos\\theta)+\\gamma\\sin\\theta & \\alpha\\gamma(1-\\cos\\theta)-\\beta\\sin\\theta & 0   \\\\\n",
    "\t\\alpha\\beta(1-\\cos\\theta)-\\gamma\\sin\\theta & \\beta^2(1-\\cos\\theta)+\\cos\\theta & \\beta\\gamma(1-\\cos\\theta)+\\alpha\\sin\\theta  & 0 \\\\\n",
    "\t\\alpha\\gamma(1-\\cos\\theta)+\\beta\\sin\\theta & \\beta\\gamma(1-\\cos\\theta)-\\alpha\\sin\\theta & \\gamma^2(1-\\cos\\theta)+\\cos\\theta & 0 \\\\\n",
    "\t0 & 0 & 0 & 1 \n",
    "\t\\end{pmatrix}},\n",
    "$$\n",
    "\n",
    "for a rotation by angle $\\theta$ about the unit vector ${\\vec{v}}=\\alpha{\\vec{i}}+\\beta{\\vec{j}}+\\gamma{\\vec{k}} $.\n",
    "\n",
    "Let us examine the application of this matrix using another example from our lectures:\n",
    "\n",
    "### Lecture example: Rotating a pyramid\n",
    "**The pyramid defined by coordinates $O(0,0,0), B(1,0,0), C(0,1,0)$ and $D(0,0,1)$ is rotated by $45^o$ about the line that has direction $\\vec{v}=\\vec{j}+\\vec{k}$ and passes through:**\n",
    "\n",
    "\n",
    "1.   **the origin;**\n",
    "2.   **the point C(0,1,0).**\n",
    "**Obtain the vertices of the rotated figure in both cases.**\n",
    "\n",
    "\n",
    "---\n",
    "\n",
    "\n"
   ]
  },
  {
   "cell_type": "markdown",
   "metadata": {
    "id": "PJum_UgRFCTf"
   },
   "source": [
    "We will start by defining the coordinates specified in the question:"
   ]
  },
  {
   "cell_type": "code",
   "execution_count": 27,
   "metadata": {
    "id": "9fnfD5GRFBss"
   },
   "outputs": [],
   "source": [
    "O = [0,0,0]\n",
    "B = [1,0,0]\n",
    "C = [0,1,0]\n",
    "D = [0,0,1]\n",
    "x_vals2=[O[0],B[0],C[0],D[0]]\n",
    "y_vals2=[O[1],B[1],C[1],D[1]]\n",
    "z_vals2=[O[2],B[2],C[2],D[2]]"
   ]
  },
  {
   "cell_type": "markdown",
   "metadata": {
    "id": "7ld5UlID6H-s"
   },
   "source": [
    "Let us first begin by establishing what the pyramid looks like prior to any rotation:"
   ]
  },
  {
   "cell_type": "code",
   "execution_count": 28,
   "metadata": {
    "colab": {
     "base_uri": "https://localhost:8080/",
     "height": 417
    },
    "id": "5Y0hIjOv6QMc",
    "outputId": "0a5df0c1-168d-4f47-b1eb-ebc7b923490b"
   },
   "outputs": [
    {
     "data": {
      "image/png": "[encoded data removed]",
      "text/plain": [
       "<Figure size 432x288 with 1 Axes>"
      ]
     },
     "metadata": {
      "needs_background": "light"
     },
     "output_type": "display_data"
    }
   ],
   "source": [
    "p2 = np.array([x_vals2, y_vals2, z_vals2])\n",
    "ax = plt.figure().add_subplot(projection='3d')\n",
    "ax.view_init(elev=20, azim=30, roll=0)\n",
    "ax.plot([O[0],C[0]], [O[1],C[1]], [O[2],C[2]], 'ko', linestyle='-')\n",
    "ax.plot([O[0],B[0]], [O[1],B[1]], [O[2],B[2]], 'ko', linestyle='-')\n",
    "ax.plot([O[0],D[0]], [O[1],D[1]], [O[2],D[2]], 'ko', linestyle='-')\n",
    "ax.plot([C[0],B[0]], [C[1],B[1]], [C[2],B[2]], 'ko', linestyle='-')\n",
    "ax.plot([C[0],D[0]], [C[1],D[1]], [C[2],D[2]], 'ko', linestyle='-')\n",
    "ax.plot([D[0],B[0]], [D[1],B[1]], [D[2],B[2]], 'ko', linestyle='-')\n",
    "ax.set_xlabel('x')\n",
    "ax.set_ylabel('y')\n",
    "ax.set_zlabel('z')\n",
    "ax.axes.set_xlim3d(left=-2, right=3) \n",
    "ax.axes.set_ylim3d(bottom=-2, top=3) \n",
    "ax.axes.set_zlim3d(bottom=-2, top=3)\n",
    "plt.gca().set_aspect('equal')\n",
    "plt.show()"
   ]
  },
  {
   "cell_type": "markdown",
   "metadata": {
    "id": "bKjaVlHo9cal"
   },
   "source": [
    "Now let us examine the axis of rotation. In order to be in the correct format to use in the rotation matrix taught in the lectures, the axis of rotation must be framed as a unit vector.\n",
    "\n",
    "In this case, I'm too lazy to check if the vector is unit or not: I'll just divide the vector by it's size (that way if the vector is already unit, dividing by its size won't change the vector):"
   ]
  },
  {
   "cell_type": "code",
   "execution_count": 30,
   "metadata": {
    "colab": {
     "base_uri": "https://localhost:8080/"
    },
    "id": "0bMftOrH9pVm",
    "outputId": "951a2798-1ff2-4da2-e52e-df9d8b70027e"
   },
   "outputs": [
    {
     "name": "stdout",
     "output_type": "stream",
     "text": [
      "[0.         0.70710678 0.70710678]\n"
     ]
    }
   ],
   "source": [
    "v = [0,1,1]\n",
    "v_hat = v / np.linalg.norm(v)\n",
    "print(v_hat)"
   ]
  },
  {
   "cell_type": "markdown",
   "metadata": {
    "id": "bnezW0GWFwRd"
   },
   "source": [
    "We now have all the ingredients we need to fill the abitrary rotation matrix. Remember that, in Python, arguments for trigonometric functions must be in radians:"
   ]
  },
  {
   "cell_type": "code",
   "execution_count": 31,
   "metadata": {
    "id": "chKahpTf927w"
   },
   "outputs": [],
   "source": [
    "alpha = v_hat[0]\n",
    "beta = v_hat[1]\n",
    "gamma = v_hat[2]\n",
    "theta = 45\n",
    "st = np.sin(math.radians(theta))\n",
    "ct = np.cos(math.radians(theta))\n",
    "Rtv = np.matrix([[alpha*alpha*(1-ct)+ct, alpha*beta*(1-ct)+gamma*st, alpha*gamma*(1-ct)-beta*st, 0], \n",
    "                [alpha*beta*(1-ct)-gamma*st, beta*beta*(1-ct)+ct, beta*gamma*(1-ct)+alpha*st, 0], \n",
    "                [alpha*gamma*(1-ct)+beta*st, beta*gamma*(1-ct)-alpha*st, gamma*gamma*(1-ct)+ct, 0],\n",
    "                [0,0, 0, 1]])\n"
   ]
  },
  {
   "cell_type": "markdown",
   "metadata": {
    "id": "JiBGyDtf9obX"
   },
   "source": [
    "Now that the rotation is stored in the matrix, we can carry out the transformation of the points as before:"
   ]
  },
  {
   "cell_type": "code",
   "execution_count": 32,
   "metadata": {
    "colab": {
     "base_uri": "https://localhost:8080/"
    },
    "id": "muGaKZm5iBR-",
    "outputId": "f044cfab-1048-4c6b-d64e-2c30eedcdb62"
   },
   "outputs": [
    {
     "name": "stdout",
     "output_type": "stream",
     "text": [
      "original points:\n",
      "[[0 0 0 1]\n",
      " [1 0 0 1]\n",
      " [0 1 0 1]\n",
      " [0 0 1 1]]\n",
      "rotated points:\n",
      "[[ 0.          0.          0.          1.        ]\n",
      " [ 0.70710678  0.5        -0.5         1.        ]\n",
      " [-0.5         0.85355339  0.14644661  1.        ]\n",
      " [ 0.5         0.14644661  0.85355339  1.        ]]\n"
     ]
    }
   ],
   "source": [
    "nr2 = [1 for x in range(len(x_vals2))]\n",
    "kp = np.vstack([p2, nr2])\n",
    "print(\"original points:\")\n",
    "print(kp.transpose())\n",
    "fp = kp.transpose()*Rtv\n",
    "print(\"rotated points:\")\n",
    "print(fp)"
   ]
  },
  {
   "cell_type": "markdown",
   "metadata": {
    "id": "ieSlMy4_JYNY"
   },
   "source": [
    "Thus we have rotated the object, and have returned the rotated positions in homogenous coordinates.\n",
    "\n",
    "We'll convert these positions back to Cartesian coordinates ready for plotting:"
   ]
  },
  {
   "cell_type": "code",
   "execution_count": 35,
   "metadata": {
    "id": "PP-jVviMJOJb"
   },
   "outputs": [],
   "source": [
    "newp2 = fp[:,0:3].transpose()\n",
    "x_vals2n = np.squeeze(np.asarray(newp2[0,:]))\n",
    "y_vals2n = np.squeeze(np.asarray(newp2[1,:]))\n",
    "z_vals2n = np.squeeze(np.asarray(newp2[2,:]))\n",
    "O2 = np.squeeze(np.asarray(newp2[:,0]))\n",
    "B2 = np.squeeze(np.asarray(newp2[:,1]))\n",
    "C2 = np.squeeze(np.asarray(newp2[:,2]))\n",
    "D2 = np.squeeze(np.asarray(newp2[:,3]))"
   ]
  },
  {
   "cell_type": "markdown",
   "metadata": {},
   "source": [
    "Now we can look to visualise the result. First I will set up some custom arrows for Python to plot: we want to identify the vector about which the rotation is performed."
   ]
  },
  {
   "cell_type": "code",
   "execution_count": 36,
   "metadata": {
    "id": "IfWKslq5HaZi"
   },
   "outputs": [],
   "source": [
    "class Arrow3D(FancyArrowPatch):\n",
    "    def __init__(self, xs, ys, zs, *args, **kwargs):\n",
    "        super().__init__((0,0), (0,0), *args, **kwargs)\n",
    "        self._verts3d = xs, ys, zs\n",
    "\n",
    "    def do_3d_projection(self, renderer=None):\n",
    "        xs3d, ys3d, zs3d = self._verts3d\n",
    "        xs, ys, zs = proj3d.proj_transform(xs3d, ys3d, zs3d, self.axes.M)\n",
    "        self.set_positions((xs[0],ys[0]),(xs[1],ys[1]))\n",
    "\n",
    "        return np.min(zs)"
   ]
  },
  {
   "cell_type": "markdown",
   "metadata": {},
   "source": [
    "The plot setup will build on what we have used before. We will include the original pyramid shape (black), and its rotated equivalent (red), plus a blue arrow denoting the axis of rotation:"
   ]
  },
  {
   "cell_type": "code",
   "execution_count": 37,
   "metadata": {
    "colab": {
     "base_uri": "https://localhost:8080/",
     "height": 417
    },
    "id": "XXi0yVvOA2cK",
    "outputId": "a5b4ff66-f5c8-4ef4-df97-084b02ffd035"
   },
   "outputs": [
    {
     "data": {
      "image/png": "[encoded data removed]",
      "text/plain": [
       "<Figure size 432x288 with 1 Axes>"
      ]
     },
     "metadata": {
      "needs_background": "light"
     },
     "output_type": "display_data"
    }
   ],
   "source": [
    "ax = plt.figure().add_subplot(projection='3d')\n",
    "ax.view_init(elev=20, azim=30, roll=0)\n",
    "ax.plot([O[0],B[0]], [O[1],B[1]], [O[2],B[2]], 'ko', linestyle='-')\n",
    "ax.plot([O[0],C[0]], [O[1],C[1]], [O[2],C[2]], 'ko', linestyle='-')\n",
    "ax.plot([O[0],D[0]], [O[1],D[1]], [O[2],D[2]], 'ko', linestyle='-')\n",
    "ax.plot([C[0],B[0]], [C[1],B[1]], [C[2],B[2]], 'ko', linestyle='-')\n",
    "ax.plot([D[0],B[0]], [D[1],B[1]], [D[2],B[2]], 'ko', linestyle='-')\n",
    "ax.plot([C[0],D[0]], [C[1],D[1]], [C[2],D[2]], 'ko', linestyle='-')\n",
    "ax.plot([O2[0],C2[0]], [O2[1],C2[1]], [O2[2],C2[2]], 'ro', linestyle='-')\n",
    "ax.plot([O2[0],B2[0]], [O2[1],B2[1]], [O2[2],B2[2]], 'ro', linestyle='-')\n",
    "ax.plot([O2[0],D2[0]], [O2[1],D2[1]], [O2[2],D2[2]], 'ro', linestyle='-')\n",
    "ax.plot([C2[0],B2[0]], [C2[1],B2[1]], [C2[2],B2[2]], 'ro', linestyle='-')\n",
    "ax.plot([C2[0],D2[0]], [C2[1],D2[1]], [C2[2],D2[2]], 'ro', linestyle='-')\n",
    "ax.plot([D2[0],B2[0]], [D2[1],B2[1]], [D2[2],B2[2]], 'ro', linestyle='-')\n",
    "ax.set_xlabel('x')\n",
    "ax.set_ylabel('y')\n",
    "ax.set_zlabel('z')\n",
    "vstring=\"{}i+{}j+{}k\".format(v[0],v[1],v[2])\n",
    "arrow_prop_dict = dict(mutation_scale=20, arrowstyle='-|>', color='b', shrinkA=0, shrinkB=0, linewidth=2)\n",
    "a = Arrow3D([-3*v[0], 3*v[0]], [-3*v[1], 3*v[1]], [-3*v[2], 3*v[2]], **arrow_prop_dict)\n",
    "ax.text(v[0], v[1], v[2], vstring, c='b')\n",
    "ax.add_artist(a)\n",
    "ax.axes.set_xlim3d(left=-2, right=3) \n",
    "ax.axes.set_ylim3d(bottom=-2, top=3) \n",
    "ax.axes.set_zlim3d(bottom=-2, top=3)\n",
    "plt.gca().set_aspect('equal')\n",
    "plt.show()"
   ]
  },
  {
   "cell_type": "markdown",
   "metadata": {},
   "source": [
    "As in previous 3D examples, it is difficult to confirm the rotation has been carried out successfully using still 3D images. Try varying the rotation angle of the problem, or the viewing angle in the plotting commands to verify the behaviour of the solution."
   ]
  },
  {
   "cell_type": "markdown",
   "metadata": {
    "id": "SppulnZ-KH2C"
   },
   "source": [
    "### Part 2: Rotation about axis not at origin\n",
    "With the axis of rotation no longer passing through the origin, we must translate the coordinates by a distance equal to the effective distance of the axis from the origin. However, and really quite nicely, we can *re-use* the matrix we already calculated for the rotation, and simply book-end it with the necessary translations:"
   ]
  },
  {
   "cell_type": "code",
   "execution_count": 38,
   "metadata": {
    "colab": {
     "base_uri": "https://localhost:8080/"
    },
    "id": "PCo5OWxCAR-k",
    "outputId": "dc9c20e8-0493-42b5-da73-6f4581d60421"
   },
   "outputs": [
    {
     "name": "stdout",
     "output_type": "stream",
     "text": [
      "[[ 0.5         0.14644661 -0.14644661  1.        ]\n",
      " [ 1.20710678  0.64644661 -0.64644661  1.        ]\n",
      " [ 0.          1.          0.          1.        ]\n",
      " [ 1.          0.29289322  0.70710678  1.        ]]\n"
     ]
    }
   ],
   "source": [
    "Tmp = np.matrix([[1, 0, 0, 0], \n",
    "                [0, 1, 0, 0], \n",
    "                [0, 0, 1, 0],\n",
    "                [-C[0],-C[1], -C[2], 1]])\n",
    "Tpp = np.matrix([[1, 0, 0, 0], \n",
    "                [0, 1, 0, 0], \n",
    "                [0, 0, 1, 0],\n",
    "                [C[0], C[1], C[2], 1]])\n",
    "fp3 = kp.transpose()*Tmp*Rtv*Tpp\n",
    "print(fp3)"
   ]
  },
  {
   "cell_type": "markdown",
   "metadata": {
    "id": "wiFtcyxHMOmH"
   },
   "source": [
    "With this technique we have very quickly recovered the solutions we determined in the lecture example.\n",
    "\n",
    "Again, let's take advantage of the power of Python to visualise what this means. Remember that in this second example, the rotation axis passes through the point C, so we would expect that the pyramid rotates about C (while C itself remains unaffected).\n",
    "\n",
    "Taking the coordinates we found above, we can transpose them and group them together to make a visual comparison with the pyramid we started with."
   ]
  },
  {
   "cell_type": "code",
   "execution_count": 39,
   "metadata": {
    "id": "XJguYJXFAwgu"
   },
   "outputs": [],
   "source": [
    "newp3 = fp3[:,0:3].transpose()\n",
    "x_vals3n = np.squeeze(np.asarray(newp3[0,:]))\n",
    "y_vals3n = np.squeeze(np.asarray(newp3[1,:]))\n",
    "z_vals3n = np.squeeze(np.asarray(newp3[2,:]))\n",
    "O3 = np.squeeze(np.asarray(newp3[:,0]))\n",
    "B3 = np.squeeze(np.asarray(newp3[:,1]))\n",
    "C3 = np.squeeze(np.asarray(newp3[:,2]))\n",
    "D3 = np.squeeze(np.asarray(newp3[:,3]))"
   ]
  },
  {
   "cell_type": "code",
   "execution_count": 40,
   "metadata": {
    "colab": {
     "base_uri": "https://localhost:8080/",
     "height": 417
    },
    "id": "HLpQQhzdK3ld",
    "outputId": "4678eebe-2381-4877-d0c1-2fcf10468f2d"
   },
   "outputs": [
    {
     "data": {
      "image/png": "[encoded data removed]",
      "text/plain": [
       "<Figure size 432x288 with 1 Axes>"
      ]
     },
     "metadata": {
      "needs_background": "light"
     },
     "output_type": "display_data"
    }
   ],
   "source": [
    "ax = plt.figure().add_subplot(projection='3d')\n",
    "ax.view_init(elev=20, azim=240, roll=0)\n",
    "ax.plot([O[0],B[0]], [O[1],B[1]], [O[2],B[2]], 'ko', linestyle='-')\n",
    "ax.plot([O[0],C[0]], [O[1],C[1]], [O[2],C[2]], 'ko', linestyle='-')\n",
    "ax.plot([O[0],D[0]], [O[1],D[1]], [O[2],D[2]], 'ko', linestyle='-')\n",
    "ax.plot([C[0],B[0]], [C[1],B[1]], [C[2],B[2]], 'ko', linestyle='-')\n",
    "ax.plot([D[0],B[0]], [D[1],B[1]], [D[2],B[2]], 'ko', linestyle='-')\n",
    "ax.plot([C[0],D[0]], [C[1],D[1]], [C[2],D[2]], 'ko', linestyle='-')\n",
    "ax.plot([O3[0],C3[0]], [O3[1],C3[1]], [O3[2],C3[2]], 'ro', linestyle='-')\n",
    "ax.plot([O3[0],B3[0]], [O3[1],B3[1]], [O3[2],B3[2]], 'ro', linestyle='-')\n",
    "ax.plot([O3[0],D3[0]], [O3[1],D3[1]], [O3[2],D3[2]], 'ro', linestyle='-')\n",
    "ax.plot([C3[0],B3[0]], [C3[1],B3[1]], [C3[2],B3[2]], 'ro', linestyle='-')\n",
    "ax.plot([C3[0],D3[0]], [C3[1],D3[1]], [C3[2],D3[2]], 'ro', linestyle='-')\n",
    "ax.plot([D3[0],B3[0]], [D3[1],B3[1]], [D3[2],B3[2]], 'ro', linestyle='-')\n",
    "ax.set_xlabel('x')\n",
    "ax.set_ylabel('y')\n",
    "ax.set_zlabel('z')\n",
    "vstring=\"C+{}i+{}j+{}k\".format(v[0],v[1],v[2])\n",
    "arrow_prop_dict = dict(mutation_scale=20, arrowstyle='-|>', color='b', shrinkA=0, shrinkB=0, linewidth=2)\n",
    "a = Arrow3D([C[0]-3*v[0], C[0]+3*v[0]], [C[1]-3*v[1], C[1]+3*v[1]], [C[2]-3*v[2], C[2]+3*v[2]], **arrow_prop_dict)\n",
    "ax.text(v[0], v[1], v[2], vstring, c='b')\n",
    "ax.add_artist(a)\n",
    "ax.axes.set_xlim3d(left=-2, right=3) \n",
    "ax.axes.set_ylim3d(bottom=-2, top=3) \n",
    "ax.axes.set_zlim3d(bottom=-2, top=3)\n",
    "plt.gca().set_aspect('equal')\n",
    "plt.show()"
   ]
  },
  {
   "cell_type": "markdown",
   "metadata": {
    "id": "vRNgmgRtMsX6"
   },
   "source": [
    "In this final image I have adjusted the viewing angle to highlight that the rotation does appear to have been performed correctly: one of the points has not been rotated, while the others look to have been achieved by a rotation about the blue axis."
   ]
  },
  {
   "cell_type": "markdown",
   "metadata": {
    "id": "180yHbYMM-tF"
   },
   "source": [
    "## Over to you\n",
    "As usual, I recommend that you apply these tools and visualisation techniques to some of the problems seen in the maths tutorial sheet. Can you use Python to confirm your approach to the matrix multiplication by hand? Can you visualise what some of the reflection or rotation questions produce and why?"
   ]
  },
  {
   "cell_type": "code",
   "execution_count": null,
   "metadata": {
    "id": "bZdz4iHXLnx9"
   },
   "outputs": [],
   "source": []
  }
 ],
 "metadata": {
  "colab": {
   "provenance": []
  },
  "kernelspec": {
   "display_name": "Python 3 (ipykernel)",
   "language": "python",
   "name": "python3"
  },
  "language_info": {
   "codemirror_mode": {
    "name": "ipython",
    "version": 3
   },
   "file_extension": ".py",
   "mimetype": "text/x-python",
   "name": "python",
   "nbconvert_exporter": "python",
   "pygments_lexer": "ipython3",
   "version": "3.9.9"
  }
 },
 "nbformat": 4,
 "nbformat_minor": 1
}
