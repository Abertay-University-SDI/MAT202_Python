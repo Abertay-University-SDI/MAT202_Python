{
 "cells": [
  {
   "cell_type": "markdown",
   "metadata": {
    "id": "qjZ_A1UQJKX0"
   },
   "source": [
    "# More 3D Coordinate Transformations\n",
    "\n",
    "We have already shown how Python is capable of performing and visualising the standard set of operations for 3D graphics transformations.\n",
    "\n",
    "There are several additional useful operations than can be performed by matrices. This notebook will examine two of these: *reflection in a given plane* and *rotation about an axis*."
   ]
  },
  {
   "cell_type": "code",
   "execution_count": 1,
   "metadata": {
    "id": "FpSLQGmNJJek"
   },
   "outputs": [],
   "source": [
    "## Libraries\n",
    "import numpy as np\n",
    "import math \n",
    "import matplotlib.pyplot as plt\n",
    "import sympy as sym\n",
    "from mpl_toolkits.mplot3d import Axes3D\n",
    "from matplotlib.patches import FancyArrowPatch\n",
    "from mpl_toolkits.mplot3d import proj3d"
   ]
  },
  {
   "cell_type": "markdown",
   "metadata": {
    "id": "-L7JzHYMOxKx"
   },
   "source": [
    "## Rotation about an arbitrary axis\n",
    "\n",
    "Another useful tool in our 3D transformation arsenal is the ability to rotate a point (or set of points) by a specified angle about a specified axis.\n",
    "\n",
    "In the lectures we learned the procedure to carry out this task:\n",
    "\n",
    "\n",
    "1.   Translate the object to the origin.\n",
    "2.   Align the rotation axis with the $z-$coordinate ($k$).\n",
    "3.   Rotate the object by angle $\\theta$ about $k$-axis.\n",
    "4.   Un-align rotation axis and $k$.\n",
    "5.   Translate object back to original position.\n",
    "\n",
    "Mathematically, we can express these steps as follows:\n",
    "\n",
    "$$\n",
    " R_{\\theta,L} = T_{-\\underline{\\bf{p}}} A_{{\\underline{\\bf{v}}},{\\underline{\\bf{k}}}} R_{\\theta, {\\underline{\\bf{k}}}} \\left(A_{{\\underline{\\bf{v}}},{\\underline{\\bf{k}}}}\\right)^T T_{\\underline{\\bf{p}}}\n",
    "$$\n",
    "\n",
    "where \n",
    "\n",
    "* $R_{\\theta,L}$ is the rotation of an object through an angle $\\theta$ about an axis ${\\bf{v}}$,\n",
    "* $T_{\\underline{\\bf{-p}}}$ translates one point on the object, ${\\bf{p}}$, to the origin,\n",
    "* $A_{{\\underline{\\bf{v}}},{\\underline{\\bf{k}}}}$ aligns the rotation axis with the $z$-direction,\n",
    "* $R_{\\theta, {\\underline{\\bf{k}}}}$ performs the rotation about $z$ by angle $\\theta$,\n",
    "* $\\left(A_{{\\underline{\\bf{v}}},{\\underline{\\bf{k}}}}\\right)^T$ re-orients the rotation vector back to its original direction ${\\bf{v}}$,\n",
    "* $T_{\\underline{\\bf{p}}}$ moves the object back to original position ${\\bf{p}}$.\n",
    "\n",
    "Each of these steps is carried out using matrix operations, hence this whole operation is a concatenation of all these matrices."
   ]
  },
  {
   "cell_type": "markdown",
   "metadata": {},
   "source": [
    "The fundamental idea here is that we already know how to rotate things about the z-axis:\n",
    "\n",
    "$$\n",
    "R_{\\theta_{z,\\underline{\\bf{k}}}}=\n",
    "\t\\begin{pmatrix}\n",
    "\t\\cos(\\theta) & \\sin(\\theta) & 0  & 0 \\\\\n",
    "\t-\\sin(\\theta) & \\cos(\\theta) & 0 & 0 \\\\\n",
    "\t0 & 0 & 1 & 0 \\\\\n",
    "  0 & 0 & 0 & 1\n",
    "\t\\end{pmatrix}.\n",
    "$$\n",
    "\n",
    "Such a rotation would need to occur at the origin, so the familiar translation stages are required:\n",
    "$$\n",
    "T_{-\\underline{p}} = \n",
    "\t{\\begin{pmatrix}\n",
    "\t1 & 0 & 0 & 0  \\\\\n",
    "\t0 & 1 & 0 & 0  \\\\\n",
    "\t0 & 0 & 1 & 0  \\\\\n",
    "\t-p_x & -p_y & -p_z & 1 \n",
    "\t\\end{pmatrix}},~~~\n",
    "T_{\\underline{p}} =\n",
    "\t\\begin{pmatrix}\n",
    "\t1 & 0 & 0 & 0  \\\\\n",
    "\t0 & 1 & 0& 0  \\\\\n",
    "\t0 & 0 & 1 & 0 \\\\\n",
    "\tp_x & p_y & p_z & 1 \n",
    "\t\\end{pmatrix}.\t\n",
    "$$\n",
    "\n",
    "The question then becomes, how to align our rotation axis with the z-axis?\n",
    "\n",
    "The following matrix (found in the formula book) can be readily used to align a vector ${\\underline{\\bf{v}}}=a{\\underline{\\bf{\\hat{i}}}}+b{\\underline{\\bf{\\hat{j}}}}+c{\\underline{\\bf{\\hat{k}}}}$ with ${\\underline{\\bf{k}}}\\left(=0{\\underline{\\bf{\\hat{i}}}}+0{\\underline{\\bf{\\hat{j}}}}+1{\\underline{\\bf{\\hat{k}}}}\\right)$:\n",
    "\n",
    "$$\n",
    "A_{{\\underline{\\bf{v}}},{\\underline{\\bf{k}}}}=\n",
    "\t\\begin{pmatrix}\n",
    "\t\\frac{ac}{\\lambda|{\\underline{\\bf{v}}}|} & -\\frac{b}{\\lambda} & \\frac{a}{|{\\underline{\\bf{v}}}|} & 0 \\\\\n",
    "\t\\frac{bc}{\\lambda|{\\underline{\\bf{v}}}|} & \\frac{a}{\\lambda} & \\frac{b}{|{\\underline{\\bf{v}}}|} & 0 \\\\\n",
    "\t-\\frac{\\lambda}{|{\\underline{\\bf{v}}}|}  & 0                 & \\frac{c}{|{\\underline{\\bf{v}}}|} & 0 \\\\\n",
    "    0 & 0 & 0 & 1\n",
    "\t\\end{pmatrix},~~~~ \\lambda = \\sqrt{a^2+b^2},~~~~~ {\\underline{\\bf{v}}}=\\sqrt{a^2+b^2+c^2}.\n",
    "$$\n",
    "\n",
    "To undo this operation, we apply the *transpose* of this matrix:\n",
    "\n",
    "$$\n",
    "\\left(A_{{\\underline{\\bf{v}}},{\\underline{\\bf{k}}}}\\right)^T=\n",
    "\t\\begin{pmatrix}\n",
    "\t\\frac{ac}{\\lambda|{\\underline{\\bf{v}}}|} & \\frac{bc}{\\lambda|{\\underline{\\bf{v}}}|} & -\\frac{\\lambda}{|{\\underline{\\bf{v}}}|} & 0 \\\\\n",
    "\t-\\frac{b}{\\lambda} & \\frac{a}{\\lambda} & 0 & 0 \\\\\n",
    "\t\\frac{a}{|{\\underline{\\bf{v}}}|}  & \\frac{b}{|{\\underline{\\bf{v}}}|}                 & \\frac{c}{|{\\underline{\\bf{v}}}|} & 0 \\\\\n",
    "    0 & 0 & 0 & 1\n",
    "\t\\end{pmatrix},\n",
    "$$\n",
    "\n",
    "which in practise swaps each row of a matrix for its equivalent column.\n",
    "\n"
   ]
  },
  {
   "cell_type": "code",
   "execution_count": 2,
   "metadata": {
    "id": "bZdz4iHXLnx9"
   },
   "outputs": [
    {
     "data": {
      "text/latex": [
       "$\\displaystyle a$"
      ],
      "text/plain": [
       "a"
      ]
     },
     "execution_count": 2,
     "metadata": {},
     "output_type": "execute_result"
    }
   ],
   "source": [
    "from sympy import sin, cos, Matrix\n",
    "from sympy.abc import rho, theta, a, b, c\n",
    "p_x, p_y, p_z = sym.Symbol('p_x'), sym.Symbol('p_y'), sym.Symbol('p_z')\n",
    "\n",
    "V = sym.Matrix([[a,b,c]])\n",
    "V[0]"
   ]
  },
  {
   "cell_type": "code",
   "execution_count": 3,
   "metadata": {},
   "outputs": [
    {
     "data": {
      "text/latex": [
       "$\\displaystyle \\left[\\begin{matrix}\\frac{a c}{\\sqrt{a^{2} + b^{2}} \\sqrt{a^{2} + b^{2} + c^{2}}} & - \\frac{b}{\\sqrt{a^{2} + b^{2}}} & \\frac{a}{\\sqrt{a^{2} + b^{2} + c^{2}}} & 0\\\\\\frac{b c}{\\sqrt{a^{2} + b^{2}} \\sqrt{a^{2} + b^{2} + c^{2}}} & \\frac{a}{\\sqrt{a^{2} + b^{2}}} & \\frac{b}{\\sqrt{a^{2} + b^{2} + c^{2}}} & 0\\\\- \\frac{\\sqrt{a^{2} + b^{2}}}{\\sqrt{a^{2} + b^{2} + c^{2}}} & 0 & \\frac{c}{\\sqrt{a^{2} + b^{2} + c^{2}}} & 0\\\\0 & 0 & 0 & 1\\end{matrix}\\right]$"
      ],
      "text/plain": [
       "Matrix([\n",
       "[a*c/(sqrt(a**2 + b**2)*sqrt(a**2 + b**2 + c**2)), -b/sqrt(a**2 + b**2), a/sqrt(a**2 + b**2 + c**2), 0],\n",
       "[b*c/(sqrt(a**2 + b**2)*sqrt(a**2 + b**2 + c**2)),  a/sqrt(a**2 + b**2), b/sqrt(a**2 + b**2 + c**2), 0],\n",
       "[     -sqrt(a**2 + b**2)/sqrt(a**2 + b**2 + c**2),                    0, c/sqrt(a**2 + b**2 + c**2), 0],\n",
       "[                                               0,                    0,                          0, 1]])"
      ]
     },
     "execution_count": 3,
     "metadata": {},
     "output_type": "execute_result"
    }
   ],
   "source": [
    "from sympy import sin, cos, Matrix\n",
    "from sympy.abc import rho, theta, a, b, c\n",
    "p_x, p_y, p_z = sym.Symbol('p_x'), sym.Symbol('p_y'), sym.Symbol('p_z')\n",
    "\n",
    "#V = sym.Matrix([[a,b,c]])\n",
    "#mV = sym.sqrt(V[0]*V[0]+V[1]*V[1]+V[2]*V[2])\n",
    "\n",
    "#v = V /mV\n",
    "v = sym.Matrix([[a,b,c]])\n",
    "mv = sym.sqrt(v[0]*v[0]+v[1]*v[1]+v[2]*v[2])\n",
    "lam = sym.sqrt(v[0]*v[0]+v[1]*v[1])\n",
    "\n",
    "\n",
    "R = Matrix([[cos(theta), sin(theta), 0, 0],\n",
    "            [-sin(theta), cos(theta), 0, 0],\n",
    "            [0, 0, 1, 0],\n",
    "            [0, 0, 0, 1]])\n",
    "Tmp = Matrix([[1, 0, 0, 0],\n",
    "            [0, 1, 0, 0],\n",
    "            [0, 0, 1, 0],\n",
    "            [-p_x, -p_y, -p_z, 1]])\n",
    "Tp = Matrix([[1, 0, 0, 0],\n",
    "            [0, 1, 0, 0],\n",
    "            [0, 0, 1, 0],\n",
    "            [p_x, p_y, p_z, 1]])\n",
    "Avk = Matrix([[v[0]*v[2]/lam/mv, -v[1]/lam, v[0]/mv, 0],\n",
    "            [v[1]*v[2]/lam/mv, v[0]/lam, v[1]/mv, 0],\n",
    "            [-lam/mv, 0, v[2]/mv, 0],\n",
    "            [0, 0, 0, 1]])\n",
    "AvkT = Avk.T\n",
    "Avk\n"
   ]
  },
  {
   "cell_type": "code",
   "execution_count": 4,
   "metadata": {},
   "outputs": [],
   "source": [
    "R1 = sym.simplify(Avk*R*AvkT)"
   ]
  },
  {
   "cell_type": "code",
   "execution_count": 6,
   "metadata": {},
   "outputs": [],
   "source": [
    "R2 = R1.replace(a**2+b**2+c**2,1)"
   ]
  },
  {
   "cell_type": "code",
   "execution_count": 8,
   "metadata": {},
   "outputs": [
    {
     "data": {
      "text/latex": [
       "$\\displaystyle \\left[\\begin{matrix}a^{2} + b^{2} \\cos{\\left(\\theta \\right)} + c^{2} \\cos{\\left(\\theta \\right)} & a^{2} c \\sin{\\left(\\theta \\right)} - a b \\cos{\\left(\\theta \\right)} + a b + b^{2} c \\sin{\\left(\\theta \\right)} + c^{3} \\sin{\\left(\\theta \\right)} & - a c \\cos{\\left(\\theta \\right)} + a c - b \\sin{\\left(\\theta \\right)} & 0\\\\- a^{2} c \\sin{\\left(\\theta \\right)} - a b \\cos{\\left(\\theta \\right)} + a b - b^{2} c \\sin{\\left(\\theta \\right)} - c^{3} \\sin{\\left(\\theta \\right)} & a^{2} \\cos{\\left(\\theta \\right)} + b^{2} + c^{2} \\cos{\\left(\\theta \\right)} & a \\sin{\\left(\\theta \\right)} - b c \\cos{\\left(\\theta \\right)} + b c & 0\\\\- a c \\left(\\cos{\\left(\\theta \\right)} - 1\\right) + b \\sin{\\left(\\theta \\right)} & - a \\sin{\\left(\\theta \\right)} - b c \\left(\\cos{\\left(\\theta \\right)} - 1\\right) & c^{2} + \\left(a^{2} + b^{2}\\right) \\cos{\\left(\\theta \\right)} & 0\\\\0 & 0 & 0 & 1\\end{matrix}\\right]$"
      ],
      "text/plain": [
       "Matrix([\n",
       "[                                       a**2 + b**2*cos(theta) + c**2*cos(theta), a**2*c*sin(theta) - a*b*cos(theta) + a*b + b**2*c*sin(theta) + c**3*sin(theta), -a*c*cos(theta) + a*c - b*sin(theta), 0],\n",
       "[-a**2*c*sin(theta) - a*b*cos(theta) + a*b - b**2*c*sin(theta) - c**3*sin(theta),                                       a**2*cos(theta) + b**2 + c**2*cos(theta),  a*sin(theta) - b*c*cos(theta) + b*c, 0],\n",
       "[                                           -a*c*(cos(theta) - 1) + b*sin(theta),                                           -a*sin(theta) - b*c*(cos(theta) - 1),      c**2 + (a**2 + b**2)*cos(theta), 0],\n",
       "[                                                                              0,                                                                              0,                                    0, 1]])"
      ]
     },
     "execution_count": 8,
     "metadata": {},
     "output_type": "execute_result"
    }
   ],
   "source": [
    "sym.simplify(R2)"
   ]
  },
  {
   "cell_type": "code",
   "execution_count": 18,
   "metadata": {},
   "outputs": [
    {
     "data": {
      "text/latex": [
       "$\\displaystyle a^{2} + b^{2} \\cos{\\left(\\theta \\right)} + c^{2} \\cos{\\left(\\theta \\right)}$"
      ],
      "text/plain": [
       "a**2 + b**2*cos(theta) + c**2*cos(theta)"
      ]
     },
     "execution_count": 18,
     "metadata": {},
     "output_type": "execute_result"
    }
   ],
   "source": [
    "R2[0,0]"
   ]
  },
  {
   "cell_type": "code",
   "execution_count": 33,
   "metadata": {},
   "outputs": [
    {
     "data": {
      "text/latex": [
       "$\\displaystyle \\left(a^{2} + b^{2} + c^{2} - 1\\right) \\cos{\\left(\\theta \\right)}$"
      ],
      "text/plain": [
       "(a**2 + b**2 + c**2 - 1)*cos(theta)"
      ]
     },
     "execution_count": 33,
     "metadata": {},
     "output_type": "execute_result"
    }
   ],
   "source": [
    "test = a*a*(1-cos(theta))+cos(theta)\n",
    "test\n",
    "elementdiff = sym.simplify(R2[0,0]-test)\n",
    "#sym.simplify(elementdiff.replace(a**2+b**2+c**2,1)) == 0\n",
    "#sym.simplify(R2[0,0].replace(a**2+b**2+c**2,1)-test) == 0\n",
    "sym.simplify(elementdiff.replace(a**2+b**2+c**2,1))"
   ]
  },
  {
   "cell_type": "code",
   "execution_count": null,
   "metadata": {},
   "outputs": [],
   "source": []
  }
 ],
 "metadata": {
  "colab": {
   "provenance": []
  },
  "kernelspec": {
   "display_name": "Python 3 (ipykernel)",
   "language": "python",
   "name": "python3"
  },
  "language_info": {
   "codemirror_mode": {
    "name": "ipython",
    "version": 3
   },
   "file_extension": ".py",
   "mimetype": "text/x-python",
   "name": "python",
   "nbconvert_exporter": "python",
   "pygments_lexer": "ipython3",
   "version": "3.9.9"
  }
 },
 "nbformat": 4,
 "nbformat_minor": 1
}
