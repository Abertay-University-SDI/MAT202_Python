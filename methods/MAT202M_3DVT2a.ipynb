{
 "cells": [
  {
   "cell_type": "markdown",
   "metadata": {
    "id": "qjZ_A1UQJKX0"
   },
   "source": [
    "# More 3D Coordinate Transformations 2\n",
    "\n",
    "We have already shown how Python is capable of performing and visualising the standard set of operations for 3D graphics transformations.\n",
    "\n",
    "There are several additional useful operations than can be performed by matrices. This notebook will examine one of these specific operations: *rotation about an arbitrary axis*.\n",
    "\n",
    "Note that so far we've only dealt with rotations about the three Cartesian coordinate axis: $x$, $y$ and $z$. What if we need to perform a rotation about an axis that isn't aligned with any of these directions?"
   ]
  },
  {
   "cell_type": "code",
   "execution_count": 27,
   "metadata": {
    "id": "FpSLQGmNJJek"
   },
   "outputs": [],
   "source": [
    "## Libraries\n",
    "import numpy as np\n",
    "import math \n",
    "import matplotlib.pyplot as plt\n",
    "import sympy as sym\n",
    "from mpl_toolkits.mplot3d import Axes3D\n",
    "from matplotlib.patches import FancyArrowPatch\n",
    "from mpl_toolkits.mplot3d import proj3d"
   ]
  },
  {
   "cell_type": "markdown",
   "metadata": {
    "id": "-L7JzHYMOxKx"
   },
   "source": [
    "## Rotation about an arbitrary axis\n",
    "\n",
    "Another useful tool in our 3D transformation arsenal is the ability to rotate a point (or set of points) by a specified angle about a specified axis.\n",
    "\n",
    "In the lectures we learned the procedure to carry out this task:\n",
    "\n",
    "\n",
    "1.   Translate the object to the origin.\n",
    "2.   Align the rotation axis with the $z-$coordinate ($k$).\n",
    "3.   Rotate the object by angle $\\theta$ about $k$-axis.\n",
    "4.   Un-align rotation axis and $k$.\n",
    "5.   Translate object back to original position.\n",
    "\n",
    "Mathematically, we can express these steps as follows:\n",
    "\n",
    "$$\n",
    " R_{\\theta,L} = T_{-\\underline{\\bf{p}}} A_{{\\underline{\\bf{v}}},{\\underline{\\bf{k}}}} R_{\\theta, {\\underline{\\bf{k}}}} \\left(A_{{\\underline{\\bf{v}}},{\\underline{\\bf{k}}}}\\right)^T T_{\\underline{\\bf{p}}}\n",
    "$$\n",
    "\n",
    "where \n",
    "\n",
    "* $R_{\\theta,L}$ is the rotation of an object through an angle $\\theta$ about an axis ${\\bf{v}}$,\n",
    "* $T_{\\underline{\\bf{-p}}}$ translates one point on the object, ${\\bf{p}}$, to the origin,\n",
    "* $A_{{\\underline{\\bf{v}}},{\\underline{\\bf{k}}}}$ aligns the rotation axis with the $z$-direction,\n",
    "* $R_{\\theta, {\\underline{\\bf{k}}}}$ performs the rotation about $z$ by angle $\\theta$,\n",
    "* $\\left(A_{{\\underline{\\bf{v}}},{\\underline{\\bf{k}}}}\\right)^T$ re-orients the rotation vector back to its original direction ${\\bf{v}}$,\n",
    "* $T_{\\underline{\\bf{p}}}$ moves the object back to original position ${\\bf{p}}$.\n",
    "\n",
    "Each of these steps is carried out using matrix operations, hence this whole operation is a concatenation of all these matrices."
   ]
  },
  {
   "cell_type": "markdown",
   "metadata": {},
   "source": [
    "The fundamental idea here is that we already know how to rotate things about the z-axis:\n",
    "\n",
    "$$\n",
    "R_{\\theta_{z,\\underline{\\bf{k}}}}=\n",
    "\t\\begin{pmatrix}\n",
    "\t\\cos(\\theta) & \\sin(\\theta) & 0  & 0 \\\\\n",
    "\t-\\sin(\\theta) & \\cos(\\theta) & 0 & 0 \\\\\n",
    "\t0 & 0 & 1 & 0 \\\\\n",
    "  0 & 0 & 0 & 1\n",
    "\t\\end{pmatrix}.\n",
    "$$\n",
    "\n",
    "Such a rotation would need to occur at the origin, so the familiar translation stages are required:\n",
    "$$\n",
    "T_{-\\underline{p}} = \n",
    "\t{\\begin{pmatrix}\n",
    "\t1 & 0 & 0 & 0  \\\\\n",
    "\t0 & 1 & 0 & 0  \\\\\n",
    "\t0 & 0 & 1 & 0  \\\\\n",
    "\t-p_x & -p_y & -p_z & 1 \n",
    "\t\\end{pmatrix}},~~~\n",
    "T_{\\underline{p}} =\n",
    "\t\\begin{pmatrix}\n",
    "\t1 & 0 & 0 & 0  \\\\\n",
    "\t0 & 1 & 0& 0  \\\\\n",
    "\t0 & 0 & 1 & 0 \\\\\n",
    "\tp_x & p_y & p_z & 1 \n",
    "\t\\end{pmatrix}.\t\n",
    "$$\n",
    "\n",
    "The question then becomes, how to align our rotation axis with the z-axis?\n",
    "\n",
    "The following matrix (found in the formula book) can be readily used to align a vector ${\\underline{\\bf{v}}}=a{\\underline{\\bf{\\hat{i}}}}+b{\\underline{\\bf{\\hat{j}}}}+c{\\underline{\\bf{\\hat{k}}}}$ with ${\\underline{\\bf{k}}}\\left(=0{\\underline{\\bf{\\hat{i}}}}+0{\\underline{\\bf{\\hat{j}}}}+1{\\underline{\\bf{\\hat{k}}}}\\right)$:\n",
    "\n",
    "$$\n",
    "A_{{\\underline{\\bf{v}}},{\\underline{\\bf{k}}}}=\n",
    "\t\\begin{pmatrix}\n",
    "\t\\frac{ac}{\\lambda|{\\underline{\\bf{v}}}|} & -\\frac{b}{\\lambda} & \\frac{a}{|{\\underline{\\bf{v}}}|} & 0 \\\\\n",
    "\t\\frac{bc}{\\lambda|{\\underline{\\bf{v}}}|} & \\frac{a}{\\lambda} & \\frac{b}{|{\\underline{\\bf{v}}}|} & 0 \\\\\n",
    "\t-\\frac{\\lambda}{|{\\underline{\\bf{v}}}|}  & 0                 & \\frac{c}{|{\\underline{\\bf{v}}}|} & 0 \\\\\n",
    "    0 & 0 & 0 & 1\n",
    "\t\\end{pmatrix},~~~~ \\lambda = \\sqrt{a^2+b^2},~~~~~ {\\underline{\\bf{v}}}=\\sqrt{a^2+b^2+c^2}.\n",
    "$$\n",
    "\n",
    "To undo this operation, we apply the *transpose* of this matrix:\n",
    "\n",
    "$$\n",
    "\\left(A_{{\\underline{\\bf{v}}},{\\underline{\\bf{k}}}}\\right)^T=\n",
    "\t\\begin{pmatrix}\n",
    "\t\\frac{ac}{\\lambda|{\\underline{\\bf{v}}}|} & \\frac{bc}{\\lambda{\\underline{\\bf{v}}}} & -\\frac{\\lambda}{|{\\underline{\\bf{v}}}|} & 0 \\\\\n",
    "\t-\\frac{b}{\\lambda} & \\frac{a}{\\lambda} & 0 & 0 \\\\\n",
    "\t\\frac{a}{|{\\underline{\\bf{v}}}|}  & \\frac{b}{|{\\underline{\\bf{v}}}|}                 & \\frac{c}{|{\\underline{\\bf{v}}}|} & 0 \\\\\n",
    "    0 & 0 & 0 & 1\n",
    "\t\\end{pmatrix},\n",
    "$$\n",
    "\n",
    "which in practise swaps each row of a matrix for its equivalent column.\n",
    "\n",
    "Let's put our sequence of operations together in Python using an example:"
   ]
  },
  {
   "cell_type": "markdown",
   "metadata": {},
   "source": [
    "### Lecture example: Rotating a pyramid\n",
    "**The pyramid defined by coordinates $O(0,0,0), B(1,0,0), C(0,1,0)$ and $D(0,0,1)$ is rotated by $45^o$ about the line that has direction $\\vec{v}=\\vec{j}+\\vec{k}$ and passes through:**\n",
    "\n",
    "\n",
    "1.   **the origin;**\n",
    "2.   **the point C(0,1,0).**\n",
    "**Obtain the vertices of the rotated figure in both cases.**"
   ]
  },
  {
   "cell_type": "markdown",
   "metadata": {
    "id": "PJum_UgRFCTf"
   },
   "source": [
    "We will start by defining the coordinates specified in the question:"
   ]
  },
  {
   "cell_type": "code",
   "execution_count": 28,
   "metadata": {
    "id": "9fnfD5GRFBss"
   },
   "outputs": [],
   "source": [
    "O = [0,0,0]\n",
    "B = [1,0,0]\n",
    "C = [0,1,0]\n",
    "D = [0,0,1]\n",
    "x_vals2=[O[0],B[0],C[0],D[0]]\n",
    "y_vals2=[O[1],B[1],C[1],D[1]]\n",
    "z_vals2=[O[2],B[2],C[2],D[2]]"
   ]
  },
  {
   "cell_type": "markdown",
   "metadata": {
    "id": "7ld5UlID6H-s"
   },
   "source": [
    "Let's first establish what the pyramid looks like prior to any rotation:"
   ]
  },
  {
   "cell_type": "code",
   "execution_count": 29,
   "metadata": {
    "colab": {
     "base_uri": "https://localhost:8080/",
     "height": 417
    },
    "id": "5Y0hIjOv6QMc",
    "outputId": "0a5df0c1-168d-4f47-b1eb-ebc7b923490b"
   },
   "outputs": [
    {
     "data": {
      "image/png": "[encoded data removed]",
      "text/plain": [
       "<Figure size 432x288 with 1 Axes>"
      ]
     },
     "metadata": {
      "needs_background": "light"
     },
     "output_type": "display_data"
    }
   ],
   "source": [
    "p2 = np.array([x_vals2, y_vals2, z_vals2])\n",
    "ax = plt.figure().add_subplot(projection='3d')\n",
    "ax.view_init(elev=20, azim=30, roll=0)\n",
    "ax.plot([O[0],C[0]], [O[1],C[1]], [O[2],C[2]], 'ko', linestyle='-')\n",
    "ax.plot([O[0],B[0]], [O[1],B[1]], [O[2],B[2]], 'ko', linestyle='-')\n",
    "ax.plot([O[0],D[0]], [O[1],D[1]], [O[2],D[2]], 'ko', linestyle='-')\n",
    "ax.plot([C[0],B[0]], [C[1],B[1]], [C[2],B[2]], 'ko', linestyle='-')\n",
    "ax.plot([C[0],D[0]], [C[1],D[1]], [C[2],D[2]], 'ko', linestyle='-')\n",
    "ax.plot([D[0],B[0]], [D[1],B[1]], [D[2],B[2]], 'ko', linestyle='-')\n",
    "ax.set_xlabel('x')\n",
    "ax.set_ylabel('y')\n",
    "ax.set_zlabel('z')\n",
    "ax.axes.set_xlim3d(left=-2, right=3) \n",
    "ax.axes.set_ylim3d(bottom=-2, top=3) \n",
    "ax.axes.set_zlim3d(bottom=-2, top=3)\n",
    "plt.gca().set_aspect('equal')\n",
    "plt.show()"
   ]
  },
  {
   "cell_type": "markdown",
   "metadata": {},
   "source": [
    "Part of the pyramid already sits at the origin, meaning that we don't require steps 1 and 5 in the sequence (i.e. no translation required). \n",
    "We need to:\n",
    "\n",
    "1. align the rotation vector with z using $A_{{\\underline{\\bf{v}}},{\\underline{\\bf{k}}}}$.\n",
    "2. perform the rotation using $R_{\\theta, {\\underline{\\bf{k}}}}$.\n",
    "3. unalign the rotation vector $\\left(A_{{\\underline{\\bf{v}}},{\\underline{\\bf{k}}}}\\right)^T$."
   ]
  },
  {
   "cell_type": "markdown",
   "metadata": {},
   "source": [
    "The first of these steps requires us to align the vector ${\\bf{v}}=0{\\bf{\\hat{i}}}+1{\\bf{\\hat{j}}}+1{\\bf{\\hat{k}}}$ with the ${\\bf{k}}$-axis using the alignment matrix:"
   ]
  },
  {
   "cell_type": "code",
   "execution_count": 30,
   "metadata": {},
   "outputs": [],
   "source": [
    "theta = 45\n",
    "v = [0,1,1]\n",
    "mv = np.linalg.norm(v) #modulus of v\n",
    "lam = np.linalg.norm(v[0:2]) #modulus of first two elements of v\n",
    "A_vk = np.matrix([[v[0]*v[2]/lam/mv, -v[1]/lam, v[0]/mv, 0], \n",
    "                [v[1]*v[2]/lam/mv, v[0]/lam, v[1]/mv, 0], \n",
    "                [-lam/mv, 0, v[2]/mv, 0],\n",
    "                [0, 0, 0, 1]])"
   ]
  },
  {
   "cell_type": "markdown",
   "metadata": {},
   "source": [
    "Now that we have the alignment matrix set up, Python helps us to very quickly identify the transpose, which we need to \"unalign\" the rotation vector:"
   ]
  },
  {
   "cell_type": "code",
   "execution_count": 31,
   "metadata": {},
   "outputs": [],
   "source": [
    "A_vkT = A_vk.transpose()"
   ]
  },
  {
   "cell_type": "markdown",
   "metadata": {},
   "source": [
    "Finally, we'll set up the rotation matrix in the usual way based on the angle $\\theta$ defined a couple of steps ago"
   ]
  },
  {
   "cell_type": "code",
   "execution_count": 32,
   "metadata": {},
   "outputs": [],
   "source": [
    "R_tk = np.matrix([[np.cos(math.radians(theta)), np.sin(math.radians(theta)), 0, 0],\n",
    "                      [-np.sin(math.radians(theta)), np.cos(math.radians(theta)), 0, 0], \n",
    "                      [0, 0, 1, 0], \n",
    "                      [0, 0, 0, 1]]) "
   ]
  },
  {
   "cell_type": "markdown",
   "metadata": {},
   "source": [
    "Converting the vertices into a stack of vectors, we can then apply each of these transformations in one go, and print both the original positions, and the rotated ones:"
   ]
  },
  {
   "cell_type": "code",
   "execution_count": 33,
   "metadata": {},
   "outputs": [
    {
     "name": "stdout",
     "output_type": "stream",
     "text": [
      "original points:\n",
      "[[0 0 0 1]\n",
      " [1 0 0 1]\n",
      " [0 1 0 1]\n",
      " [0 0 1 1]]\n",
      "rotated points:\n",
      "[[ 0.          0.          0.          1.        ]\n",
      " [ 0.70710678  0.5        -0.5         1.        ]\n",
      " [-0.5         0.85355339  0.14644661  1.        ]\n",
      " [ 0.5         0.14644661  0.85355339  1.        ]]\n"
     ]
    }
   ],
   "source": [
    "nr2 = [1 for x in range(len(x_vals2))]\n",
    "kp = np.vstack([p2, nr2])\n",
    "print(\"original points:\")\n",
    "print(kp.transpose())\n",
    "fp = kp.transpose()*A_vk*R_tk*A_vkT\n",
    "print(\"rotated points:\")\n",
    "print(fp)"
   ]
  },
  {
   "cell_type": "markdown",
   "metadata": {
    "id": "ieSlMy4_JYNY"
   },
   "source": [
    "Thus we have rotated the object, and have returned the rotated positions in homogenous coordinates.\n",
    "\n",
    "We'll convert these positions back to Cartesian coordinates ready for plotting:"
   ]
  },
  {
   "cell_type": "code",
   "execution_count": 34,
   "metadata": {
    "id": "PP-jVviMJOJb"
   },
   "outputs": [],
   "source": [
    "newp2 = fp[:,0:3].transpose()\n",
    "x_vals2n = np.squeeze(np.asarray(newp2[0,:]))\n",
    "y_vals2n = np.squeeze(np.asarray(newp2[1,:]))\n",
    "z_vals2n = np.squeeze(np.asarray(newp2[2,:]))\n",
    "O2 = np.squeeze(np.asarray(newp2[:,0]))\n",
    "B2 = np.squeeze(np.asarray(newp2[:,1]))\n",
    "C2 = np.squeeze(np.asarray(newp2[:,2]))\n",
    "D2 = np.squeeze(np.asarray(newp2[:,3]))"
   ]
  },
  {
   "cell_type": "markdown",
   "metadata": {},
   "source": [
    "Now we can look to visualise the result. First I will set up some custom arrows for Python to plot: we want to identify the vector about which the rotation is performed."
   ]
  },
  {
   "cell_type": "code",
   "execution_count": 35,
   "metadata": {
    "id": "IfWKslq5HaZi"
   },
   "outputs": [],
   "source": [
    "class Arrow3D(FancyArrowPatch):\n",
    "    def __init__(self, xs, ys, zs, *args, **kwargs):\n",
    "        super().__init__((0,0), (0,0), *args, **kwargs)\n",
    "        self._verts3d = xs, ys, zs\n",
    "\n",
    "    def do_3d_projection(self, renderer=None):\n",
    "        xs3d, ys3d, zs3d = self._verts3d\n",
    "        xs, ys, zs = proj3d.proj_transform(xs3d, ys3d, zs3d, self.axes.M)\n",
    "        self.set_positions((xs[0],ys[0]),(xs[1],ys[1]))\n",
    "\n",
    "        return np.min(zs)"
   ]
  },
  {
   "cell_type": "markdown",
   "metadata": {},
   "source": [
    "The plot setup will build on what we have used before. We will include the original pyramid shape (black), and its rotated equivalent (red), plus a blue arrow denoting the axis of rotation:"
   ]
  },
  {
   "cell_type": "code",
   "execution_count": 36,
   "metadata": {
    "colab": {
     "base_uri": "https://localhost:8080/",
     "height": 417
    },
    "id": "XXi0yVvOA2cK",
    "outputId": "a5b4ff66-f5c8-4ef4-df97-084b02ffd035"
   },
   "outputs": [
    {
     "data": {
      "image/png": "[encoded data removed]",
      "text/plain": [
       "<Figure size 432x288 with 1 Axes>"
      ]
     },
     "metadata": {
      "needs_background": "light"
     },
     "output_type": "display_data"
    }
   ],
   "source": [
    "ax = plt.figure().add_subplot(projection='3d')\n",
    "ax.view_init(elev=20, azim=30, roll=0)\n",
    "ax.plot([O[0],B[0]], [O[1],B[1]], [O[2],B[2]], 'ko', linestyle='-')\n",
    "ax.plot([O[0],C[0]], [O[1],C[1]], [O[2],C[2]], 'ko', linestyle='-')\n",
    "ax.plot([O[0],D[0]], [O[1],D[1]], [O[2],D[2]], 'ko', linestyle='-')\n",
    "ax.plot([C[0],B[0]], [C[1],B[1]], [C[2],B[2]], 'ko', linestyle='-')\n",
    "ax.plot([D[0],B[0]], [D[1],B[1]], [D[2],B[2]], 'ko', linestyle='-')\n",
    "ax.plot([C[0],D[0]], [C[1],D[1]], [C[2],D[2]], 'ko', linestyle='-')\n",
    "ax.plot([O2[0],C2[0]], [O2[1],C2[1]], [O2[2],C2[2]], 'ro', linestyle='-')\n",
    "ax.plot([O2[0],B2[0]], [O2[1],B2[1]], [O2[2],B2[2]], 'ro', linestyle='-')\n",
    "ax.plot([O2[0],D2[0]], [O2[1],D2[1]], [O2[2],D2[2]], 'ro', linestyle='-')\n",
    "ax.plot([C2[0],B2[0]], [C2[1],B2[1]], [C2[2],B2[2]], 'ro', linestyle='-')\n",
    "ax.plot([C2[0],D2[0]], [C2[1],D2[1]], [C2[2],D2[2]], 'ro', linestyle='-')\n",
    "ax.plot([D2[0],B2[0]], [D2[1],B2[1]], [D2[2],B2[2]], 'ro', linestyle='-')\n",
    "ax.set_xlabel('x')\n",
    "ax.set_ylabel('y')\n",
    "ax.set_zlabel('z')\n",
    "vstring=\"{}i+{}j+{}k\".format(v[0],v[1],v[2])\n",
    "arrow_prop_dict = dict(mutation_scale=20, arrowstyle='-|>', color='b', shrinkA=0, shrinkB=0, linewidth=2)\n",
    "a = Arrow3D([-3*v[0], 3*v[0]], [-3*v[1], 3*v[1]], [-3*v[2], 3*v[2]], **arrow_prop_dict)\n",
    "ax.text(v[0], v[1], v[2], vstring, c='b')\n",
    "ax.add_artist(a)\n",
    "ax.axes.set_xlim3d(left=-2, right=3) \n",
    "ax.axes.set_ylim3d(bottom=-2, top=3) \n",
    "ax.axes.set_zlim3d(bottom=-2, top=3)\n",
    "plt.gca().set_aspect('equal')\n",
    "plt.show()"
   ]
  },
  {
   "cell_type": "markdown",
   "metadata": {},
   "source": [
    "As in previous 3D examples, it is difficult to confirm the rotation has been carried out successfully using still 3D images. Try varying the rotation angle of the problem, or the viewing angle in the plotting commands to verify the behaviour of the solution."
   ]
  },
  {
   "cell_type": "markdown",
   "metadata": {},
   "source": [
    "### Sanity check (arbitrary axis rotation):\n",
    "This set of steps is complicated.\n",
    "There is an alternative to this process, which you can find in the formula booklet:\n",
    "\n",
    "$$\n",
    "\t{R_{\\theta,\\underline{\\hat{v}}}=\n",
    "\t\\begin{pmatrix}\n",
    "\t\\alpha^2(1-\\cos\\theta)+\\cos\\theta & \\alpha\\beta(1-\\cos\\theta)+\\gamma\\sin\\theta & \\alpha\\gamma(1-\\cos\\theta)-\\beta\\sin\\theta & 0   \\\\\n",
    "\t\\alpha\\beta(1-\\cos\\theta)-\\gamma\\sin\\theta & \\beta^2(1-\\cos\\theta)+\\cos\\theta & \\beta\\gamma(1-\\cos\\theta)+\\alpha\\sin\\theta  & 0 \\\\\n",
    "\t\\alpha\\gamma(1-\\cos\\theta)+\\beta\\sin\\theta & \\beta\\gamma(1-\\cos\\theta)-\\alpha\\sin\\theta & \\gamma^2(1-\\cos\\theta)+\\cos\\theta & 0 \\\\\n",
    "\t0 & 0 & 0 & 1 \n",
    "\t\\end{pmatrix}},\n",
    "$$\n",
    "\n",
    "for a rotation by angle $\\theta$ about the unit vector ${\\vec{v}}=\\alpha{\\vec{i}}+\\beta{\\vec{j}}+\\gamma{\\vec{k}} $.\n",
    "\n",
    "**This matrix and applications are not included/tested in this course**, as the mathematics behind this matrix is more involved. However it will produce the same result!\n",
    "\n",
    "Let's verify our findings using this new matrix:"
   ]
  },
  {
   "cell_type": "markdown",
   "metadata": {
    "id": "bKjaVlHo9cal"
   },
   "source": [
    "First, this new matrix needs the axis of rotation to be framed as a unit vector.\n",
    "\n",
    "I'm too lazy to check if the vector is unit or not: I'll just divide the vector by its modulus (that way if the vector is already unit, dividing by its size won't change the vector):"
   ]
  },
  {
   "cell_type": "code",
   "execution_count": 37,
   "metadata": {
    "colab": {
     "base_uri": "https://localhost:8080/"
    },
    "id": "0bMftOrH9pVm",
    "outputId": "951a2798-1ff2-4da2-e52e-df9d8b70027e"
   },
   "outputs": [
    {
     "name": "stdout",
     "output_type": "stream",
     "text": [
      "[0.         0.70710678 0.70710678]\n"
     ]
    }
   ],
   "source": [
    "v_hat = v / np.linalg.norm(v)\n",
    "print(v_hat)"
   ]
  },
  {
   "cell_type": "markdown",
   "metadata": {
    "id": "bnezW0GWFwRd"
   },
   "source": [
    "We now have all the ingredients we need to fill the abitrary rotation matrix. Remember that, in Python, arguments for trigonometric functions must be in radians:"
   ]
  },
  {
   "cell_type": "code",
   "execution_count": 38,
   "metadata": {
    "id": "chKahpTf927w"
   },
   "outputs": [
    {
     "name": "stdout",
     "output_type": "stream",
     "text": [
      "rotated positions by alignment operations:\n",
      "[[ 0.          0.          0.          1.        ]\n",
      " [ 0.70710678  0.5        -0.5         1.        ]\n",
      " [-0.5         0.85355339  0.14644661  1.        ]\n",
      " [ 0.5         0.14644661  0.85355339  1.        ]]\n",
      "rotated positions by 3D rotation matrix:\n",
      "[[ 0.          0.          0.          1.        ]\n",
      " [ 0.70710678  0.5        -0.5         1.        ]\n",
      " [-0.5         0.85355339  0.14644661  1.        ]\n",
      " [ 0.5         0.14644661  0.85355339  1.        ]]\n"
     ]
    }
   ],
   "source": [
    "alpha = v_hat[0]\n",
    "beta = v_hat[1]\n",
    "gamma = v_hat[2]\n",
    "st = np.sin(math.radians(theta))\n",
    "ct = np.cos(math.radians(theta))\n",
    "R_tv = np.matrix([[alpha*alpha*(1-ct)+ct, alpha*beta*(1-ct)+gamma*st, alpha*gamma*(1-ct)-beta*st, 0], \n",
    "                [alpha*beta*(1-ct)-gamma*st, beta*beta*(1-ct)+ct, beta*gamma*(1-ct)+alpha*st, 0], \n",
    "                [alpha*gamma*(1-ct)+beta*st, beta*gamma*(1-ct)-alpha*st, gamma*gamma*(1-ct)+ct, 0],\n",
    "                [0, 0, 0, 1]])\n",
    "\n",
    "print(\"rotated positions by alignment operations:\")\n",
    "print(fp)\n",
    "fp2 = kp.transpose()*R_tv\n",
    "print(\"rotated positions by 3D rotation matrix:\")\n",
    "print(fp2)"
   ]
  },
  {
   "cell_type": "markdown",
   "metadata": {},
   "source": [
    "Note that the solutions are identical. We can actually prove they are identical (though we have to use a special command, as, due to the trig functions, some of the values disagree by 15 or so decimal places(!). The \"np.allclose\" function checks element by element if two arrays are equal within a tolerance:"
   ]
  },
  {
   "cell_type": "code",
   "execution_count": 39,
   "metadata": {},
   "outputs": [
    {
     "data": {
      "text/plain": [
       "True"
      ]
     },
     "execution_count": 39,
     "metadata": {},
     "output_type": "execute_result"
    }
   ],
   "source": [
    "np.allclose(fp, fp2)"
   ]
  },
  {
   "cell_type": "markdown",
   "metadata": {
    "id": "SppulnZ-KH2C"
   },
   "source": [
    "### Part 2: Rotation about axis not at origin\n",
    "In the second part of the question, the axis of rotation no longer passes through the origin, but actually through coordinate $C$. \n",
    "\n",
    "The neat thing about this is that we have done most of the hard work already, since the rotation axis, and angle of rotation are *unchanged*. All that is required is that we add a *translation* to the start and end of the sequence of operations.\n",
    "\n",
    "\n",
    "In Python, we can just *re-use* the matrices we already created for $A_{{\\underline{\\bf{v}}},{\\underline{\\bf{k}}}}$, $R_{\\theta, {\\underline{\\bf{k}}}}$ and $\\left(A_{{\\underline{\\bf{v}}},{\\underline{\\bf{k}}}}\\right)^T$, and simply book-end these with the necessary translations:"
   ]
  },
  {
   "cell_type": "code",
   "execution_count": 40,
   "metadata": {
    "colab": {
     "base_uri": "https://localhost:8080/"
    },
    "id": "PCo5OWxCAR-k",
    "outputId": "dc9c20e8-0493-42b5-da73-6f4581d60421"
   },
   "outputs": [
    {
     "name": "stdout",
     "output_type": "stream",
     "text": [
      "rotated positions by alignment operations:\n",
      "[[ 0.5         0.14644661 -0.14644661  1.        ]\n",
      " [ 1.20710678  0.64644661 -0.64644661  1.        ]\n",
      " [ 0.          1.          0.          1.        ]\n",
      " [ 1.          0.29289322  0.70710678  1.        ]]\n",
      "check if output matches output from 3D arbitrary rotation matrix:\n"
     ]
    },
    {
     "data": {
      "text/plain": [
       "True"
      ]
     },
     "execution_count": 40,
     "metadata": {},
     "output_type": "execute_result"
    }
   ],
   "source": [
    "T_mp = np.matrix([[1, 0, 0, 0], \n",
    "                [0, 1, 0, 0], \n",
    "                [0, 0, 1, 0],\n",
    "                [-C[0],-C[1], -C[2], 1]])\n",
    "T_pp = np.matrix([[1, 0, 0, 0], \n",
    "                [0, 1, 0, 0], \n",
    "                [0, 0, 1, 0],\n",
    "                [C[0], C[1], C[2], 1]])\n",
    "print(\"rotated positions by alignment operations:\")\n",
    "fp3 = kp.transpose()*T_mp*A_vk*R_tk*A_vkT*T_pp\n",
    "print(fp3)\n",
    "#print(\"rotated positions by 3D rotation matrix:\")\n",
    "fp4 = kp.transpose()*T_mp*R_tv*T_pp\n",
    "#print(fp4)\n",
    "print(\"check if output matches output from 3D arbitrary rotation matrix:\")\n",
    "np.allclose(fp3, fp4)"
   ]
  },
  {
   "cell_type": "markdown",
   "metadata": {
    "id": "wiFtcyxHMOmH"
   },
   "source": [
    "With this technique we have very quickly recovered the solutions we determined in the lecture example.\n",
    "\n",
    "Again, can we visualise this rotation using Python? As the rotation axis now passes through the point C, so we would expect that the pyramid rotates about C (while C itself remains unaffected).\n",
    "\n",
    "Taking the coordinates we found above, we can transpose them and group them together to make a visual comparison with the pyramid we started with."
   ]
  },
  {
   "cell_type": "code",
   "execution_count": 41,
   "metadata": {
    "id": "XJguYJXFAwgu"
   },
   "outputs": [],
   "source": [
    "newp3 = fp3[:,0:3].transpose()\n",
    "x_vals3n = np.squeeze(np.asarray(newp3[0,:]))\n",
    "y_vals3n = np.squeeze(np.asarray(newp3[1,:]))\n",
    "z_vals3n = np.squeeze(np.asarray(newp3[2,:]))\n",
    "O3 = np.squeeze(np.asarray(newp3[:,0]))\n",
    "B3 = np.squeeze(np.asarray(newp3[:,1]))\n",
    "C3 = np.squeeze(np.asarray(newp3[:,2]))\n",
    "D3 = np.squeeze(np.asarray(newp3[:,3]))"
   ]
  },
  {
   "cell_type": "code",
   "execution_count": 42,
   "metadata": {
    "colab": {
     "base_uri": "https://localhost:8080/",
     "height": 417
    },
    "id": "HLpQQhzdK3ld",
    "outputId": "4678eebe-2381-4877-d0c1-2fcf10468f2d"
   },
   "outputs": [
    {
     "data": {
      "image/png": "[encoded data removed]",
      "text/plain": [
       "<Figure size 432x288 with 1 Axes>"
      ]
     },
     "metadata": {
      "needs_background": "light"
     },
     "output_type": "display_data"
    }
   ],
   "source": [
    "ax = plt.figure().add_subplot(projection='3d')\n",
    "ax.view_init(elev=20, azim=240, roll=0)\n",
    "ax.plot([O[0],B[0]], [O[1],B[1]], [O[2],B[2]], 'ko', linestyle='-')\n",
    "ax.plot([O[0],C[0]], [O[1],C[1]], [O[2],C[2]], 'ko', linestyle='-')\n",
    "ax.plot([O[0],D[0]], [O[1],D[1]], [O[2],D[2]], 'ko', linestyle='-')\n",
    "ax.plot([C[0],B[0]], [C[1],B[1]], [C[2],B[2]], 'ko', linestyle='-')\n",
    "ax.plot([D[0],B[0]], [D[1],B[1]], [D[2],B[2]], 'ko', linestyle='-')\n",
    "ax.plot([C[0],D[0]], [C[1],D[1]], [C[2],D[2]], 'ko', linestyle='-')\n",
    "ax.plot([O3[0],C3[0]], [O3[1],C3[1]], [O3[2],C3[2]], 'ro', linestyle='-')\n",
    "ax.plot([O3[0],B3[0]], [O3[1],B3[1]], [O3[2],B3[2]], 'ro', linestyle='-')\n",
    "ax.plot([O3[0],D3[0]], [O3[1],D3[1]], [O3[2],D3[2]], 'ro', linestyle='-')\n",
    "ax.plot([C3[0],B3[0]], [C3[1],B3[1]], [C3[2],B3[2]], 'ro', linestyle='-')\n",
    "ax.plot([C3[0],D3[0]], [C3[1],D3[1]], [C3[2],D3[2]], 'ro', linestyle='-')\n",
    "ax.plot([D3[0],B3[0]], [D3[1],B3[1]], [D3[2],B3[2]], 'ro', linestyle='-')\n",
    "ax.set_xlabel('x')\n",
    "ax.set_ylabel('y')\n",
    "ax.set_zlabel('z')\n",
    "vstring=\"C+{}i+{}j+{}k\".format(v[0],v[1],v[2])\n",
    "arrow_prop_dict = dict(mutation_scale=20, arrowstyle='-|>', color='b', shrinkA=0, shrinkB=0, linewidth=2)\n",
    "a = Arrow3D([C[0]-3*v[0], C[0]+3*v[0]], [C[1]-3*v[1], C[1]+3*v[1]], [C[2]-3*v[2], C[2]+3*v[2]], **arrow_prop_dict)\n",
    "ax.text(v[0], v[1], v[2], vstring, c='b')\n",
    "ax.add_artist(a)\n",
    "ax.axes.set_xlim3d(left=-2, right=3) \n",
    "ax.axes.set_ylim3d(bottom=-2, top=3) \n",
    "ax.axes.set_zlim3d(bottom=-2, top=3)\n",
    "plt.gca().set_aspect('equal')\n",
    "plt.show()"
   ]
  },
  {
   "cell_type": "markdown",
   "metadata": {
    "id": "vRNgmgRtMsX6"
   },
   "source": [
    "In this final image I have adjusted the viewing angle to highlight that the rotation does appear to have been performed correctly: one of the points ($C$) has not been rotated, while the others look to be rotated about $C$ and the blue axis."
   ]
  },
  {
   "cell_type": "markdown",
   "metadata": {
    "id": "180yHbYMM-tF"
   },
   "source": [
    "## Over to you\n",
    "As usual, I recommend that you apply these tools and visualisation techniques to some of the problems seen in the maths tutorial sheet. Can you use Python to confirm your approach to the matrix multiplication by hand? Can you visualise a rotation about some arbitrary axis?"
   ]
  },
  {
   "cell_type": "code",
   "execution_count": null,
   "metadata": {
    "id": "bZdz4iHXLnx9"
   },
   "outputs": [],
   "source": []
  }
 ],
 "metadata": {
  "colab": {
   "provenance": []
  },
  "kernelspec": {
   "display_name": "Python 3 (ipykernel)",
   "language": "python",
   "name": "python3"
  },
  "language_info": {
   "codemirror_mode": {
    "name": "ipython",
    "version": 3
   },
   "file_extension": ".py",
   "mimetype": "text/x-python",
   "name": "python",
   "nbconvert_exporter": "python",
   "pygments_lexer": "ipython3",
   "version": "3.9.9"
  }
 },
 "nbformat": 4,
 "nbformat_minor": 1
}
