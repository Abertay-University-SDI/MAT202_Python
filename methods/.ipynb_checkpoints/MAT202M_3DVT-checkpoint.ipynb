{
 "cells": [
  {
   "cell_type": "markdown",
   "metadata": {
    "id": "qjZ_A1UQJKX0"
   },
   "source": [
    "# Coordinate Transformations in 3D\n",
    "\n",
    "Following on from 2D graphics transformations, we can extend all standard operations into 3D, retaining and using homogenous coordinates. Our objective will again be to combine the required standard sets of operations into a single *composite* matrix."
   ]
  },
  {
   "cell_type": "code",
   "execution_count": 2,
   "metadata": {
    "executionInfo": {
     "elapsed": 1297,
     "status": "ok",
     "timestamp": 1682092552383,
     "user": {
      "displayName": "James Threlfall",
      "userId": "12893452708265254015"
     },
     "user_tz": -60
    },
    "id": "FpSLQGmNJJek"
   },
   "outputs": [],
   "source": [
    "## Libraries\n",
    "%matplotlib inline\n",
    "import numpy as np\n",
    "import math \n",
    "import matplotlib.pyplot as plt\n",
    "from mpl_toolkits.mplot3d import Axes3D\n",
    "from mpl_toolkits.mplot3d import proj3d\n",
    "import sympy as sym"
   ]
  },
  {
   "cell_type": "markdown",
   "metadata": {
    "id": "RtzS7U8IOfPT"
   },
   "source": [
    "Let's set up a matrix of positions that we can transform.\n",
    "This time, for arguments sake, we'll play with a 3D triangle, with vertices A (1,0,0), B (1,3,-2) and C (2,2,2).\n",
    "\n",
    "It is easier to create separate arrays containing $x$, $y$, and $z$ values."
   ]
  },
  {
   "cell_type": "code",
   "execution_count": 3,
   "metadata": {
    "colab": {
     "base_uri": "https://localhost:8080/",
     "height": 418
    },
    "executionInfo": {
     "elapsed": 18,
     "status": "ok",
     "timestamp": 1682092552384,
     "user": {
      "displayName": "James Threlfall",
      "userId": "12893452708265254015"
     },
     "user_tz": -60
    },
    "id": "_A2KzPJyJjDw",
    "outputId": "12c88c89-ed4c-4b87-9fba-0835b3eb505b"
   },
   "outputs": [
    {
     "data": {
      "image/png": "[encoded data removed]",
      "text/plain": [
       "<Figure size 432x288 with 1 Axes>"
      ]
     },
     "metadata": {
      "needs_background": "light"
     },
     "output_type": "display_data"
    }
   ],
   "source": [
    "x_vals = np.array([1, 1, 2])\n",
    "y_vals = np.array([0, 3, 2])\n",
    "z_vals = np.array([0,-2, 2])\n",
    "p = np.array([x_vals, y_vals, z_vals])\n",
    "lx=np.append(x_vals,x_vals[0]) #drawing the line between the last and first coord\n",
    "ly=np.append(y_vals,y_vals[0])\n",
    "lz=np.append(z_vals,z_vals[0])\n",
    "ax = plt.figure().add_subplot(projection='3d')\n",
    "#ax.view_init(elev=20, azim=315, roll=0)\n",
    "ax.view_init(20, 315)\n",
    "ax.plot(lx, ly, lz, 'ko', linestyle=\"--\")\n",
    "ax.plot(x_vals, y_vals, z_vals, 'ko')\n",
    "ax.text(lx[0]-1, ly[0]+1, lz[0]+1, \"A\", c='k')\n",
    "ax.text(lx[1]-1, ly[1]+1, lz[1]+1, \"B\", c='k')\n",
    "ax.text(lx[2]-1, ly[2]+1, lz[2]+1, \"C\", c='k')\n",
    "ax.set_xlabel('x')\n",
    "ax.set_ylabel('y')\n",
    "ax.set_zlabel('z')\n",
    "ax.axes.set_xlim3d(left=-5, right=5) \n",
    "ax.axes.set_ylim3d(bottom=0, top=10) \n",
    "ax.axes.set_zlim3d(bottom=-5, top=5)\n",
    "ax.set_box_aspect([1,1,1])\n",
    "plt.show()"
   ]
  },
  {
   "cell_type": "markdown",
   "metadata": {
    "id": "iCNRqZWE_Jao"
   },
   "source": [
    "## Homogenous coordinates"
   ]
  },
  {
   "cell_type": "markdown",
   "metadata": {
    "id": "LN3-GjJ6DM8b"
   },
   "source": [
    "Like the 2D case, 3D transforms require homogenous coordinates, in order to correctly format positions ready for transformation. Our points are currently listed as an array, with the first row being the $x$-coords, and the second row as $y$-coords.\n",
    "\n",
    "To transform using matrices, we need to have each *column* list a different dimension. We also need to extend each 2D set of points to contain an extra dimension, known as homogenous coordinates. Our plan will be to add these extra coordinates first, then switchs rows and columns (an operation known as the \"transpose\" of a matrix)."
   ]
  },
  {
   "cell_type": "code",
   "execution_count": 7,
   "metadata": {
    "colab": {
     "base_uri": "https://localhost:8080/"
    },
    "executionInfo": {
     "elapsed": 15,
     "status": "ok",
     "timestamp": 1682092552384,
     "user": {
      "displayName": "James Threlfall",
      "userId": "12893452708265254015"
     },
     "user_tz": -60
    },
    "id": "Tz07qY7oAKqL",
    "outputId": "cbeec243-e8a7-4345-9d10-e87ff75e6858"
   },
   "outputs": [
    {
     "name": "stdout",
     "output_type": "stream",
     "text": [
      "[[ 1  0  0  1]\n",
      " [ 1  3 -2  1]\n",
      " [ 2  2  2  1]]\n"
     ]
    }
   ],
   "source": [
    "newrow = [1, 1, 1]\n",
    "hp = np.vstack([p, newrow])\n",
    "print(hp.transpose())"
   ]
  },
  {
   "cell_type": "markdown",
   "metadata": {
    "id": "tpntfPqeAOMK"
   },
   "source": [
    "Note that each of the vertices of the object are listed as we saw in the lectures, with set of coordinates each inhabiting its own row."
   ]
  },
  {
   "cell_type": "markdown",
   "metadata": {
    "id": "to-YtKOUXa-S"
   },
   "source": [
    "## Rotation\n"
   ]
  },
  {
   "cell_type": "markdown",
   "metadata": {
    "id": "wiJGc8IbDShe"
   },
   "source": [
    "In 3D we have three axis to rotate about (unlike 2D, where rotations are always about $z$, i.e. in the $x,y$-plane). A different transformation is required in each case:\n",
    "\n",
    "$$\n",
    "R_{\\theta_{z,\\underline{k}}}=\n",
    "\t\\begin{pmatrix}\n",
    "\t\\cos(\\theta_z) & \\sin(\\theta_z) & 0  & 0 \\\\\n",
    "\t-\\sin(\\theta_z) & \\cos(\\theta_z) & 0 & 0 \\\\\n",
    "\t0 & 0 & 1 & 0 \\\\\n",
    "  0 & 0 & 0 & 1\n",
    "\t\\end{pmatrix}, ~~~\n",
    "R_{\\theta_{y,\\underline{j}}}=\n",
    "\t\\begin{pmatrix}\n",
    "\t\\cos(\\theta_y) & 0 & -\\sin(\\theta_y) & 0  \\\\\n",
    "\t0 & 1 & 0 & 0 \\\\\n",
    "\t\\sin(\\theta_y) & 0 & \\cos(\\theta_y) & 0 \\\\\n",
    "  0 & 0 & 0 & 1\n",
    "\t\\end{pmatrix},~~~ \n",
    "R_{\\theta_{x,\\underline{i}}}=\n",
    "\t\\begin{pmatrix}\n",
    "\t1 & 0 & 0 & 0\\\\\n",
    "\t0 & \\cos(\\theta_x) & \\sin(\\theta_x) & 0 \\\\\n",
    "\t0 & -\\sin(\\theta_x) & \\cos(\\theta_x) & 0 \\\\\n",
    "  0 & 0 & 0 & 1\n",
    "\t\\end{pmatrix}\n",
    "$$\n",
    "\n",
    "Lets test this: I'll create matrices describing a $180^o$ rotation about the $x$-axis and a $45^o$ rotation about the $y$-axis."
   ]
  },
  {
   "cell_type": "code",
   "execution_count": 8,
   "metadata": {
    "executionInfo": {
     "elapsed": 480,
     "status": "ok",
     "timestamp": 1682093620797,
     "user": {
      "displayName": "James Threlfall",
      "userId": "12893452708265254015"
     },
     "user_tz": -60
    },
    "id": "6flIozhETLDI"
   },
   "outputs": [],
   "source": [
    "thetax = 180\n",
    "thetay = 45\n",
    "R_thetai = np.matrix([[1, 0, 0, 0],\n",
    "                      [0, np.cos(math.radians(thetax)), np.sin(math.radians(thetax)), 0], \n",
    "                      [0, -np.sin(math.radians(thetax)), np.cos(math.radians(thetax)), 0], \n",
    "                      [0, 0, 0, 1]])\n",
    "R_thetaj = np.matrix([[np.cos(math.radians(thetay)), 0, -np.sin(math.radians(thetay)), 0],\n",
    "                      [0, 1, 0, 0], \n",
    "                      [np.sin(math.radians(thetay)), 0, np.cos(math.radians(thetay)), 0], \n",
    "                      [0, 0, 0, 1]])  "
   ]
  },
  {
   "cell_type": "markdown",
   "metadata": {
    "id": "kVbp6O3PdlUn"
   },
   "source": [
    "Rotations *must* be performed at the origin. We therefore also need to set up matrices which will translate our coordinates to the origin before the rotation ($T_{\\underline{w}}$) and return the object to its original position afterwards (T_{\\underline{v}}). The general form of the translation matrices are:\n",
    "\n",
    "$$\n",
    "T_{\\underline{w}} = \n",
    "\t{\\begin{pmatrix}\n",
    "\t1 & 0 & 0 & 0  \\\\\n",
    "\t0 & 1 & 0 & 0  \\\\\n",
    "\t0 & 0 & 1 & 0  \\\\\n",
    "\t-a & -b & -c & 1 \n",
    "\t\\end{pmatrix}},~~~\n",
    "T_{\\underline{v}} =\n",
    "\t\\begin{pmatrix}\n",
    "\t1 & 0 & 0 & 0  \\\\\n",
    "\t0 & 1 & 0& 0  \\\\\n",
    "\t0 & 0 & 1 & 0 \\\\\n",
    "\ta & b & c & 1 \n",
    "\t\\end{pmatrix}\t\n",
    "$$\n",
    "in order to move a position $(a,b,c)$ to the origin and back.\n",
    "\n",
    "We need to pick one part of the object, and work out how far it must be moved to place it at the origin. We then translate the whole object by the same amount. In practice this means choosing *any* of the vertices, and replacing $(a,b,c)$ with these values in the matrices.\n",
    "\n",
    "We also have to remember to **PRE-MULTIPLY** (due to the standard graphics pipeline approach). This may be different in other web resources and textbooks, but they may use different pipelines or codes.\n",
    "\n",
    "For argument's sake, we could use vertex A ($1,0,0$) to translate:"
   ]
  },
  {
   "cell_type": "code",
   "execution_count": 11,
   "metadata": {},
   "outputs": [],
   "source": [
    "Tw = np.matrix([[1, 0, 0, 0], \n",
    "                [0, 1, 0, 0], \n",
    "                [0, 0, 1, 0],\n",
    "                [-1,0, 0, 1]])\n",
    "Tv = np.matrix([[1, 0, 0, 0], \n",
    "                [0, 1, 0, 0], \n",
    "                [0, 0, 1, 0],\n",
    "                [1,0, 0, 1]]) "
   ]
  },
  {
   "cell_type": "code",
   "execution_count": 12,
   "metadata": {
    "executionInfo": {
     "elapsed": 3,
     "status": "ok",
     "timestamp": 1682093621592,
     "user": {
      "displayName": "James Threlfall",
      "userId": "12893452708265254015"
     },
     "user_tz": -60
    },
    "id": "4E0bl_3E-RJ_"
   },
   "outputs": [],
   "source": [
    "rp = hp.transpose()*Tw*R_thetaj*Tv"
   ]
  },
  {
   "cell_type": "markdown",
   "metadata": {
    "id": "wota1xtwBMcV"
   },
   "source": [
    "It very difficult to confirm that the rotation appears as we might expect in 3D. In the plotting commands below, play with the azimuth parameter in the \"ax.view_init\" command to view the plot at different angles to verify the behaviour is reasonable:"
   ]
  },
  {
   "cell_type": "code",
   "execution_count": 20,
   "metadata": {
    "colab": {
     "base_uri": "https://localhost:8080/",
     "height": 418
    },
    "executionInfo": {
     "elapsed": 7,
     "status": "ok",
     "timestamp": 1682093622965,
     "user": {
      "displayName": "James Threlfall",
      "userId": "12893452708265254015"
     },
     "user_tz": -60
    },
    "id": "xQA28-8VBSSF",
    "outputId": "23382488-e27a-4b71-a243-e7895859efd7"
   },
   "outputs": [
    {
     "data": {
      "image/png": "[encoded data removed]",
      "text/plain": [
       "<Figure size 432x288 with 1 Axes>"
      ]
     },
     "metadata": {
      "needs_background": "light"
     },
     "output_type": "display_data"
    }
   ],
   "source": [
    "newrp = rp[:,0:3].transpose()\n",
    "x_vals2 = np.squeeze(np.asarray(newrp[0,:]))\n",
    "y_vals2 = np.squeeze(np.asarray(newrp[1,:]))\n",
    "z_vals2 = np.squeeze(np.asarray(newrp[2,:]))\n",
    "rlx=np.append(x_vals2,x_vals2[0])\n",
    "rly=np.append(y_vals2,y_vals2[0])\n",
    "rlz=np.append(z_vals2,z_vals2[0])\n",
    "\n",
    "ax = plt.figure().add_subplot(projection='3d')\n",
    "ax.view_init(20,315) ## azimuth controls\n",
    "ax.plot(lx, ly, lz, 'ko', linestyle=\"--\")\n",
    "ax.plot(x_vals, y_vals, z_vals, 'ko')\n",
    "ax.plot(rlx, rly, rlz, 'go', linestyle=\"--\")\n",
    "ax.plot(x_vals2, y_vals2, z_vals2, 'go')\n",
    "ax.set_xlabel('x')\n",
    "ax.set_ylabel('y')\n",
    "ax.set_zlabel('z')\n",
    "ax.axes.set_xlim3d(left=-5, right=5) \n",
    "ax.axes.set_ylim3d(bottom=0, top=10) \n",
    "ax.axes.set_zlim3d(bottom=-5, top=5)\n",
    "ax.set_box_aspect([1,1,1])\n",
    "plt.show()"
   ]
  },
  {
   "cell_type": "markdown",
   "metadata": {
    "id": "fD_koV1kghHo"
   },
   "source": [
    "Try varying the rotation angle in this example, or change the viewing angle in the plot to confirm the rotation you have created is being carried out correctly."
   ]
  },
  {
   "cell_type": "markdown",
   "metadata": {
    "id": "-L7JzHYMOxKx"
   },
   "source": [
    "## Scaling\n"
   ]
  },
  {
   "cell_type": "markdown",
   "metadata": {
    "id": "9Ai_RjbIDE79"
   },
   "source": [
    "We learned in lectures to take our position vectors, and scale by the scaling matrix (provided that the object sits at the origin). The scaling matrix has the familiar form:\n",
    "\n",
    "$$\n",
    "S_{S_x,S_y,S_z} =\n",
    "\\begin{pmatrix}\n",
    "\tS_x & 0 & 0 & 0\\\\\n",
    "\t0 & S_y & 0 & 0\\\\\n",
    "\t0 & 0 & S_z & 0\\\\\n",
    "\t0 & 0 & 0 & 1\n",
    "\\end{pmatrix},\n",
    "$$\n",
    "\n",
    "We'll leave the object unstretched in $x$, but make it three times bigger in $y$ and half as big in $z$. This creates a scaling matrix that looks like:"
   ]
  },
  {
   "cell_type": "code",
   "execution_count": 21,
   "metadata": {
    "executionInfo": {
     "elapsed": 13,
     "status": "ok",
     "timestamp": 1682092552385,
     "user": {
      "displayName": "James Threlfall",
      "userId": "12893452708265254015"
     },
     "user_tz": -60
    },
    "id": "5Pw9bXY2Jn4k"
   },
   "outputs": [],
   "source": [
    "Sxyz = np.matrix([[1, 0, 0, 0], \n",
    "                 [0, 3, 0, 0], \n",
    "                 [0, 0, 0.5, 0],\n",
    "                 [0, 0, 0, 1]]) "
   ]
  },
  {
   "cell_type": "markdown",
   "metadata": {
    "id": "P7n9JtAGAe3q"
   },
   "source": [
    "Remember, if we wish to scale or rotate, we have to move the object to the origin. We will re-use the translation matrices defined earlier to complete the scaling.\n",
    "\n",
    "Therefore we need to take the (transpose of the) coordinates, and multiply by the translation, scaling, and translation back matrices:"
   ]
  },
  {
   "cell_type": "code",
   "execution_count": 22,
   "metadata": {
    "executionInfo": {
     "elapsed": 12,
     "status": "ok",
     "timestamp": 1682092552385,
     "user": {
      "displayName": "James Threlfall",
      "userId": "12893452708265254015"
     },
     "user_tz": -60
    },
    "id": "bKlbpsz8OMCe"
   },
   "outputs": [],
   "source": [
    "sp = hp.transpose()*Tw*Sxyz*Tv"
   ]
  },
  {
   "cell_type": "markdown",
   "metadata": {
    "id": "TMDouJazApzK"
   },
   "source": [
    "Don't worry about this step: we'll use the \"np.squeeze\" command to make the arrays the correct shape for Python to handle properly.."
   ]
  },
  {
   "cell_type": "code",
   "execution_count": 23,
   "metadata": {
    "executionInfo": {
     "elapsed": 12,
     "status": "ok",
     "timestamp": 1682092552385,
     "user": {
      "displayName": "James Threlfall",
      "userId": "12893452708265254015"
     },
     "user_tz": -60
    },
    "id": "AIV7DGp1R3n9"
   },
   "outputs": [],
   "source": [
    "newp = sp[:,0:3].transpose()\n",
    "x_vals1 = np.squeeze(np.asarray(newp[0,:]))\n",
    "y_vals1 = np.squeeze(np.asarray(newp[1,:]))\n",
    "z_vals1 = np.squeeze(np.asarray(newp[2,:]))\n",
    "slx=np.append(x_vals1,x_vals1[0])\n",
    "sly=np.append(y_vals1,y_vals1[0])\n",
    "slz=np.append(z_vals1,z_vals1[0])"
   ]
  },
  {
   "cell_type": "markdown",
   "metadata": {
    "id": "uv6xYLL5A25t"
   },
   "source": [
    "Finally let's view the results: we can overplot the original triangle coords (black) with our new scaled version (red). "
   ]
  },
  {
   "cell_type": "code",
   "execution_count": 24,
   "metadata": {
    "colab": {
     "base_uri": "https://localhost:8080/",
     "height": 418
    },
    "executionInfo": {
     "elapsed": 13,
     "status": "ok",
     "timestamp": 1682092552386,
     "user": {
      "displayName": "James Threlfall",
      "userId": "12893452708265254015"
     },
     "user_tz": -60
    },
    "id": "GAwVDA3DRwgK",
    "outputId": "8d261477-6cc5-4da7-8dd0-dc8e86189c50"
   },
   "outputs": [
    {
     "data": {
      "image/png": "[encoded data removed]",
      "text/plain": [
       "<Figure size 432x288 with 1 Axes>"
      ]
     },
     "metadata": {
      "needs_background": "light"
     },
     "output_type": "display_data"
    }
   ],
   "source": [
    "ax = plt.figure().add_subplot(projection='3d')\n",
    "ax.view_init(20,315)\n",
    "ax.plot(lx, ly, lz, 'ko', linestyle=\"--\")\n",
    "ax.plot(x_vals, y_vals, z_vals, 'ko')\n",
    "ax.plot(slx, sly, slz, 'ro', linestyle=\"--\")\n",
    "ax.plot(x_vals1, y_vals1, z_vals1, 'ro')\n",
    "ax.set_xlabel('x')\n",
    "ax.set_ylabel('y')\n",
    "ax.set_zlabel('z')\n",
    "ax.axes.set_xlim3d(left=-5, right=5) \n",
    "ax.axes.set_ylim3d(bottom=0, top=10) \n",
    "ax.axes.set_zlim3d(bottom=-5, top=5)\n",
    "ax.set_box_aspect([1,1,1])\n",
    "plt.show()"
   ]
  },
  {
   "cell_type": "markdown",
   "metadata": {
    "id": "1FzTG_-GA5mG"
   },
   "source": [
    "You can see that the object is now three times bigger in $y$, and has been squashed in $z$. Due to the viewing perspective in 3D, it is much more difficult to directly confirm exact sizes visually. Try modifying the azimuth and elevation in the plot (in the \"ax.view_init()\" command, first number is an angle relative to the z=0 plane, second is an angle relative to y=0 plane) to confirm the sizes in the $x$, $y$ and $z$ directions."
   ]
  },
  {
   "cell_type": "markdown",
   "metadata": {
    "id": "wCYCdXNGeBRH"
   },
   "source": [
    "## Combining operations\n",
    "\n"
   ]
  },
  {
   "cell_type": "markdown",
   "metadata": {
    "id": "nKC-iw92eQ65"
   },
   "source": [
    "We can also reuse the operations defined above as an example of how several transformations may be combined into one single matrix. This single matrix contains all the information about each individual operation to be performed.\n",
    "\n",
    "Let's see what happens if we apply several operations to our set of coordinates. We'll perform (in order):\n",
    "\n",
    "\n",
    "\n",
    "1.   Translation to the origin.\n",
    "2.   Rotation in $x$ by $180^o$.\n",
    "3.   Rotation in $y$ by $45^o$.\n",
    "4.   Scale by 3 in $y$, 0.5 in $z$.\n",
    "5.   Translation back to original point.\n",
    "\n",
    "If we wanted to do this one by one, we'd need 5 commands, each operating on the previous result:"
   ]
  },
  {
   "cell_type": "code",
   "execution_count": 26,
   "metadata": {
    "executionInfo": {
     "elapsed": 360,
     "status": "ok",
     "timestamp": 1682093629410,
     "user": {
      "displayName": "James Threlfall",
      "userId": "12893452708265254015"
     },
     "user_tz": -60
    },
    "id": "jPUQ90Q4aTgH"
   },
   "outputs": [],
   "source": [
    "op1 = hp.transpose()*Tw\n",
    "op2 = op1*R_thetai\n",
    "op3 = op2*R_thetaj\n",
    "op4 = op3*Sxyz\n",
    "op5 = op4*Tv"
   ]
  },
  {
   "cell_type": "markdown",
   "metadata": {},
   "source": [
    "Alternatively, we could just use one single command to create the same result and then apply it to as many sets of coordinates as we like:"
   ]
  },
  {
   "cell_type": "code",
   "execution_count": 30,
   "metadata": {
    "executionInfo": {
     "elapsed": 2,
     "status": "ok",
     "timestamp": 1682093630403,
     "user": {
      "displayName": "James Threlfall",
      "userId": "12893452708265254015"
     },
     "user_tz": -60
    },
    "id": "zZAP4VITGoES"
   },
   "outputs": [],
   "source": [
    "op_c = Tw*R_thetai*R_thetaj*Sxyz*Tv\n",
    "op5c = hp.transpose()*op_c"
   ]
  },
  {
   "cell_type": "markdown",
   "metadata": {},
   "source": [
    "Let us confirm the results of both approaches:"
   ]
  },
  {
   "cell_type": "code",
   "execution_count": 31,
   "metadata": {
    "colab": {
     "base_uri": "https://localhost:8080/"
    },
    "executionInfo": {
     "elapsed": 363,
     "status": "ok",
     "timestamp": 1682092659576,
     "user": {
      "displayName": "James Threlfall",
      "userId": "12893452708265254015"
     },
     "user_tz": -60
    },
    "id": "8Q2OgNiUh4Ih",
    "outputId": "af3eced8-a719-47d6-ed88-463d4c0e43ad"
   },
   "outputs": [
    {
     "name": "stdout",
     "output_type": "stream",
     "text": [
      "linear ops coords:\n",
      " [[ 1.          2.41421356  0.29289322]\n",
      " [ 0.         -9.         -6.        ]\n",
      " [ 0.          0.70710678 -1.06066017]]\n"
     ]
    }
   ],
   "source": [
    "print(\"linear ops coords:\\n\", op5[:,0:3].transpose())"
   ]
  },
  {
   "cell_type": "code",
   "execution_count": 32,
   "metadata": {
    "colab": {
     "base_uri": "https://localhost:8080/"
    },
    "executionInfo": {
     "elapsed": 363,
     "status": "ok",
     "timestamp": 1682092664309,
     "user": {
      "displayName": "James Threlfall",
      "userId": "12893452708265254015"
     },
     "user_tz": -60
    },
    "id": "UMUDoQObh-Wb",
    "outputId": "949779c0-faa5-4f2d-cece-872b5bca2107"
   },
   "outputs": [
    {
     "name": "stdout",
     "output_type": "stream",
     "text": [
      "concatenated ops coords:\n",
      " [[ 1.          2.41421356  0.29289322]\n",
      " [ 0.         -9.         -6.        ]\n",
      " [ 0.          0.70710678 -1.06066017]]\n"
     ]
    }
   ],
   "source": [
    "print(\"concatenated ops coords:\\n\", op5c[:,0:3].transpose())"
   ]
  },
  {
   "cell_type": "markdown",
   "metadata": {
    "id": "lyYZYapAifAC"
   },
   "source": [
    "Both results are identical: concatenating all operations into one matrix produces identical results compared to performing successive individual operations on the same set of coordinates.\n",
    "\n",
    "This is what makes concatenation so much more efficient. \n",
    "\n",
    "If I wanted to perform the transformation again for different coordinates, I would have to repeat all five operations if carried out successively. I can't store these, as each relies on the previous application, and the first step depends on the coordinates I want to transform. \n",
    "\n",
    "By storing and using the concatenated matrix, I can reduce the number of operations to only one: multiplying it by the new coordinates. This may seem only a trivial saving, but for objects comprising of many millions of coordinates, this can significantly improve calculation efficiency!"
   ]
  },
  {
   "cell_type": "code",
   "execution_count": null,
   "metadata": {
    "id": "muGaKZm5iBR-"
   },
   "outputs": [],
   "source": []
  }
 ],
 "metadata": {
  "colab": {
   "authorship_tag": "ABX9TyON4+a2Dz7Tle3jX/QZtg5Y",
   "provenance": [
    {
     "file_id": "1XZzq-HlYDJsjOjDr0iqbbod6Au3pO0Xk",
     "timestamp": 1682086534614
    }
   ]
  },
  "kernelspec": {
   "display_name": "Python 3 (ipykernel)",
   "language": "python",
   "name": "python3"
  },
  "language_info": {
   "codemirror_mode": {
    "name": "ipython",
    "version": 3
   },
   "file_extension": ".py",
   "mimetype": "text/x-python",
   "name": "python",
   "nbconvert_exporter": "python",
   "pygments_lexer": "ipython3",
   "version": "3.9.9"
  }
 },
 "nbformat": 4,
 "nbformat_minor": 1
}
