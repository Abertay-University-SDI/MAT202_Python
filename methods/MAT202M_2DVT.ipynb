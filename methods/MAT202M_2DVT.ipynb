{
 "cells": [
  {
   "cell_type": "markdown",
   "metadata": {
    "id": "qjZ_A1UQJKX0"
   },
   "source": [
    "# Coordinate Transformations in 2D\n",
    "\n",
    "In lectures, we were introduced to the idea that graphics programming uses matrices to transform objects seen in a window to be correctly displayed in a viewport on the screen.\n",
    "\n",
    "In code, efficiency is important. A *composite* transformation matrix can apply all the steps needed at the same time, reducing the number of operations. The composite transformation matrix is formed by multiplying the required steps (translation, rotation, scaling) and their matrices together. Due to our particular application and graphics pipeline, we use specific forms of matrices and post-multiply window coordinates to achieve the correct transformations. We were also introduced to the concept of homogenous coordinates for specific positions, in order to correctly apply the transformations.\n",
    "\n",
    "In this notebook, we will put these calculations into practice, by performing the transformations practiced in class on specific objects and observing the effects."
   ]
  },
  {
   "cell_type": "code",
   "execution_count": 9,
   "metadata": {
    "executionInfo": {
     "elapsed": 1785,
     "status": "ok",
     "timestamp": 1683644125810,
     "user": {
      "displayName": "James Threlfall",
      "userId": "12893452708265254015"
     },
     "user_tz": -60
    },
    "id": "FpSLQGmNJJek"
   },
   "outputs": [],
   "source": [
    "## Libraries\n",
    "import numpy as np\n",
    "import math \n",
    "import matplotlib.pyplot as plt\n",
    "import sympy as sym"
   ]
  },
  {
   "cell_type": "markdown",
   "metadata": {
    "id": "RtzS7U8IOfPT"
   },
   "source": [
    "We will begin by creating an object that we need to transform.\n",
    "One of the simplest objects to manipulate is a square: it will also easily allow us to explore the results of the transformations and compare with the original size and shape.\n",
    "\n",
    "To create a square, we can create an array of $x$ and $y$-coordinates which are the vertices of this square. In order to draw lines between each array element and the next, we will append the array with the first value: this means that Python will just join every element of the array automatically when plotted:"
   ]
  },
  {
   "cell_type": "code",
   "execution_count": 10,
   "metadata": {
    "colab": {
     "base_uri": "https://localhost:8080/",
     "height": 455
    },
    "executionInfo": {
     "elapsed": 1375,
     "status": "ok",
     "timestamp": 1683644127538,
     "user": {
      "displayName": "James Threlfall",
      "userId": "12893452708265254015"
     },
     "user_tz": -60
    },
    "id": "_A2KzPJyJjDw",
    "outputId": "ffbd78e2-031b-401b-f31d-1d1acd3d26a2"
   },
   "outputs": [
    {
     "data": {
      "image/png": "[encoded data removed]",
      "text/plain": [
       "<Figure size 432x288 with 1 Axes>"
      ]
     },
     "metadata": {
      "needs_background": "light"
     },
     "output_type": "display_data"
    }
   ],
   "source": [
    "x_vals = np.array([0, 0, 5, 5])\n",
    "y_vals = np.array([0, 5, 5, 0])\n",
    "p = np.array([x_vals, y_vals])\n",
    "lx=np.append(x_vals,x_vals[0]) #drawing the line between the last and first coord\n",
    "ly=np.append(y_vals,y_vals[0])\n",
    "plt.plot(lx, ly, 'ko', linestyle=\"--\")\n",
    "plt.ylim([-10,20])\n",
    "plt.xlim([-10,20])\n",
    "plt.ylabel('y')\n",
    "plt.xlabel('x')\n",
    "plt.gca().set_aspect('equal')\n",
    "plt.show()"
   ]
  },
  {
   "cell_type": "markdown",
   "metadata": {
    "id": "iCNRqZWE_Jao"
   },
   "source": [
    "## Homogenous coordinates\n",
    "\n",
    "\n",
    " "
   ]
  },
  {
   "cell_type": "markdown",
   "metadata": {
    "id": "LN3-GjJ6DM8b"
   },
   "source": [
    "Our first task will be to organise the coordinates so that we can perform transformations. Our points are currently listed in two arrays, with the first containing the $x$-coordinates, and the second containing $y$-coords.\n",
    "\n",
    "Typically when we work with coordinates and vectors or matrices, we need to have each *column* list a different dimension. We also need to extend each (2D) set of points to contain an extra dimension, a concept taught in the lectures as \"homogenous coordinates''. \n",
    "\n",
    "Since we have an array each for $x$ and $y$, we'll first create a third array containing our extra homogenous coordinates. Then we'll stack our arrays on top of each other, to make a matrix which contains each coordinate dimension as a new row. Finally, we'll use the transpose command to switch rows and columns, so that we have our coordinate matrix formatted as we saw in lectures:"
   ]
  },
  {
   "cell_type": "code",
   "execution_count": 11,
   "metadata": {
    "colab": {
     "base_uri": "https://localhost:8080/"
    },
    "executionInfo": {
     "elapsed": 464,
     "status": "ok",
     "timestamp": 1683644134844,
     "user": {
      "displayName": "James Threlfall",
      "userId": "12893452708265254015"
     },
     "user_tz": -60
    },
    "id": "Tz07qY7oAKqL",
    "outputId": "51c6f018-0cb8-4014-edf9-49f26cb0b5b8"
   },
   "outputs": [
    {
     "name": "stdout",
     "output_type": "stream",
     "text": [
      "[[0 0 1]\n",
      " [0 5 1]\n",
      " [5 5 1]\n",
      " [5 0 1]]\n"
     ]
    }
   ],
   "source": [
    "newrow = [1, 1, 1, 1]\n",
    "hp = np.vstack([p, newrow])\n",
    "print(hp.transpose())"
   ]
  },
  {
   "cell_type": "markdown",
   "metadata": {
    "id": "tpntfPqeAOMK"
   },
   "source": [
    "Note that each of the vertices of the object are listed as we saw in the lectures, with set of coordinates each inhabiting its own row."
   ]
  },
  {
   "cell_type": "markdown",
   "metadata": {
    "id": "to-YtKOUXa-S"
   },
   "source": [
    "## Rotation\n"
   ]
  },
  {
   "cell_type": "markdown",
   "metadata": {
    "id": "wiJGc8IbDShe"
   },
   "source": [
    "In cases where rotation is needed, in the lectures we learned about the 2D rotation matrix, which takes the form seen in class (and in MAT102):\n",
    "\n",
    "$$\n",
    "R_{\\theta_{z,{\\underline{k}}}}=\n",
    "\t\\begin{pmatrix}\n",
    "\t\\cos(\\theta_z) & \\sin(\\theta_z) & 0  \\\\\n",
    "\t-\\sin(\\theta_z) & \\cos(\\theta_z) & 0  \\\\\n",
    "\t0 & 0 & 1\n",
    "\t\\end{pmatrix}.\n",
    "$$\n",
    "\n",
    "In this experiment, lets rotate by our square anticlockwise by $60^o$."
   ]
  },
  {
   "cell_type": "code",
   "execution_count": 12,
   "metadata": {
    "executionInfo": {
     "elapsed": 1381,
     "status": "ok",
     "timestamp": 1683644686078,
     "user": {
      "displayName": "James Threlfall",
      "userId": "12893452708265254015"
     },
     "user_tz": -60
    },
    "id": "6flIozhETLDI"
   },
   "outputs": [],
   "source": [
    "theta = 60\n",
    "R_theta = np.matrix([[np.cos(math.radians(theta)), np.sin(math.radians(theta)), 0], \n",
    "                     [-np.sin(math.radians(theta)), np.cos(math.radians(theta)), 0], \n",
    "                     [0, 0, 1]]) "
   ]
  },
  {
   "cell_type": "markdown",
   "metadata": {
    "id": "EnyVxoKnCyjB"
   },
   "source": [
    "We have to remember to PRE-MULTIPLY (due to the standard graphics pipeline approach). You may encounter different ways to apply transformation matrices in other web resources and textbooks, but they may use different pipelines or codes.\n",
    "\n",
    "We take our matrix of coordinates (where each column is a different coordinate, i.e. using the transpose as shown above), and post-multiply our transformation matrix:"
   ]
  },
  {
   "cell_type": "code",
   "execution_count": 13,
   "metadata": {
    "executionInfo": {
     "elapsed": 3,
     "status": "ok",
     "timestamp": 1683644755714,
     "user": {
      "displayName": "James Threlfall",
      "userId": "12893452708265254015"
     },
     "user_tz": -60
    },
    "id": "4E0bl_3E-RJ_"
   },
   "outputs": [],
   "source": [
    "rp = hp.transpose()*R_theta"
   ]
  },
  {
   "cell_type": "markdown",
   "metadata": {
    "id": "wota1xtwBMcV"
   },
   "source": [
    "To plot this along side the original positions, we have to undo (or repeat) our transpose operation. To join the square up for plotting, we append the first coordinate to our arrays as the new last coordinate. We can now display the result of our rotation (in green), alongside the original unrotated square (black) in a plot:"
   ]
  },
  {
   "cell_type": "code",
   "execution_count": 19,
   "metadata": {
    "colab": {
     "base_uri": "https://localhost:8080/",
     "height": 455
    },
    "executionInfo": {
     "elapsed": 1040,
     "status": "ok",
     "timestamp": 1683644836150,
     "user": {
      "displayName": "James Threlfall",
      "userId": "12893452708265254015"
     },
     "user_tz": -60
    },
    "id": "xQA28-8VBSSF",
    "outputId": "359e8ebf-b6a8-4ad9-e7c3-a1d9f5c72dbf"
   },
   "outputs": [
    {
     "data": {
      "image/png": "[encoded data removed]",
      "text/plain": [
       "<Figure size 432x288 with 1 Axes>"
      ]
     },
     "metadata": {
      "needs_background": "light"
     },
     "output_type": "display_data"
    }
   ],
   "source": [
    "newrp = rp[:,0:2].transpose()\n",
    "x_vals2 = [newrp[0,:]]\n",
    "y_vals2 = [newrp[1,:]]\n",
    "rlx=np.append(x_vals2,x_vals2[0])\n",
    "rly=np.append(y_vals2,y_vals2[0])\n",
    "plt.plot(rlx, rly, 'go', linestyle=\"-\")\n",
    "plt.plot(lx, ly, 'ko', linestyle=\"--\")\n",
    "plt.ylim([-10,20])\n",
    "plt.xlim([-10,20])\n",
    "plt.ylabel('y')\n",
    "plt.xlabel('x')\n",
    "plt.gca().set_aspect('equal')\n",
    "plt.show()"
   ]
  },
  {
   "cell_type": "markdown",
   "metadata": {
    "id": "yZE_I0x6DWYV"
   },
   "source": [
    "Note that the object has rotated *anti-clockwise*. If you require a clockwise rotation, the angle must be negative. Python can still handle negative angles. When it handles negative angles, it is really modifying the rotation matrix as you have learned in class:\n",
    "\n",
    "$$\n",
    "R_{-\\theta_{z,{\\underline{k}}}}=\n",
    "\t\\begin{pmatrix}\n",
    "\t\\cos(\\theta_z) & -\\sin(\\theta_z) & 0  \\\\\n",
    "\t\\sin(\\theta_z) & \\cos(\\theta_z) & 0  \\\\\n",
    "\t0 & 0 & 1\n",
    "\t\\end{pmatrix}.\n",
    "$$"
   ]
  },
  {
   "cell_type": "markdown",
   "metadata": {
    "id": "-L7JzHYMOxKx"
   },
   "source": [
    "## Scaling\n"
   ]
  },
  {
   "cell_type": "markdown",
   "metadata": {
    "id": "9Ai_RjbIDE79"
   },
   "source": [
    "We learned in lectures to take the matrix of positions, and scale by the scaling matrix. In 2D, the scaling matrix looks like:\n",
    "\n",
    "$$\n",
    "S_{S_x,~S_y}=\n",
    "\\begin{pmatrix}\n",
    "\tS_x & 0 & 0 \\\\\n",
    "\t0 & S_y & 0 \\\\\n",
    "\t0 & 0 & 1\n",
    "\t\\end{pmatrix}\n",
    "$$\n",
    "\n",
    "\n",
    "We'll stretch the object twice in $x$ and $2.5\\times$ in $y$, which fixes $S_x$ and $S_y$:\n",
    "\n",
    "$$\n",
    "S_{S_x,~S_y}=\n",
    "\\begin{pmatrix}\n",
    "\t2 & 0 & 0 \\\\\n",
    "\t0 & 2.5 & 0 \\\\\n",
    "\t0 & 0 & 1\n",
    "\t\\end{pmatrix}.\n",
    "$$\n",
    "\n",
    "This can be easily implemented in Python as a matrix:"
   ]
  },
  {
   "cell_type": "code",
   "execution_count": 20,
   "metadata": {
    "executionInfo": {
     "elapsed": 1122,
     "status": "ok",
     "timestamp": 1683644462076,
     "user": {
      "displayName": "James Threlfall",
      "userId": "12893452708265254015"
     },
     "user_tz": -60
    },
    "id": "5Pw9bXY2Jn4k"
   },
   "outputs": [],
   "source": [
    "Sxy = np.matrix([[2, 0, 0], \n",
    "                 [0, 2.5, 0], \n",
    "                 [0, 0, 1]]) "
   ]
  },
  {
   "cell_type": "markdown",
   "metadata": {
    "id": "P7n9JtAGAe3q"
   },
   "source": [
    "We'll take our coordinates (in homogenous form), and multiply by this scaling matrix.\n",
    "\n"
   ]
  },
  {
   "cell_type": "code",
   "execution_count": 21,
   "metadata": {
    "executionInfo": {
     "elapsed": 737,
     "status": "ok",
     "timestamp": 1683644475398,
     "user": {
      "displayName": "James Threlfall",
      "userId": "12893452708265254015"
     },
     "user_tz": -60
    },
    "id": "bKlbpsz8OMCe"
   },
   "outputs": [],
   "source": [
    "sp = hp.transpose()*Sxy"
   ]
  },
  {
   "cell_type": "markdown",
   "metadata": {
    "id": "TMDouJazApzK"
   },
   "source": [
    "For plotting purposes, we'll undo our operations from earlier (Python makes it easier to plot things if fed a certain structure): we'll use the transpose command again to leave $x$ and $y$ coordinates in the first and second rows. Then we'll be able to plot the result and overlay the original square once more."
   ]
  },
  {
   "cell_type": "code",
   "execution_count": 22,
   "metadata": {
    "executionInfo": {
     "elapsed": 5,
     "status": "ok",
     "timestamp": 1683644542093,
     "user": {
      "displayName": "James Threlfall",
      "userId": "12893452708265254015"
     },
     "user_tz": -60
    },
    "id": "AIV7DGp1R3n9"
   },
   "outputs": [],
   "source": [
    "newp = sp[:,0:2].transpose()\n",
    "x_vals1 = [newp[0,:]]\n",
    "y_vals1 = [newp[1,:]]\n",
    "slx=np.append(x_vals1,x_vals1[0])\n",
    "sly=np.append(y_vals1,y_vals1[0])"
   ]
  },
  {
   "cell_type": "markdown",
   "metadata": {
    "id": "uv6xYLL5A25t"
   },
   "source": [
    "Lets now plot the results, showing the scaled square in red and original square in black:"
   ]
  },
  {
   "cell_type": "code",
   "execution_count": 23,
   "metadata": {
    "colab": {
     "base_uri": "https://localhost:8080/",
     "height": 455
    },
    "executionInfo": {
     "elapsed": 579,
     "status": "ok",
     "timestamp": 1683644550865,
     "user": {
      "displayName": "James Threlfall",
      "userId": "12893452708265254015"
     },
     "user_tz": -60
    },
    "id": "GAwVDA3DRwgK",
    "outputId": "463f2225-cb11-40c5-cf68-492985532868"
   },
   "outputs": [
    {
     "data": {
      "image/png": "[encoded data removed]",
      "text/plain": [
       "<Figure size 432x288 with 1 Axes>"
      ]
     },
     "metadata": {
      "needs_background": "light"
     },
     "output_type": "display_data"
    }
   ],
   "source": [
    "plt.plot(slx, sly, 'ro', linestyle=\"-\")\n",
    "plt.plot(lx, ly, 'ko', linestyle=\"--\")\n",
    "plt.ylim([-10,20])\n",
    "plt.xlim([-10,20])\n",
    "plt.ylabel('y')\n",
    "plt.xlabel('x')\n",
    "plt.gca().set_aspect('equal')\n",
    "plt.show()"
   ]
  },
  {
   "cell_type": "markdown",
   "metadata": {
    "id": "1FzTG_-GA5mG"
   },
   "source": [
    "You can see that the object has been doubled in size in $x$, while it is $2.5\\times$ bigger in $y$. Note also that the positions whose coordinate elements equal zero are *unaffected* by the scaling: they remain at zero!"
   ]
  },
  {
   "cell_type": "markdown",
   "metadata": {
    "id": "hONxdnLaDowo"
   },
   "source": [
    "## Translation\n"
   ]
  },
  {
   "cell_type": "markdown",
   "metadata": {
    "id": "3uIxiu-6DuhY"
   },
   "source": [
    "The final common operation we'll deal with is a translation. In the lectures, translating an object by an amount $x_A$ in $x$ and $y_A$ in $y$ is achieved using the following matrix:\n",
    "\n",
    "$$\n",
    "T_{\\underline{v}}=\n",
    "\t\\begin{pmatrix}\n",
    "\t1 & 0 & 0 \\\\\n",
    "\t0 & 1 & 0 \\\\\n",
    "\tx_{A} & y_{A} & 1\n",
    "\t\\end{pmatrix}\n",
    "$$\n",
    "\n",
    "Note that all other operations (rotation and scaling) for 2D positions can in principle be contained in a $2\\times2$ matrix; a translation requires one more row and column than the number of dimensions we are working with. Hence to translate a 2D position, we require a $3\\times3$ matrix. This is also why we need homogenous coordinates, so that we can couple translation with other transformations, filling in the missing dimensions as needed.\n",
    "\n",
    "In this demo, we'll translate by $10$ in $x$ ($x_A=10$) and $8$ in $y$ ($y_A=8$)."
   ]
  },
  {
   "cell_type": "code",
   "execution_count": 24,
   "metadata": {
    "executionInfo": {
     "elapsed": 3,
     "status": "ok",
     "timestamp": 1683645008046,
     "user": {
      "displayName": "James Threlfall",
      "userId": "12893452708265254015"
     },
     "user_tz": -60
    },
    "id": "xhjiejbHBf6n"
   },
   "outputs": [],
   "source": [
    "Tv = np.matrix([[1, 0, 0], \n",
    "                [0, 1, 0], \n",
    "                [10, 8, 1]]) "
   ]
  },
  {
   "cell_type": "markdown",
   "metadata": {
    "id": "ZsKkBxgIF9rN"
   },
   "source": [
    "Once again we post-multiply our (transposed stacked arrays of) coordinates by this matrix:"
   ]
  },
  {
   "cell_type": "code",
   "execution_count": 25,
   "metadata": {
    "executionInfo": {
     "elapsed": 316,
     "status": "ok",
     "timestamp": 1683645009468,
     "user": {
      "displayName": "James Threlfall",
      "userId": "12893452708265254015"
     },
     "user_tz": -60
    },
    "id": "GZopTW3rEsmf"
   },
   "outputs": [],
   "source": [
    "Tp = hp.transpose()*Tv"
   ]
  },
  {
   "cell_type": "markdown",
   "metadata": {
    "id": "yI7_TS28ECew"
   },
   "source": [
    "Plotting the image will show how the original object has been translated in $x$ and $y$ (with translated image in turqoise):"
   ]
  },
  {
   "cell_type": "code",
   "execution_count": 26,
   "metadata": {
    "colab": {
     "base_uri": "https://localhost:8080/",
     "height": 455
    },
    "executionInfo": {
     "elapsed": 428,
     "status": "ok",
     "timestamp": 1683645040934,
     "user": {
      "displayName": "James Threlfall",
      "userId": "12893452708265254015"
     },
     "user_tz": -60
    },
    "id": "lKGVm3qXEv25",
    "outputId": "14d95798-86d2-4273-d2f2-0d8ce265cda4"
   },
   "outputs": [
    {
     "data": {
      "image/png": "[encoded data removed]",
      "text/plain": [
       "<Figure size 432x288 with 1 Axes>"
      ]
     },
     "metadata": {
      "needs_background": "light"
     },
     "output_type": "display_data"
    }
   ],
   "source": [
    "newtp = Tp[:,0:2].transpose()\n",
    "x_vals3 = [newtp[0,:]]\n",
    "y_vals3 = [newtp[1,:]]\n",
    "tlx=np.append(x_vals3,x_vals3[0])\n",
    "tly=np.append(y_vals3,y_vals3[0])\n",
    "plt.plot(tlx, tly, 'co', linestyle=\"-\")\n",
    "plt.plot(lx, ly, 'ko', linestyle=\"--\")\n",
    "plt.ylim([-10,20])\n",
    "plt.xlim([-10,20])\n",
    "plt.ylabel('y')\n",
    "plt.xlabel('x')\n",
    "plt.gca().set_aspect('equal')\n",
    "plt.show()"
   ]
  },
  {
   "cell_type": "markdown",
   "metadata": {
    "id": "8Ji7Hz5OGGJV"
   },
   "source": [
    "As expected, the object has been translated by the expected amount in $x$ and $y$."
   ]
  },
  {
   "cell_type": "markdown",
   "metadata": {
    "id": "FfTT6qRiFETU"
   },
   "source": [
    "## Rotation and scaling at the origin"
   ]
  },
  {
   "cell_type": "markdown",
   "metadata": {
    "id": "2TTHbV4GFJtM"
   },
   "source": [
    "One thing mentioned in the lectures is that rotation and scaling must occur at the origin. Let's examine this more, with Python handling the mathematical operations.\n",
    "We've already seen what happens when we rotate an object whose bottom left corner is already at the origin. **What happens if we rotate an object without first moving it to the origin?**\n",
    "\n",
    "To explore this, we'll combine the rotation and translation operations we saw earlier, *but* explore what happens if we apply the transformations in two different orders: (i) translate then rotate; (ii) rotate then translate.\n"
   ]
  },
  {
   "cell_type": "code",
   "execution_count": 27,
   "metadata": {
    "executionInfo": {
     "elapsed": 3,
     "status": "ok",
     "timestamp": 1683645135144,
     "user": {
      "displayName": "James Threlfall",
      "userId": "12893452708265254015"
     },
     "user_tz": -60
    },
    "id": "ZZwi_-aXGNOL"
   },
   "outputs": [],
   "source": [
    "TRp = hp.transpose()*Tv*R_theta\n",
    "TpR = hp.transpose()*R_theta*Tv"
   ]
  },
  {
   "cell_type": "markdown",
   "metadata": {
    "id": "hfj5PuOjEdGe"
   },
   "source": [
    "From the lectures we saw that the order of these operations is **not** interchangeable. Will our test also confirm this?\n",
    "\n"
   ]
  },
  {
   "cell_type": "code",
   "execution_count": 28,
   "metadata": {
    "colab": {
     "base_uri": "https://localhost:8080/",
     "height": 455
    },
    "executionInfo": {
     "elapsed": 1523,
     "status": "ok",
     "timestamp": 1683645209579,
     "user": {
      "displayName": "James Threlfall",
      "userId": "12893452708265254015"
     },
     "user_tz": -60
    },
    "id": "cPVviIZnGgmB",
    "outputId": "15f2e9b9-8019-4f2e-ab1c-fb175ad11cb6"
   },
   "outputs": [
    {
     "data": {
      "image/png": "[encoded data removed]",
      "text/plain": [
       "<Figure size 432x288 with 1 Axes>"
      ]
     },
     "metadata": {
      "needs_background": "light"
     },
     "output_type": "display_data"
    }
   ],
   "source": [
    "newtrp = TRp[:,0:2].transpose()\n",
    "x_vals4 = [newtrp[0,:]]\n",
    "y_vals4 = [newtrp[1,:]]\n",
    "trlx=np.append(x_vals4,x_vals4[0])\n",
    "trly=np.append(y_vals4,y_vals4[0])\n",
    "newtpr = TpR[:,0:2].transpose()\n",
    "x_vals5 = [newtpr[0,:]]\n",
    "y_vals5 = [newtpr[1,:]]\n",
    "rtlx=np.append(x_vals5,x_vals5[0])\n",
    "rtly=np.append(y_vals5,y_vals5[0])\n",
    "plt.plot(trlx, trly, 'mo', linestyle=\"-\")\n",
    "plt.plot(rtlx, rtly, 'yo', linestyle=\"-\")\n",
    "plt.plot(lx, ly, 'ko', linestyle=\"--\")\n",
    "plt.ylim([-10,20])\n",
    "plt.xlim([-10,20])\n",
    "plt.ylabel('y')\n",
    "plt.xlabel('x')\n",
    "plt.gca().set_aspect('equal')\n",
    "plt.show()"
   ]
  },
  {
   "cell_type": "markdown",
   "metadata": {
    "id": "9y_PySLUIepG"
   },
   "source": [
    "In the above example, the specific operations are the same: the only thing that has changed is the **order of operation**. \n",
    "\n",
    "*   With the magenta square, the translation acts first. This means the rotation also rotates the space in between the object and the origin.\n",
    "*   With the yellow square, the object is rotated first, at the origin. The rotated object is then translated. Note that the coordinate which was originally at the origin lies at $(10,8)$: the rotation didnt affect this location, so it's new position effectively only shows evidence of translation.\n",
    "\n",
    "**The order of operations in transformations is crucial.**\n",
    "\n",
    "If a rotation or scaling operation is required, make sure that the object is moved to the origin first, then rotated, then scaled, then moved back to the required location. This is much easier than rotating the whole system, then attempting to find where the object has moved to! This is known as the **standard sequence** of matrix transformations.\n",
    "\n"
   ]
  },
  {
   "cell_type": "markdown",
   "metadata": {
    "id": "pBXldugNFBRH"
   },
   "source": [
    "## Over to You\n",
    "These are very simple examples, designed to show off the mathematics you have been taught in class on specific objects. Once you are confident in the mathematical steps, we can use numerical codes like Python to perform the calculations for us. \n",
    "\n",
    "The other powerful aspect of these tools is that you can create **a single** matrix which contains all the information about several transformations. You can then apply this single matrix to any number of coordinates that must be transformed. You don't need to perform each step to each set of coordinates, and you can store the transformation in case you need to transform even more coordinates later, without resconstructing the matrices again.\n",
    "\n",
    "Try implementing some of the transformations required by the tutorial calculations, and see if you can visually confirm your findings using Python. "
   ]
  },
  {
   "cell_type": "code",
   "execution_count": null,
   "metadata": {
    "id": "zZAP4VITGoES"
   },
   "outputs": [],
   "source": []
  }
 ],
 "metadata": {
  "colab": {
   "authorship_tag": "ABX9TyPEb7a12EGlav41V8wzHo8Y",
   "collapsed_sections": [
    "iCNRqZWE_Jao",
    "-L7JzHYMOxKx",
    "to-YtKOUXa-S",
    "hONxdnLaDowo",
    "FfTT6qRiFETU",
    "pBXldugNFBRH"
   ],
   "provenance": []
  },
  "kernelspec": {
   "display_name": "Python 3 (ipykernel)",
   "language": "python",
   "name": "python3"
  },
  "language_info": {
   "codemirror_mode": {
    "name": "ipython",
    "version": 3
   },
   "file_extension": ".py",
   "mimetype": "text/x-python",
   "name": "python",
   "nbconvert_exporter": "python",
   "pygments_lexer": "ipython3",
   "version": "3.9.9"
  }
 },
 "nbformat": 4,
 "nbformat_minor": 1
}
