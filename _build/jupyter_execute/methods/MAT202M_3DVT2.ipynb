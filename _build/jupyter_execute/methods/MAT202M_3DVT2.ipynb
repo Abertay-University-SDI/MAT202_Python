{
 "cells": [
  {
   "cell_type": "markdown",
   "metadata": {
    "id": "qjZ_A1UQJKX0"
   },
   "source": [
    "# More 3D Coordinate Transformations 1\n",
    "\n",
    "We have already shown how Python is capable of performing and visualising the standard set of operations for 3D graphics transformations.\n",
    "\n",
    "There are several additional useful operations than can be performed by matrices. This notebook will examine one of these: *reflection in a given plane*.\n",
    "\n",
    "We may encounter times where we need to identify the location of objects when reflected in a specific plane:"
   ]
  },
  {
   "cell_type": "code",
   "execution_count": 1,
   "metadata": {
    "id": "FpSLQGmNJJek"
   },
   "outputs": [],
   "source": [
    "## Libraries\n",
    "import numpy as np\n",
    "import math \n",
    "import matplotlib.pyplot as plt\n",
    "import sympy as sym\n",
    "from mpl_toolkits.mplot3d import Axes3D\n",
    "from matplotlib.patches import FancyArrowPatch\n",
    "from mpl_toolkits.mplot3d import proj3d"
   ]
  },
  {
   "cell_type": "markdown",
   "metadata": {
    "id": "o5W3epFpuGap"
   },
   "source": [
    "## Mirror reflection in a given plane\n",
    "\n",
    "We have been shown in the lectures that reflecting an object in the plane $ ax+by+cz=0$ can be performed by multiplying a set of homogenous coordinates by the reflection matrix\n",
    "\n",
    "$$\n",
    "M_{\\rm{reflection}} = \n",
    "\t{\\begin{pmatrix}\n",
    "\t-a^2+b^2+c^2 & -2ab & -2ac & 0  \\\\\n",
    "\t-2ab & a^2-b^2+c^2 & -2bc & 0  \\\\\n",
    "\t-2ac & -2bc & a^2+b^2-c^2 & 0  \\\\\n",
    "\t0 & 0 & 0 & a^2+b^2+c^2 \n",
    "\t\\end{pmatrix}}.\n",
    "$$\n",
    "\n",
    "The additional factor of $a^2+b^2+c^2$ in the bottom right element of this matrix means that we must remember to check that we have returned to homogenous coordinates after the calculation has been carried out.\n",
    "\n",
    "To test this, we will repeat one of the examples shown in the lectures:\n",
    "\n",
    "### Lecture Example:\n",
    "**Calculate the images of the points $(3,2,1)$ and $(-1,0,1)$ when reflected in the plane $2x+y-3z=4$**.\n"
   ]
  },
  {
   "cell_type": "markdown",
   "metadata": {
    "id": "RtzS7U8IOfPT"
   },
   "source": [
    "Let's set up a matrix of positions that we can transform. "
   ]
  },
  {
   "cell_type": "code",
   "execution_count": 2,
   "metadata": {
    "id": "Kl4lV_UxB9Fe"
   },
   "outputs": [],
   "source": [
    "x_vals = np.array([3, -1])\n",
    "y_vals = np.array([2, 0])\n",
    "z_vals = np.array([1, 1])\n",
    "p = np.array([x_vals, y_vals, z_vals])"
   ]
  },
  {
   "cell_type": "markdown",
   "metadata": {
    "id": "Ki1f0qVFB9UW"
   },
   "source": [
    "Before we perform the transformation, let's plot the two positions and (because we can) draw a line between the two points:"
   ]
  },
  {
   "cell_type": "code",
   "execution_count": 3,
   "metadata": {
    "colab": {
     "base_uri": "https://localhost:8080/",
     "height": 418
    },
    "id": "_A2KzPJyJjDw",
    "outputId": "fd2d9d8b-6f26-4008-df0f-0129348d516e"
   },
   "outputs": [
    {
     "data": {
      "image/png": "[encoded data removed]",
      "text/plain": [
       "<Figure size 432x288 with 1 Axes>"
      ]
     },
     "metadata": {
      "filenames": {
       "image/png": "/Users/jamesthrelfall/Programs/JTpython/Teaching_Examples/2024/MAT202_Python/_build/jupyter_execute/methods/MAT202M_3DVT2_6_0.png"
      },
      "needs_background": "light"
     },
     "output_type": "display_data"
    }
   ],
   "source": [
    "lx=np.append(x_vals,x_vals[0]) #drawing the line between the last and first coord\n",
    "ly=np.append(y_vals,y_vals[0])\n",
    "lz=np.append(z_vals,z_vals[0])\n",
    "ax = plt.figure().add_subplot(projection='3d')\n",
    "ax.view_init(elev=20, azim=315, roll=0)\n",
    "ax.plot(lx, ly, lz, 'ko', linestyle=\"--\")\n",
    "ax.plot(x_vals, y_vals, z_vals, 'ko')\n",
    "ax.text(lx[0]-1, ly[0]+1, lz[0]+1, \"A\", c='k')\n",
    "ax.text(lx[1]-1, ly[1]+1, lz[1]+1, \"B\", c='k')\n",
    "ax.set_xlabel('x')\n",
    "ax.set_ylabel('y')\n",
    "ax.set_zlabel('z')\n",
    "ax.axes.set_xlim3d(left=-5, right=5) \n",
    "ax.axes.set_ylim3d(bottom=0, top=10) \n",
    "ax.axes.set_zlim3d(bottom=-5, top=5)\n",
    "plt.gca().set_aspect('equal')\n",
    "plt.show()"
   ]
  },
  {
   "cell_type": "markdown",
   "metadata": {
    "id": "LN3-GjJ6DM8b"
   },
   "source": [
    "When using Python this way, we need to remember i) to convert our arrays into the correct shape vector and ii) to include homogenous coordinates. In this case, rather than specifying the number of 1's needed, I will use Python to count the number of coordinate locations and produce an array of the same length. This new array is initialised by \"1\" in each element: this saves me having to do this manually, and can be extended easily if we introduce more coordinates into the problem.\n",
    "\n",
    "Thus we can create our matrix of coordinates, formatted in the same way shown in class:"
   ]
  },
  {
   "cell_type": "code",
   "execution_count": 4,
   "metadata": {
    "colab": {
     "base_uri": "https://localhost:8080/"
    },
    "id": "Tz07qY7oAKqL",
    "outputId": "ce34ba64-6cc7-4d6a-e61e-39fdcdd09213"
   },
   "outputs": [
    {
     "name": "stdout",
     "output_type": "stream",
     "text": [
      "[[ 3  2  1  1]\n",
      " [-1  0  1  1]]\n"
     ]
    }
   ],
   "source": [
    "nr = [1 for x in range(len(x_vals))]\n",
    "hp = np.vstack([p, nr])\n",
    "print(hp.transpose())"
   ]
  },
  {
   "cell_type": "markdown",
   "metadata": {
    "id": "rn357Qq-wLkl"
   },
   "source": [
    "Now we can turn our attention to the reflection matrix. \n",
    "\n",
    "We can only perform the calculation if the plane passes through the origin. A quick way to check is to see if the origin coordinates satisfy the plane equation:\n",
    "\n"
   ]
  },
  {
   "cell_type": "code",
   "execution_count": 5,
   "metadata": {
    "colab": {
     "base_uri": "https://localhost:8080/"
    },
    "id": "Uj4A2cZixbP4",
    "outputId": "f41cb509-e7b7-4450-e11b-f4a63a8a12d3"
   },
   "outputs": [
    {
     "name": "stdout",
     "output_type": "stream",
     "text": [
      "LHS: 0\n",
      "RHS: 4\n"
     ]
    }
   ],
   "source": [
    "a = 2\n",
    "b = 1\n",
    "c = -3\n",
    "d = 4\n",
    "print(\"LHS:\", a*0+b*0+c*0)\n",
    "print(\"RHS:\", d)"
   ]
  },
  {
   "cell_type": "markdown",
   "metadata": {
    "id": "E4netQQbxZVf"
   },
   "source": [
    "Since the left and right hand sides of the plane equations do not match, the origin is not a solution of this equation. This means we need to translate our points, using the translation matrix we discussed previously:\n",
    "\n",
    "$$\n",
    "T_{\\underline{w}} = \n",
    "\t{\\begin{pmatrix}\n",
    "\t1 & 0 & 0 & 0  \\\\\n",
    "\t0 & 1 & 0 & 0  \\\\\n",
    "\t0 & 0 & 1 & 0  \\\\\n",
    "\ta_x & a_y & a_z & 1 \n",
    "\t\\end{pmatrix}},\n",
    "$$\n",
    "\n",
    "To identify the amount we need to move, we can rearrange the plane equation, so that if we choose some points for $x$ and $y$, the equation will determine values of z:\n"
   ]
  },
  {
   "cell_type": "code",
   "execution_count": 6,
   "metadata": {
    "colab": {
     "base_uri": "https://localhost:8080/"
    },
    "id": "DYIa8bmpyVA1",
    "outputId": "79953963-e1af-47d0-d63b-19aefab14ebb"
   },
   "outputs": [
    {
     "name": "stdout",
     "output_type": "stream",
     "text": [
      "1.0 2.0 -0.0  lies on plane\n"
     ]
    }
   ],
   "source": [
    "x1 = 1.\n",
    "y1 = 2.\n",
    "z1 = (a * x1 + b * y1 - d) / c\n",
    "print(x1,y1,z1,\" lies on plane\")"
   ]
  },
  {
   "cell_type": "markdown",
   "metadata": {
    "id": "rRiICFi5zL5N"
   },
   "source": [
    "This is the amount we will translate by (and while we are at it, we might as well create the opposite transformation that we'll have to use at the end too)."
   ]
  },
  {
   "cell_type": "code",
   "execution_count": 7,
   "metadata": {
    "id": "ON72vCZgzPRQ"
   },
   "outputs": [],
   "source": [
    "Tw = np.matrix([[1, 0, 0, 0], \n",
    "                [0, 1, 0, 0], \n",
    "                [0, 0, 1, 0],\n",
    "                [-x1,-y1, -z1, 1]])\n",
    "Tv = np.matrix([[1, 0, 0, 0], \n",
    "                [0, 1, 0, 0], \n",
    "                [0, 0, 1, 0],\n",
    "                [x1, y1, z1, 1]])"
   ]
  },
  {
   "cell_type": "markdown",
   "metadata": {
    "id": "6yXZWaEXzk_J"
   },
   "source": [
    "Now we can create our reflection matrix from the formula:"
   ]
  },
  {
   "cell_type": "code",
   "execution_count": 8,
   "metadata": {
    "id": "LtJJf1NUwX-X"
   },
   "outputs": [],
   "source": [
    "Mr = np.matrix([[-a*a+b*b+c*c, -2*a*b, -2*a*c, 0], \n",
    "                [-2*a*b, a*a-b*b+c*c, -2*b*c, 0], \n",
    "                [-2*a*c, -2*b*c, a*a+b*b-c*c, 0],\n",
    "                [0,0, 0, a*a+b*b+c*c]])"
   ]
  },
  {
   "cell_type": "markdown",
   "metadata": {
    "id": "yrCvQLgDzuVr"
   },
   "source": [
    "We've formed all the pieces that will allow us to perform the reflection in full, so let's go ahead and apply them to our coordinates:"
   ]
  },
  {
   "cell_type": "code",
   "execution_count": 9,
   "metadata": {
    "colab": {
     "base_uri": "https://localhost:8080/"
    },
    "id": "ouZUFDP7z2In",
    "outputId": "db8d5419-3d7e-4113-c960-27fc1cc4de48"
   },
   "outputs": [
    {
     "name": "stdout",
     "output_type": "stream",
     "text": [
      "[[ 38.  26.  20.  14.]\n",
      " [ 22.  18. -40.  14.]]\n"
     ]
    }
   ],
   "source": [
    "rp = hp.transpose()*Tw*Mr*Tv\n",
    "print(rp)"
   ]
  },
  {
   "cell_type": "markdown",
   "metadata": {
    "id": "dG9BILJKz_Q8"
   },
   "source": [
    "Following the transformation, we note that the final column (our homogenous coordinates) contain something other than one. This means we need to divide *all* coordinates in that row by the element in the final column, such that they become equal to one."
   ]
  },
  {
   "cell_type": "code",
   "execution_count": 10,
   "metadata": {
    "colab": {
     "base_uri": "https://localhost:8080/"
    },
    "id": "KP7ZzsfC0eye",
    "outputId": "052e4844-dc32-42b1-827d-a2470be92982"
   },
   "outputs": [
    {
     "name": "stdout",
     "output_type": "stream",
     "text": [
      "[[ 2.71428571  1.85714286  1.42857143  1.        ]\n",
      " [ 1.57142857  1.28571429 -2.85714286  1.        ]]\n"
     ]
    }
   ],
   "source": [
    "rph = rp/rp[:,3:]\n",
    "print(rph)"
   ]
  },
  {
   "cell_type": "markdown",
   "metadata": {
    "id": "U5m4bUg80eNd"
   },
   "source": [
    "These are the locations of the reflected image in homogenous coordinates.\n",
    "\n",
    "Finally, to demonstrate the power of Python, we can plot the solution we have found. For completeness, I will include the plane about which the reflection is performed and the original (unreflected) positions:"
   ]
  },
  {
   "cell_type": "code",
   "execution_count": 11,
   "metadata": {
    "colab": {
     "base_uri": "https://localhost:8080/",
     "height": 409
    },
    "id": "2I0JG62_16Nv",
    "outputId": "f520103a-7e14-4480-9913-496f096aca54"
   },
   "outputs": [
    {
     "data": {
      "image/png": "[encoded data removed]",
      "text/plain": [
       "<Figure size 432x288 with 1 Axes>"
      ]
     },
     "metadata": {
      "filenames": {
       "image/png": "/Users/jamesthrelfall/Programs/JTpython/Teaching_Examples/2024/MAT202_Python/_build/jupyter_execute/methods/MAT202M_3DVT2_22_0.png"
      },
      "needs_background": "light"
     },
     "output_type": "display_data"
    }
   ],
   "source": [
    "newp = rph[:,0:3].transpose()\n",
    "x_vals1 = np.squeeze(np.asarray(newp[0,:]))\n",
    "y_vals1 = np.squeeze(np.asarray(newp[1,:]))\n",
    "z_vals1 = np.squeeze(np.asarray(newp[2,:]))\n",
    "slx=np.append(x_vals1,x_vals1[0])\n",
    "sly=np.append(y_vals1,y_vals1[0])\n",
    "slz=np.append(z_vals1,z_vals1[0])\n",
    "xr = [-5,5]\n",
    "yr = [0,10]\n",
    "zr = [-5,5]\n",
    "ax.axes.set_xlim3d(left=xr[0], right=xr[1]) \n",
    "ax.axes.set_ylim3d(bottom=yr[0], top=yr[1]) \n",
    "ax.axes.set_zlim3d(bottom=zr[0], top=zr[1])\n",
    "#need to set up mesh for plotting plane over range of x, y\n",
    "x = np.linspace(xr[0],xr[1],50)\n",
    "y = np.linspace(yr[0],yr[1],50)\n",
    "X,Y = np.meshgrid(x,y)\n",
    "Z = (d - a*X - b*Y) / c\n",
    "ax = plt.figure().add_subplot(projection='3d')\n",
    "ax.view_init(elev=20, azim=315, roll=0)\n",
    "ax.plot(lx, ly, lz, 'ko', linestyle=\"--\")\n",
    "ax.plot(x_vals, y_vals, z_vals, 'ko')\n",
    "ax.plot(slx, sly, slz, 'ro', linestyle=\"--\")\n",
    "ax.plot(x_vals1, y_vals1, z_vals1, 'ro')\n",
    "ax.set_xlabel('x')\n",
    "ax.set_ylabel('y')\n",
    "ax.set_zlabel('z')\n",
    "surf = ax.plot_surface(X, Y, Z)\n",
    "plt.gca().set_aspect('equal')\n",
    "plt.show()"
   ]
  },
  {
   "cell_type": "markdown",
   "metadata": {
    "id": "3u4-2G5-3lSy"
   },
   "source": [
    "In this example the points we need to reflect actually straddle the plane: the reflected images therefore also straddle the plane, but in the opposite sense."
   ]
  },
  {
   "cell_type": "markdown",
   "metadata": {
    "id": "180yHbYMM-tF"
   },
   "source": [
    "## Over to you\n",
    "Using the technique outlined above, can you use python to verify the solutions of your tutorial problems? Or visualise the reflections they create?"
   ]
  },
  {
   "cell_type": "code",
   "execution_count": null,
   "metadata": {
    "id": "bZdz4iHXLnx9"
   },
   "outputs": [],
   "source": []
  }
 ],
 "metadata": {
  "colab": {
   "provenance": []
  },
  "kernelspec": {
   "display_name": "Python 3 (ipykernel)",
   "language": "python",
   "name": "python3"
  },
  "language_info": {
   "codemirror_mode": {
    "name": "ipython",
    "version": 3
   },
   "file_extension": ".py",
   "mimetype": "text/x-python",
   "name": "python",
   "nbconvert_exporter": "python",
   "pygments_lexer": "ipython3",
   "version": "3.9.19"
  }
 },
 "nbformat": 4,
 "nbformat_minor": 1
}