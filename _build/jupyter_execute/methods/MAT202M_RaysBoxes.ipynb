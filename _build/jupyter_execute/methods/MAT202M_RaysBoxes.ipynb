{
 "cells": [
  {
   "cell_type": "markdown",
   "metadata": {
    "id": "ZSph5-5oh0fq"
   },
   "source": [
    "# Rays Intersecting with 2D boxes\n",
    "Having now been introduced to ray tracing, we will explore more complex objects. Up to now, we have considered objects which are entirely described by one single mathematical equation. These tend to be relatively simple shapes. More complex shapes can be constructed using multiple sets of these simple shapes. The downside to this is that we have to check for intersections with many different components of a single object. The simplest example of these is a 2D box."
   ]
  },
  {
   "cell_type": "code",
   "execution_count": 1,
   "metadata": {
    "id": "BYfRggrdhRRm"
   },
   "outputs": [],
   "source": [
    "## Libraries\n",
    "%matplotlib inline\n",
    "import numpy as np\n",
    "import sympy as sym\n",
    "import matplotlib.pyplot as plt\n",
    "import matplotlib.animation as animation\n",
    "from matplotlib.patches import FancyArrowPatch\n",
    "from mpl_toolkits.mplot3d import Axes3D, proj3d"
   ]
  },
  {
   "cell_type": "markdown",
   "metadata": {
    "id": "tLRWgkkAjJIx"
   },
   "source": [
    "We will make use of the example shown in lectures which contains several different rays which share a common origin. In particular, we want to illustrate what this configuration looks like, something not really covered in the lectures:"
   ]
  },
  {
   "cell_type": "markdown",
   "metadata": {
    "id": "9CzvrU3OP3Iu"
   },
   "source": [
    "## Lecture Example 1\n",
    "**Determine if the box with vertices $A(3,2)$, $B(9,2)$, $C(9,5)$ and $D(3,5)$ is intersected by the ray originating from $(5,8)$ and** \n",
    "\n",
    "\n",
    "1.   **ending at $(12,1)$.**\n",
    "2.   **ending at $(13,4)$.**\n",
    "3.   **is in the direction of $-\\vec{i}-2\\vec{j}$.**\n",
    "\n",
    "**If so determine the coordinates of the first intersection point.**\n",
    "\n",
    "\n",
    "\n",
    "---\n",
    "\n",
    "Let us first construct the equations describing the box components:"
   ]
  },
  {
   "cell_type": "code",
   "execution_count": 2,
   "metadata": {
    "id": "uuNfAWosURN_"
   },
   "outputs": [],
   "source": [
    "u = sym.Symbol('u', positive=True)\n",
    "A = sym.Matrix([[3, 2]])\n",
    "B = sym.Matrix([[9, 2]])\n",
    "C = sym.Matrix([[9, 5]])\n",
    "D = sym.Matrix([[3, 5]])\n",
    "AB = A + u * (B-A)\n",
    "CD = C + u * (D-C)\n",
    "BC = B + u * (C-B)\n",
    "AD = A + u * (D-A)"
   ]
  },
  {
   "cell_type": "markdown",
   "metadata": {
    "id": "p25Z2Pi_VWKS"
   },
   "source": [
    "Lets also set up the rays for parts (1-3):"
   ]
  },
  {
   "cell_type": "code",
   "execution_count": 3,
   "metadata": {
    "id": "W6e_VGzIjIIU"
   },
   "outputs": [],
   "source": [
    "t = sym.Symbol('t', positive=True)\n",
    "r_o = sym.Matrix([[5, 8]])\n",
    "r1_e = sym.Matrix([[12, 1]])\n",
    "r2_e = sym.Matrix([[13, 4]])\n",
    "r3_v = sym.Matrix([[-1, -2]])\n",
    "r1 = r_o + t * (r1_e-r_o)\n",
    "r2 = r_o + t * (r2_e-r_o)\n",
    "r3 = r_o + t * r3_v"
   ]
  },
  {
   "cell_type": "markdown",
   "metadata": {
    "id": "pj040twzpX-c"
   },
   "source": [
    "Now we need to equate each ray with each part of the box:\n",
    "\n",
    "### Part 1 (ray 1):\n",
    "We need to solve four sets of simultaneous equations, just as we did in lectures (only this time Python takes care of this for us in one line per set of simultaneous equations!):"
   ]
  },
  {
   "cell_type": "code",
   "execution_count": 4,
   "metadata": {
    "colab": {
     "base_uri": "https://localhost:8080/"
    },
    "executionInfo": {
     "elapsed": 5,
     "status": "ok",
     "timestamp": 1683302756186,
     "user": {
      "displayName": "James Threlfall",
      "userId": "12893452708265254015"
     },
     "user_tz": -60
    },
    "id": "HU-0_p3Ejr-X",
    "outputId": "bcc12f6c-1e2c-4080-8be3-9d973afc9b2d"
   },
   "outputs": [
    {
     "name": "stdout",
     "output_type": "stream",
     "text": [
      "[{u: 4/3, t: 6/7}, {u: 1/6, t: 3/7}, {u: 2/3, t: 4/7}, []]\n"
     ]
    }
   ],
   "source": [
    "s1AB = sym.solve(r1-AB,(u,t))\n",
    "s1CD = sym.solve(r1-CD,(u,t))\n",
    "s1BC = sym.solve(r1-BC,(u,t))\n",
    "s1AD = sym.solve(r1-AD,(u,t))\n",
    "allsols = [s1AB, s1CD, s1BC, s1AD]\n",
    "print(allsols)"
   ]
  },
  {
   "cell_type": "markdown",
   "metadata": {
    "id": "tF-9gE_wpzdV"
   },
   "source": [
    "Python has found 3 sets of solutions. \n",
    "\n",
    "You can see that the first in the list returns $u=4/3$. Since each line segment for the box relies on specific parameter ranges, $0 < u < 1$, we can reject this solution. (For completeness, a solution like this means that if the side of the box, in this case AB, were *extended*, it would then likely intersect the ray).\n",
    "\n",
    "We can now convert the symbolic expressions into numbers, and substitute these back into our ray equation to find locations of intersection (labelled with entry or exit depending on size of $t$):"
   ]
  },
  {
   "cell_type": "code",
   "execution_count": 5,
   "metadata": {
    "colab": {
     "base_uri": "https://localhost:8080/"
    },
    "executionInfo": {
     "elapsed": 222,
     "status": "ok",
     "timestamp": 1683302756405,
     "user": {
      "displayName": "James Threlfall",
      "userId": "12893452708265254015"
     },
     "user_tz": -60
    },
    "id": "4um5xO2KlW27",
    "outputId": "bc4d325d-ccc1-4c39-881a-95ec3fd74ef9"
   },
   "outputs": [
    {
     "name": "stdout",
     "output_type": "stream",
     "text": [
      "CD intersection at (8.000,5.000) [ENTRY]\n",
      "BC intersection at (9.000,4.000) [EXIT]\n"
     ]
    }
   ],
   "source": [
    "CDt = list(s1CD.values())[1].evalf()\n",
    "CDi = r1.subs(t,list(s1CD.values())[1].evalf())\n",
    "CDia = np.array(CDi.tolist()[0],dtype='float64')\n",
    "BCt = list(s1BC.values())[1].evalf()\n",
    "BCi = r1.subs(t,list(s1BC.values())[1].evalf())\n",
    "BCia = np.array(BCi.tolist()[0],dtype='float64')\n",
    "if CDt < BCt:\n",
    "  CDstr = \"[ENTRY]\"\n",
    "  BCstr = \"[EXIT]\"\n",
    "else:\n",
    "  CDstr = \"[EXIT]\"\n",
    "  BCstr = \"[ENTRY]\"\n",
    "print(\"CD intersection at ({:0.3f},{:0.3f}) {}\".format(CDia[0], CDia[1], CDstr))\n",
    "print(\"BC intersection at ({:0.3f},{:0.3f}) {}\".format(BCia[0], BCia[1], BCstr))"
   ]
  },
  {
   "cell_type": "markdown",
   "metadata": {
    "id": "kfw3TSDiQ1Su"
   },
   "source": [
    "We should check this result visually with a plot:"
   ]
  },
  {
   "cell_type": "code",
   "execution_count": 6,
   "metadata": {
    "colab": {
     "base_uri": "https://localhost:8080/",
     "height": 455
    },
    "executionInfo": {
     "elapsed": 283,
     "status": "ok",
     "timestamp": 1683302756686,
     "user": {
      "displayName": "James Threlfall",
      "userId": "12893452708265254015"
     },
     "user_tz": -60
    },
    "id": "4tvvW76XDOUk",
    "outputId": "c2b558f5-53cb-45ae-f41c-ec9cc13d9303"
   },
   "outputs": [
    {
     "data": {
      "image/png": "[encoded data removed]",
      "text/plain": [
       "<Figure size 432x288 with 1 Axes>"
      ]
     },
     "metadata": {
      "filenames": {
       "image/png": "/Users/jamesthrelfall/Programs/JTpython/Teaching_Examples/2024/MAT202_Python/_build/jupyter_execute/methods/MAT202M_RaysBoxes_12_0.png"
      },
      "needs_background": "light"
     },
     "output_type": "display_data"
    }
   ],
   "source": [
    "x_vals = np.array([A[0], B[0], C[0], D[0]])\n",
    "y_vals = np.array([A[1], B[1], C[1], D[1]])\n",
    "p = np.array([x_vals, y_vals])\n",
    "lx=np.append(x_vals,x_vals[0]) #array of vertices to draw (appended so closing box)\n",
    "ly=np.append(y_vals,y_vals[0])\n",
    "plt.plot(lx, ly, 'ko', linestyle=\"-\")\n",
    "plt.text(A[0]+0.25,A[1]+0.25,\"A\")\n",
    "plt.text(B[0]+0.25,B[1]+0.25,\"B\")\n",
    "plt.text(C[0]+0.25,C[1]+0.25,\"C\")\n",
    "plt.text(D[0]+0.25,D[1]+0.25,\"D\")\n",
    "ro = np.array(r_o.tolist()[0],dtype='float64') #convert ray origin to numpy array\n",
    "r1e = np.array(r1_e.tolist()[0],dtype='float64') #convert ray end to numpy array\n",
    "plt.quiver(ro[0], ro[1], r1e[0]-ro[0], r1e[1]-ro[1], angles=\"xy\", scale_units=\"xy\", scale = 1, color=\"Red\")\n",
    "plt.text(r_o[0]+0.25,r_o[1],\"origin\", color='r')\n",
    "plt.plot(CDia[0], CDia[1], 'bD')\n",
    "plt.text(CDia[0]-0.25,CD[1]+0.5,\"entry\", color='b')\n",
    "plt.plot(BCia[0], BCia[1], 'bD')\n",
    "plt.text(BCia[0]+0.25,BCia[1]+0.25,\"exit\", color='b')\n",
    "plt.ylim([-5,10])\n",
    "plt.xlim([0,15])\n",
    "plt.ylabel('y')\n",
    "plt.xlabel('x')\n",
    "plt.gca().set_aspect('equal')\n",
    "plt.show()"
   ]
  },
  {
   "cell_type": "markdown",
   "metadata": {
    "id": "_6AhzRbUJj4l"
   },
   "source": [
    "This does appear to agree with our solutions from the lectures: an entry into the box at $(8,5)$ $\\left(t=\\frac{3}{7}\\right)$, and exiting the box at $(9,4)$ $\\left(t=\\frac{4}{7}\\right)$."
   ]
  },
  {
   "cell_type": "markdown",
   "metadata": {
    "id": "4NKwEqxWpptY"
   },
   "source": [
    "### Part 2 (ray 2)\n",
    "Part 2 follows a similar procedure to Part 1:"
   ]
  },
  {
   "cell_type": "code",
   "execution_count": 7,
   "metadata": {
    "colab": {
     "base_uri": "https://localhost:8080/"
    },
    "executionInfo": {
     "elapsed": 367,
     "status": "ok",
     "timestamp": 1683302757049,
     "user": {
      "displayName": "James Threlfall",
      "userId": "12893452708265254015"
     },
     "user_tz": -60
    },
    "id": "q-jOJfFDK6Xz",
    "outputId": "2f556550-1cb3-484b-d73f-cc4c9ea3db66"
   },
   "outputs": [
    {
     "name": "stdout",
     "output_type": "stream",
     "text": [
      "[{u: 7/3, t: 3/2}, [], {u: 4/3, t: 1/2}, []]\n"
     ]
    }
   ],
   "source": [
    "s2AB = sym.solve(r2-AB,(u,t))\n",
    "s2CD = sym.solve(r2-CD,(u,t))\n",
    "s2BC = sym.solve(r2-BC,(u,t))\n",
    "s2AD = sym.solve(r2-AD,(u,t))\n",
    "allsols2 = [s2AB, s2CD, s2BC, s2AD]\n",
    "print(allsols2)"
   ]
  },
  {
   "cell_type": "markdown",
   "metadata": {
    "id": "G9KTc-YmKMdM"
   },
   "source": [
    "You can immediately see from the above solutions that this ray is not expected to intersect the box: only two solutions are returned, but both values of $u$ are outside the acceptable range $0\\le u\\le 1$. A plot should confirm this:"
   ]
  },
  {
   "cell_type": "code",
   "execution_count": 8,
   "metadata": {
    "colab": {
     "base_uri": "https://localhost:8080/",
     "height": 455
    },
    "executionInfo": {
     "elapsed": 478,
     "status": "ok",
     "timestamp": 1683302757523,
     "user": {
      "displayName": "James Threlfall",
      "userId": "12893452708265254015"
     },
     "user_tz": -60
    },
    "id": "Kpx89J2CLTpB",
    "outputId": "58d875cf-955a-4b61-d003-d89a61e61de8"
   },
   "outputs": [
    {
     "data": {
      "image/png": "[encoded data removed]",
      "text/plain": [
       "<Figure size 432x288 with 1 Axes>"
      ]
     },
     "metadata": {
      "filenames": {
       "image/png": "/Users/jamesthrelfall/Programs/JTpython/Teaching_Examples/2024/MAT202_Python/_build/jupyter_execute/methods/MAT202M_RaysBoxes_17_0.png"
      },
      "needs_background": "light"
     },
     "output_type": "display_data"
    }
   ],
   "source": [
    "plt.plot(lx, ly, 'ko', linestyle=\"-\")\n",
    "plt.text(A[0]+0.25,A[1]+0.25,\"A\")\n",
    "plt.text(B[0]+0.25,B[1]+0.25,\"B\")\n",
    "plt.text(C[0]+0.25,C[1]+0.25,\"C\")\n",
    "plt.text(D[0]+0.25,D[1]+0.25,\"D\")\n",
    "r2e = np.array(r2_e.tolist()[0],dtype='float64') #convert ray end to numpy array\n",
    "plt.quiver(ro[0], ro[1], r2e[0]-ro[0], r2e[1]-ro[1], angles=\"xy\", scale_units=\"xy\", scale = 1, color=\"g\")\n",
    "plt.text(r1e[0]+0.25,r1e[1]+0.25,\"Part 1\", color='r')\n",
    "plt.quiver(ro[0], ro[1], r1e[0]-ro[0], r1e[1]-ro[1], angles=\"xy\", scale_units=\"xy\", scale = 1, color=\"Red\")\n",
    "plt.text(r2e[0]+0.25,r2e[1]+0.25,\"Part 2\", color='g')\n",
    "plt.plot(CDia[0], CDia[1], 'bD')\n",
    "plt.plot(BCia[0], BCia[1], 'bD')\n",
    "plt.ylim([-5,10])\n",
    "plt.xlim([0,15])\n",
    "plt.ylabel('y')\n",
    "plt.xlabel('x')\n",
    "plt.gca().set_aspect('equal')\n",
    "plt.show()"
   ]
  },
  {
   "cell_type": "markdown",
   "metadata": {
    "id": "lMH1qMzOMuv4"
   },
   "source": [
    "### Part 3:"
   ]
  },
  {
   "cell_type": "code",
   "execution_count": 9,
   "metadata": {
    "colab": {
     "base_uri": "https://localhost:8080/"
    },
    "executionInfo": {
     "elapsed": 10,
     "status": "ok",
     "timestamp": 1683302757524,
     "user": {
      "displayName": "James Threlfall",
      "userId": "12893452708265254015"
     },
     "user_tz": -60
    },
    "id": "57amD6qWJjnG",
    "outputId": "ecf4a1b6-2464-49de-befa-b0fb93b6c511"
   },
   "outputs": [
    {
     "name": "stdout",
     "output_type": "stream",
     "text": [
      "[[], {u: 11/12, t: 3/2}, [], {u: 2/3, t: 2}]\n"
     ]
    }
   ],
   "source": [
    "s3AB = sym.solve(r3-AB,(u,t))\n",
    "s3CD = sym.solve(r3-CD,(u,t))\n",
    "s3BC = sym.solve(r3-BC,(u,t))\n",
    "s3AD = sym.solve(r3-AD,(u,t))\n",
    "allsols = [s3AB, s3CD, s3BC, s3AD]\n",
    "print(allsols)"
   ]
  },
  {
   "cell_type": "markdown",
   "metadata": {
    "id": "ZVXFmKylMswj"
   },
   "source": [
    "In the case of this final ray, we can see that the values of $u$ and $t$ returned lie in the correct ranges. Let us see what intercept values this returns and whether the values of $t$ correspond to entry or exit points:"
   ]
  },
  {
   "cell_type": "code",
   "execution_count": 10,
   "metadata": {
    "colab": {
     "base_uri": "https://localhost:8080/"
    },
    "executionInfo": {
     "elapsed": 9,
     "status": "ok",
     "timestamp": 1683302757524,
     "user": {
      "displayName": "James Threlfall",
      "userId": "12893452708265254015"
     },
     "user_tz": -60
    },
    "id": "sAOPQ2ilMb4B",
    "outputId": "d4cc58d5-0e54-4975-8b99-4cd54ddbd298"
   },
   "outputs": [
    {
     "name": "stdout",
     "output_type": "stream",
     "text": [
      "CD intersection at (3.500,5.000) [ENTRY]\n",
      "AD intersection at (3.000,4.000) [EXIT]\n"
     ]
    }
   ],
   "source": [
    "CDt3 = list(s3CD.values())[1].evalf()\n",
    "CDi3 = r3.subs(t,list(s3CD.values())[1].evalf())\n",
    "CDia3 = np.array(CDi3.tolist()[0],dtype='float64')\n",
    "ADt3 = list(s3AD.values())[1].evalf()\n",
    "ADi3 = r3.subs(t,list(s3AD.values())[1].evalf())\n",
    "ADia3 = np.array(ADi3.tolist()[0],dtype='float64')\n",
    "if CDt3 < ADt3:\n",
    "  CD3str = \"[ENTRY]\"\n",
    "  AD3str = \"[EXIT]\"\n",
    "else:\n",
    "  CD3str = \"[EXIT]\"\n",
    "  AD3str = \"[ENTRY]\"\n",
    "print(\"CD intersection at ({:0.3f},{:0.3f}) {}\".format(CDia3[0], CDia3[1], CD3str))\n",
    "print(\"AD intersection at ({:0.3f},{:0.3f}) {}\".format(ADia3[0], ADia3[1], AD3str))"
   ]
  },
  {
   "cell_type": "markdown",
   "metadata": {
    "id": "W3stG7TuPBOk"
   },
   "source": [
    "So we have an entry location in the same side of the rectangle as Part 1 (in CD), but the ray exits the rectangle via the face AD.\n",
    "\n",
    "Finally lets check what this all looks like visually to confirm our findings make sense:"
   ]
  },
  {
   "cell_type": "code",
   "execution_count": 11,
   "metadata": {
    "colab": {
     "base_uri": "https://localhost:8080/",
     "height": 455
    },
    "executionInfo": {
     "elapsed": 873,
     "status": "ok",
     "timestamp": 1683302786226,
     "user": {
      "displayName": "James Threlfall",
      "userId": "12893452708265254015"
     },
     "user_tz": -60
    },
    "id": "oS0qkTYlROAE",
    "outputId": "6eacc957-1cee-473d-8979-6054b4860880"
   },
   "outputs": [
    {
     "data": {
      "image/png": "[encoded data removed]",
      "text/plain": [
       "<Figure size 432x288 with 1 Axes>"
      ]
     },
     "metadata": {
      "filenames": {
       "image/png": "/Users/jamesthrelfall/Programs/JTpython/Teaching_Examples/2024/MAT202_Python/_build/jupyter_execute/methods/MAT202M_RaysBoxes_23_0.png"
      },
      "needs_background": "light"
     },
     "output_type": "display_data"
    }
   ],
   "source": [
    "plt.plot(lx, ly, 'ko', linestyle=\"-\")\n",
    "plt.text(A[0]+0.25,A[1]+0.25,\"A\")\n",
    "plt.text(B[0]+0.25,B[1]+0.25,\"B\")\n",
    "plt.text(C[0]+0.25,C[1]+0.25,\"C\")\n",
    "plt.text(D[0]+0.25,D[1]+0.25,\"D\")\n",
    "r3e = r3.subs(t,5)\n",
    "r3e = np.array(r3e.tolist()[0],dtype='float64') #convert ray end to numpy array\n",
    "plt.quiver(ro[0], ro[1], r3e[0]-ro[0], r3e[1]-ro[1], angles=\"xy\", scale_units=\"xy\", scale = 1, color=\"c\")\n",
    "plt.text(r3e[0]+0.5,r3e[1]+0.25,\"Part 3\", color='c')\n",
    "plt.quiver(ro[0], ro[1], r2e[0]-ro[0], r2e[1]-ro[1], angles=\"xy\", scale_units=\"xy\", scale = 1, color=\"g\")\n",
    "plt.text(r1e[0]+0.25,r1e[1]+0.25,\"Part 1\", color='r')\n",
    "plt.quiver(ro[0], ro[1], r1e[0]-ro[0], r1e[1]-ro[1], angles=\"xy\", scale_units=\"xy\", scale = 1, color=\"Red\")\n",
    "plt.text(r2e[0]+0.25,r2e[1]+0.25,\"Part 2\", color='g')\n",
    "plt.plot(CDia[0], CDia[1], 'bD')\n",
    "plt.plot(BCia[0], BCia[1], 'bD')\n",
    "plt.plot(CDia3[0], CDia3[1], 'mD')\n",
    "plt.plot(ADia3[0], ADia3[1], 'mD')\n",
    "plt.ylim([-5,10])\n",
    "plt.xlim([-5,15])\n",
    "plt.ylabel('y')\n",
    "plt.xlabel('x')\n",
    "plt.gca().set_aspect('equal')\n",
    "plt.show()"
   ]
  },
  {
   "cell_type": "markdown",
   "metadata": {
    "id": "mCWwoXqwRM_g"
   },
   "source": [
    "As expected, the image of the three parts of this question confirms our solutions. The intercept locations align with the different parts of the box and the rays that pass through them, while the ray which does not intersect the box yields no viable intersection locations."
   ]
  },
  {
   "cell_type": "markdown",
   "metadata": {
    "id": "gIN3FKqxMxH8"
   },
   "source": [
    "## Over to you\n",
    "Try some more examples from the lectures or the tutorial questions once you are satisfied with the mathematics"
   ]
  },
  {
   "cell_type": "code",
   "execution_count": null,
   "metadata": {
    "id": "GmKprnH5LoHq"
   },
   "outputs": [],
   "source": []
  }
 ],
 "metadata": {
  "colab": {
   "authorship_tag": "ABX9TyPQKBfOfSDgz255psUgIa5R",
   "provenance": [
    {
     "file_id": "1SyTG2aflEYYHz_27l0zl7816AkxafL2k",
     "timestamp": 1683212740819
    }
   ]
  },
  "kernelspec": {
   "display_name": "Python 3 (ipykernel)",
   "language": "python",
   "name": "python3"
  },
  "language_info": {
   "codemirror_mode": {
    "name": "ipython",
    "version": 3
   },
   "file_extension": ".py",
   "mimetype": "text/x-python",
   "name": "python",
   "nbconvert_exporter": "python",
   "pygments_lexer": "ipython3",
   "version": "3.9.19"
  }
 },
 "nbformat": 4,
 "nbformat_minor": 1
}